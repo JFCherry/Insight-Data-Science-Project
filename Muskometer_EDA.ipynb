{
 "cells": [
  {
   "cell_type": "markdown",
   "metadata": {},
   "source": [
    "# Muskometer\n",
    "## An NLP to anomalous behavior state classifier model for Elon Musk's (or any individual's) twitter usage history \n",
    "## by JJ Cherry [(@NeutrinoHalo)](https://twitter.com/NeutrinoHalo) for Insight DS20B"
   ]
  },
  {
   "cell_type": "markdown",
   "metadata": {},
   "source": [
    "The basic idea of this project is to take historical tweet data from Elon Musk and use that to construct a model of his mood based on his twitter usage patterns.  That mood model will be used as a predictive feature of Tesla/SpaceX stock price change prediction modelling."
   ]
  },
  {
   "cell_type": "markdown",
   "metadata": {},
   "source": [
    "Let's start the exploration by reading in the historical data I grabbed from Kaggle:\n",
    "- Elon Musk tweets from 2012 to 2017 https://www.kaggle.com/kulgen/elon-musks-tweets\n",
    "- Tesla stock price data https://www.kaggle.com/rpaguirre/tesla-stock-price"
   ]
  },
  {
   "cell_type": "code",
   "execution_count": 79,
   "metadata": {},
   "outputs": [],
   "source": [
    "import pandas as pd\n",
    "import seaborn as sbn\n",
    "import numpy as np\n",
    "import datetime as datetime\n",
    "from matplotlib import pyplot as plt\n",
    "import re\n",
    "from textblob import TextBlob"
   ]
  },
  {
   "cell_type": "code",
   "execution_count": 33,
   "metadata": {},
   "outputs": [],
   "source": [
    "tweets_df = pd.read_csv('./datasets_2931_4935_data_elonmusk.csv', encoding='latin1')\n",
    "tesla_stock_price_df = pd.read_csv('./datasets_1007_1814_Tesla.csv - Tesla.csv.csv')"
   ]
  },
  {
   "cell_type": "code",
   "execution_count": 34,
   "metadata": {},
   "outputs": [
    {
     "data": {
      "text/html": [
       "<div>\n",
       "<style scoped>\n",
       "    .dataframe tbody tr th:only-of-type {\n",
       "        vertical-align: middle;\n",
       "    }\n",
       "\n",
       "    .dataframe tbody tr th {\n",
       "        vertical-align: top;\n",
       "    }\n",
       "\n",
       "    .dataframe thead th {\n",
       "        text-align: right;\n",
       "    }\n",
       "</style>\n",
       "<table border=\"1\" class=\"dataframe\">\n",
       "  <thead>\n",
       "    <tr style=\"text-align: right;\">\n",
       "      <th></th>\n",
       "      <th>row ID</th>\n",
       "      <th>Tweet</th>\n",
       "      <th>Time</th>\n",
       "      <th>Retweet from</th>\n",
       "      <th>User</th>\n",
       "    </tr>\n",
       "  </thead>\n",
       "  <tbody>\n",
       "    <tr>\n",
       "      <th>0</th>\n",
       "      <td>Row0</td>\n",
       "      <td>@MeltingIce Assuming max acceleration of 2 to ...</td>\n",
       "      <td>2017-09-29 17:39:19</td>\n",
       "      <td>NaN</td>\n",
       "      <td>elonmusk</td>\n",
       "    </tr>\n",
       "    <tr>\n",
       "      <th>1</th>\n",
       "      <td>Row1</td>\n",
       "      <td>RT @SpaceX: BFR is capable of transporting sat...</td>\n",
       "      <td>2017-09-29 10:44:54</td>\n",
       "      <td>SpaceX</td>\n",
       "      <td>elonmusk</td>\n",
       "    </tr>\n",
       "    <tr>\n",
       "      <th>2</th>\n",
       "      <td>Row2</td>\n",
       "      <td>@bigajm Yup :)</td>\n",
       "      <td>2017-09-29 10:39:57</td>\n",
       "      <td>NaN</td>\n",
       "      <td>elonmusk</td>\n",
       "    </tr>\n",
       "    <tr>\n",
       "      <th>3</th>\n",
       "      <td>Row3</td>\n",
       "      <td>Part 2 https://t.co/8Fvu57muhM</td>\n",
       "      <td>2017-09-29 09:56:12</td>\n",
       "      <td>NaN</td>\n",
       "      <td>elonmusk</td>\n",
       "    </tr>\n",
       "    <tr>\n",
       "      <th>4</th>\n",
       "      <td>Row4</td>\n",
       "      <td>Fly to most places on Earth in under 30 mins a...</td>\n",
       "      <td>2017-09-29 09:19:21</td>\n",
       "      <td>NaN</td>\n",
       "      <td>elonmusk</td>\n",
       "    </tr>\n",
       "  </tbody>\n",
       "</table>\n",
       "</div>"
      ],
      "text/plain": [
       "  row ID                                              Tweet  \\\n",
       "0   Row0  @MeltingIce Assuming max acceleration of 2 to ...   \n",
       "1   Row1  RT @SpaceX: BFR is capable of transporting sat...   \n",
       "2   Row2                                     @bigajm Yup :)   \n",
       "3   Row3                     Part 2 https://t.co/8Fvu57muhM   \n",
       "4   Row4  Fly to most places on Earth in under 30 mins a...   \n",
       "\n",
       "                  Time Retweet from      User  \n",
       "0  2017-09-29 17:39:19          NaN  elonmusk  \n",
       "1  2017-09-29 10:44:54       SpaceX  elonmusk  \n",
       "2  2017-09-29 10:39:57          NaN  elonmusk  \n",
       "3  2017-09-29 09:56:12          NaN  elonmusk  \n",
       "4  2017-09-29 09:19:21          NaN  elonmusk  "
      ]
     },
     "execution_count": 34,
     "metadata": {},
     "output_type": "execute_result"
    }
   ],
   "source": [
    "tweets_df.head()"
   ]
  },
  {
   "cell_type": "code",
   "execution_count": 35,
   "metadata": {},
   "outputs": [
    {
     "data": {
      "text/html": [
       "<div>\n",
       "<style scoped>\n",
       "    .dataframe tbody tr th:only-of-type {\n",
       "        vertical-align: middle;\n",
       "    }\n",
       "\n",
       "    .dataframe tbody tr th {\n",
       "        vertical-align: top;\n",
       "    }\n",
       "\n",
       "    .dataframe thead th {\n",
       "        text-align: right;\n",
       "    }\n",
       "</style>\n",
       "<table border=\"1\" class=\"dataframe\">\n",
       "  <thead>\n",
       "    <tr style=\"text-align: right;\">\n",
       "      <th></th>\n",
       "      <th>row ID</th>\n",
       "      <th>Tweet</th>\n",
       "      <th>Time</th>\n",
       "      <th>Retweet from</th>\n",
       "      <th>User</th>\n",
       "    </tr>\n",
       "  </thead>\n",
       "  <tbody>\n",
       "    <tr>\n",
       "      <th>count</th>\n",
       "      <td>3218</td>\n",
       "      <td>3218</td>\n",
       "      <td>3218</td>\n",
       "      <td>525</td>\n",
       "      <td>3218</td>\n",
       "    </tr>\n",
       "    <tr>\n",
       "      <th>unique</th>\n",
       "      <td>3218</td>\n",
       "      <td>3216</td>\n",
       "      <td>3217</td>\n",
       "      <td>201</td>\n",
       "      <td>1</td>\n",
       "    </tr>\n",
       "    <tr>\n",
       "      <th>top</th>\n",
       "      <td>Row2678</td>\n",
       "      <td>Best saying ever ?@temochdez: there is a sayin...</td>\n",
       "      <td>2013-07-24 10:49:13</td>\n",
       "      <td>SpaceX</td>\n",
       "      <td>elonmusk</td>\n",
       "    </tr>\n",
       "    <tr>\n",
       "      <th>freq</th>\n",
       "      <td>1</td>\n",
       "      <td>2</td>\n",
       "      <td>2</td>\n",
       "      <td>109</td>\n",
       "      <td>3218</td>\n",
       "    </tr>\n",
       "  </tbody>\n",
       "</table>\n",
       "</div>"
      ],
      "text/plain": [
       "         row ID                                              Tweet  \\\n",
       "count      3218                                               3218   \n",
       "unique     3218                                               3216   \n",
       "top     Row2678  Best saying ever ?@temochdez: there is a sayin...   \n",
       "freq          1                                                  2   \n",
       "\n",
       "                       Time Retweet from      User  \n",
       "count                  3218          525      3218  \n",
       "unique                 3217          201         1  \n",
       "top     2013-07-24 10:49:13       SpaceX  elonmusk  \n",
       "freq                      2          109      3218  "
      ]
     },
     "execution_count": 35,
     "metadata": {},
     "output_type": "execute_result"
    }
   ],
   "source": [
    "tweets_df.describe()"
   ]
  },
  {
   "cell_type": "code",
   "execution_count": 36,
   "metadata": {},
   "outputs": [
    {
     "data": {
      "text/html": [
       "<div>\n",
       "<style scoped>\n",
       "    .dataframe tbody tr th:only-of-type {\n",
       "        vertical-align: middle;\n",
       "    }\n",
       "\n",
       "    .dataframe tbody tr th {\n",
       "        vertical-align: top;\n",
       "    }\n",
       "\n",
       "    .dataframe thead th {\n",
       "        text-align: right;\n",
       "    }\n",
       "</style>\n",
       "<table border=\"1\" class=\"dataframe\">\n",
       "  <thead>\n",
       "    <tr style=\"text-align: right;\">\n",
       "      <th></th>\n",
       "      <th>Date</th>\n",
       "      <th>Open</th>\n",
       "      <th>High</th>\n",
       "      <th>Low</th>\n",
       "      <th>Close</th>\n",
       "      <th>Volume</th>\n",
       "      <th>Adj Close</th>\n",
       "    </tr>\n",
       "  </thead>\n",
       "  <tbody>\n",
       "    <tr>\n",
       "      <th>0</th>\n",
       "      <td>6/29/2010</td>\n",
       "      <td>19.000000</td>\n",
       "      <td>25.00</td>\n",
       "      <td>17.540001</td>\n",
       "      <td>23.889999</td>\n",
       "      <td>18766300</td>\n",
       "      <td>23.889999</td>\n",
       "    </tr>\n",
       "    <tr>\n",
       "      <th>1</th>\n",
       "      <td>6/30/2010</td>\n",
       "      <td>25.790001</td>\n",
       "      <td>30.42</td>\n",
       "      <td>23.299999</td>\n",
       "      <td>23.830000</td>\n",
       "      <td>17187100</td>\n",
       "      <td>23.830000</td>\n",
       "    </tr>\n",
       "    <tr>\n",
       "      <th>2</th>\n",
       "      <td>7/1/2010</td>\n",
       "      <td>25.000000</td>\n",
       "      <td>25.92</td>\n",
       "      <td>20.270000</td>\n",
       "      <td>21.959999</td>\n",
       "      <td>8218800</td>\n",
       "      <td>21.959999</td>\n",
       "    </tr>\n",
       "    <tr>\n",
       "      <th>3</th>\n",
       "      <td>7/2/2010</td>\n",
       "      <td>23.000000</td>\n",
       "      <td>23.10</td>\n",
       "      <td>18.709999</td>\n",
       "      <td>19.200001</td>\n",
       "      <td>5139800</td>\n",
       "      <td>19.200001</td>\n",
       "    </tr>\n",
       "    <tr>\n",
       "      <th>4</th>\n",
       "      <td>7/6/2010</td>\n",
       "      <td>20.000000</td>\n",
       "      <td>20.00</td>\n",
       "      <td>15.830000</td>\n",
       "      <td>16.110001</td>\n",
       "      <td>6866900</td>\n",
       "      <td>16.110001</td>\n",
       "    </tr>\n",
       "  </tbody>\n",
       "</table>\n",
       "</div>"
      ],
      "text/plain": [
       "        Date       Open   High        Low      Close    Volume  Adj Close\n",
       "0  6/29/2010  19.000000  25.00  17.540001  23.889999  18766300  23.889999\n",
       "1  6/30/2010  25.790001  30.42  23.299999  23.830000  17187100  23.830000\n",
       "2   7/1/2010  25.000000  25.92  20.270000  21.959999   8218800  21.959999\n",
       "3   7/2/2010  23.000000  23.10  18.709999  19.200001   5139800  19.200001\n",
       "4   7/6/2010  20.000000  20.00  15.830000  16.110001   6866900  16.110001"
      ]
     },
     "execution_count": 36,
     "metadata": {},
     "output_type": "execute_result"
    }
   ],
   "source": [
    "tesla_stock_price_df.head()"
   ]
  },
  {
   "cell_type": "code",
   "execution_count": 37,
   "metadata": {},
   "outputs": [
    {
     "data": {
      "text/html": [
       "<div>\n",
       "<style scoped>\n",
       "    .dataframe tbody tr th:only-of-type {\n",
       "        vertical-align: middle;\n",
       "    }\n",
       "\n",
       "    .dataframe tbody tr th {\n",
       "        vertical-align: top;\n",
       "    }\n",
       "\n",
       "    .dataframe thead th {\n",
       "        text-align: right;\n",
       "    }\n",
       "</style>\n",
       "<table border=\"1\" class=\"dataframe\">\n",
       "  <thead>\n",
       "    <tr style=\"text-align: right;\">\n",
       "      <th></th>\n",
       "      <th>Open</th>\n",
       "      <th>High</th>\n",
       "      <th>Low</th>\n",
       "      <th>Close</th>\n",
       "      <th>Volume</th>\n",
       "      <th>Adj Close</th>\n",
       "    </tr>\n",
       "  </thead>\n",
       "  <tbody>\n",
       "    <tr>\n",
       "      <th>count</th>\n",
       "      <td>1692.000000</td>\n",
       "      <td>1692.000000</td>\n",
       "      <td>1692.000000</td>\n",
       "      <td>1692.000000</td>\n",
       "      <td>1.692000e+03</td>\n",
       "      <td>1692.000000</td>\n",
       "    </tr>\n",
       "    <tr>\n",
       "      <th>mean</th>\n",
       "      <td>132.441572</td>\n",
       "      <td>134.769698</td>\n",
       "      <td>129.996223</td>\n",
       "      <td>132.428658</td>\n",
       "      <td>4.270741e+06</td>\n",
       "      <td>132.428658</td>\n",
       "    </tr>\n",
       "    <tr>\n",
       "      <th>std</th>\n",
       "      <td>94.309923</td>\n",
       "      <td>95.694914</td>\n",
       "      <td>92.855227</td>\n",
       "      <td>94.313187</td>\n",
       "      <td>4.295971e+06</td>\n",
       "      <td>94.313187</td>\n",
       "    </tr>\n",
       "    <tr>\n",
       "      <th>min</th>\n",
       "      <td>16.139999</td>\n",
       "      <td>16.629999</td>\n",
       "      <td>14.980000</td>\n",
       "      <td>15.800000</td>\n",
       "      <td>1.185000e+05</td>\n",
       "      <td>15.800000</td>\n",
       "    </tr>\n",
       "    <tr>\n",
       "      <th>25%</th>\n",
       "      <td>30.000000</td>\n",
       "      <td>30.650000</td>\n",
       "      <td>29.214999</td>\n",
       "      <td>29.884999</td>\n",
       "      <td>1.194350e+06</td>\n",
       "      <td>29.884999</td>\n",
       "    </tr>\n",
       "    <tr>\n",
       "      <th>50%</th>\n",
       "      <td>156.334999</td>\n",
       "      <td>162.370002</td>\n",
       "      <td>153.150002</td>\n",
       "      <td>158.160004</td>\n",
       "      <td>3.180700e+06</td>\n",
       "      <td>158.160004</td>\n",
       "    </tr>\n",
       "    <tr>\n",
       "      <th>75%</th>\n",
       "      <td>220.557495</td>\n",
       "      <td>224.099999</td>\n",
       "      <td>217.119999</td>\n",
       "      <td>220.022503</td>\n",
       "      <td>5.662100e+06</td>\n",
       "      <td>220.022503</td>\n",
       "    </tr>\n",
       "    <tr>\n",
       "      <th>max</th>\n",
       "      <td>287.670013</td>\n",
       "      <td>291.420013</td>\n",
       "      <td>280.399994</td>\n",
       "      <td>286.040009</td>\n",
       "      <td>3.716390e+07</td>\n",
       "      <td>286.040009</td>\n",
       "    </tr>\n",
       "  </tbody>\n",
       "</table>\n",
       "</div>"
      ],
      "text/plain": [
       "              Open         High          Low        Close        Volume  \\\n",
       "count  1692.000000  1692.000000  1692.000000  1692.000000  1.692000e+03   \n",
       "mean    132.441572   134.769698   129.996223   132.428658  4.270741e+06   \n",
       "std      94.309923    95.694914    92.855227    94.313187  4.295971e+06   \n",
       "min      16.139999    16.629999    14.980000    15.800000  1.185000e+05   \n",
       "25%      30.000000    30.650000    29.214999    29.884999  1.194350e+06   \n",
       "50%     156.334999   162.370002   153.150002   158.160004  3.180700e+06   \n",
       "75%     220.557495   224.099999   217.119999   220.022503  5.662100e+06   \n",
       "max     287.670013   291.420013   280.399994   286.040009  3.716390e+07   \n",
       "\n",
       "         Adj Close  \n",
       "count  1692.000000  \n",
       "mean    132.428658  \n",
       "std      94.313187  \n",
       "min      15.800000  \n",
       "25%      29.884999  \n",
       "50%     158.160004  \n",
       "75%     220.022503  \n",
       "max     286.040009  "
      ]
     },
     "execution_count": 37,
     "metadata": {},
     "output_type": "execute_result"
    }
   ],
   "source": [
    "tesla_stock_price_df.describe()"
   ]
  },
  {
   "cell_type": "markdown",
   "metadata": {},
   "source": [
    "Pretty bare bones stuff, but this should be enough to get us going with our data munging.  Let's begin with tidying up the tweet data to remove special characters and punctuation."
   ]
  },
  {
   "cell_type": "code",
   "execution_count": 38,
   "metadata": {},
   "outputs": [
    {
     "data": {
      "text/html": [
       "<div>\n",
       "<style scoped>\n",
       "    .dataframe tbody tr th:only-of-type {\n",
       "        vertical-align: middle;\n",
       "    }\n",
       "\n",
       "    .dataframe tbody tr th {\n",
       "        vertical-align: top;\n",
       "    }\n",
       "\n",
       "    .dataframe thead th {\n",
       "        text-align: right;\n",
       "    }\n",
       "</style>\n",
       "<table border=\"1\" class=\"dataframe\">\n",
       "  <thead>\n",
       "    <tr style=\"text-align: right;\">\n",
       "      <th></th>\n",
       "      <th>row ID</th>\n",
       "      <th>Tweet</th>\n",
       "      <th>Time</th>\n",
       "      <th>Retweet from</th>\n",
       "      <th>User</th>\n",
       "    </tr>\n",
       "  </thead>\n",
       "  <tbody>\n",
       "    <tr>\n",
       "      <th>0</th>\n",
       "      <td>Row0</td>\n",
       "      <td>assuming max acceleration of 2 to 3 g's, but ...</td>\n",
       "      <td>2017-09-29 17:39:19</td>\n",
       "      <td>NaN</td>\n",
       "      <td>elonmusk</td>\n",
       "    </tr>\n",
       "    <tr>\n",
       "      <th>1</th>\n",
       "      <td>Row1</td>\n",
       "      <td>bfr is capable of transporting satellites to...</td>\n",
       "      <td>2017-09-29 10:44:54</td>\n",
       "      <td>SpaceX</td>\n",
       "      <td>elonmusk</td>\n",
       "    </tr>\n",
       "    <tr>\n",
       "      <th>2</th>\n",
       "      <td>Row2</td>\n",
       "      <td>yup  )</td>\n",
       "      <td>2017-09-29 10:39:57</td>\n",
       "      <td>NaN</td>\n",
       "      <td>elonmusk</td>\n",
       "    </tr>\n",
       "    <tr>\n",
       "      <th>3</th>\n",
       "      <td>Row3</td>\n",
       "      <td>part 2</td>\n",
       "      <td>2017-09-29 09:56:12</td>\n",
       "      <td>NaN</td>\n",
       "      <td>elonmusk</td>\n",
       "    </tr>\n",
       "    <tr>\n",
       "      <th>4</th>\n",
       "      <td>Row4</td>\n",
       "      <td>fly to most places on earth in under 30 mins a...</td>\n",
       "      <td>2017-09-29 09:19:21</td>\n",
       "      <td>NaN</td>\n",
       "      <td>elonmusk</td>\n",
       "    </tr>\n",
       "  </tbody>\n",
       "</table>\n",
       "</div>"
      ],
      "text/plain": [
       "  row ID                                              Tweet  \\\n",
       "0   Row0   assuming max acceleration of 2 to 3 g's, but ...   \n",
       "1   Row1    bfr is capable of transporting satellites to...   \n",
       "2   Row2                                             yup  )   \n",
       "3   Row3                                            part 2    \n",
       "4   Row4  fly to most places on earth in under 30 mins a...   \n",
       "\n",
       "                  Time Retweet from      User  \n",
       "0  2017-09-29 17:39:19          NaN  elonmusk  \n",
       "1  2017-09-29 10:44:54       SpaceX  elonmusk  \n",
       "2  2017-09-29 10:39:57          NaN  elonmusk  \n",
       "3  2017-09-29 09:56:12          NaN  elonmusk  \n",
       "4  2017-09-29 09:19:21          NaN  elonmusk  "
      ]
     },
     "execution_count": 38,
     "metadata": {},
     "output_type": "execute_result"
    }
   ],
   "source": [
    "def standardize_text(df, text_field):\n",
    "    df[text_field] = df[text_field].str.replace(r\"http\\S+\", \"\")\n",
    "    df[text_field] = df[text_field].str.replace(r\"http\", \"\")\n",
    "    df[text_field] = df[text_field].str.replace(r\"@\\S+\", \"\")\n",
    "    df[text_field] = df[text_field].str.replace(r\"RT\", \"\")\n",
    "    df[text_field] = df[text_field].str.replace(r\"[^A-Za-z0-9(),!?@\\'\\`\\\"\\_\\n]\", \" \")\n",
    "    df[text_field] = df[text_field].str.replace(r\"@\", \"at\")\n",
    "    df[text_field] = df[text_field].str.lower()\n",
    "    return df\n",
    "\n",
    "tweets_clean_df = standardize_text(tweets_df,\"Tweet\")\n",
    "tweets_clean_df.to_csv('./clean_tweets.csv')\n",
    "tweets_clean_df.head()"
   ]
  },
  {
   "cell_type": "code",
   "execution_count": 39,
   "metadata": {},
   "outputs": [],
   "source": [
    "# Analyse tweet using TextBlob  'positive' > 0., 'negative'<0. or 'neutral'==0.\n",
    "def get_tweet_sentiment(tweet):\n",
    "    # create TextBlob object of passed tweet text\n",
    "    tweet_analysis = TextBlob(tweet)\n",
    "    return tweet_analysis.sentiment.polarity"
   ]
  },
  {
   "cell_type": "code",
   "execution_count": 40,
   "metadata": {},
   "outputs": [],
   "source": [
    "tweets_clean_df['Sentiment'] = tweets_clean_df.apply(lambda row : get_tweet_sentiment(row['Tweet']), axis=1)"
   ]
  },
  {
   "cell_type": "code",
   "execution_count": 41,
   "metadata": {},
   "outputs": [
    {
     "data": {
      "text/html": [
       "<div>\n",
       "<style scoped>\n",
       "    .dataframe tbody tr th:only-of-type {\n",
       "        vertical-align: middle;\n",
       "    }\n",
       "\n",
       "    .dataframe tbody tr th {\n",
       "        vertical-align: top;\n",
       "    }\n",
       "\n",
       "    .dataframe thead th {\n",
       "        text-align: right;\n",
       "    }\n",
       "</style>\n",
       "<table border=\"1\" class=\"dataframe\">\n",
       "  <thead>\n",
       "    <tr style=\"text-align: right;\">\n",
       "      <th></th>\n",
       "      <th>Sentiment</th>\n",
       "    </tr>\n",
       "  </thead>\n",
       "  <tbody>\n",
       "    <tr>\n",
       "      <th>count</th>\n",
       "      <td>3218.000000</td>\n",
       "    </tr>\n",
       "    <tr>\n",
       "      <th>mean</th>\n",
       "      <td>0.127829</td>\n",
       "    </tr>\n",
       "    <tr>\n",
       "      <th>std</th>\n",
       "      <td>0.269016</td>\n",
       "    </tr>\n",
       "    <tr>\n",
       "      <th>min</th>\n",
       "      <td>-1.000000</td>\n",
       "    </tr>\n",
       "    <tr>\n",
       "      <th>25%</th>\n",
       "      <td>0.000000</td>\n",
       "    </tr>\n",
       "    <tr>\n",
       "      <th>50%</th>\n",
       "      <td>0.000000</td>\n",
       "    </tr>\n",
       "    <tr>\n",
       "      <th>75%</th>\n",
       "      <td>0.250000</td>\n",
       "    </tr>\n",
       "    <tr>\n",
       "      <th>max</th>\n",
       "      <td>1.000000</td>\n",
       "    </tr>\n",
       "  </tbody>\n",
       "</table>\n",
       "</div>"
      ],
      "text/plain": [
       "         Sentiment\n",
       "count  3218.000000\n",
       "mean      0.127829\n",
       "std       0.269016\n",
       "min      -1.000000\n",
       "25%       0.000000\n",
       "50%       0.000000\n",
       "75%       0.250000\n",
       "max       1.000000"
      ]
     },
     "execution_count": 41,
     "metadata": {},
     "output_type": "execute_result"
    }
   ],
   "source": [
    "tweets_clean_df.describe()"
   ]
  },
  {
   "cell_type": "code",
   "execution_count": 56,
   "metadata": {},
   "outputs": [],
   "source": [
    "def get_tweet_sentiment_class(tweet_polarity):\n",
    "    # set sentiment\n",
    "    if tweet_polarity > 0.:\n",
    "        return 'positive'\n",
    "    elif tweet_polarity == 0.:\n",
    "        return 'neutral'\n",
    "    else:\n",
    "        return 'negative'\n",
    "tweets_clean_df['Class_Sentiment'] = tweets_clean_df.apply(lambda row : get_tweet_sentiment_class(row['Sentiment']), axis=1)"
   ]
  },
  {
   "cell_type": "markdown",
   "metadata": {},
   "source": [
    "It seems that Mr. Musk is actually a net positive guy!  Let's continue cleaning."
   ]
  },
  {
   "cell_type": "code",
   "execution_count": 42,
   "metadata": {},
   "outputs": [],
   "source": [
    "# Drop unwanted columns\n",
    "tweets_clean_df = tweets_clean_df.drop('row ID',1)\n",
    "tweets_clean_df = tweets_clean_df.drop('User',1)"
   ]
  },
  {
   "cell_type": "code",
   "execution_count": 57,
   "metadata": {},
   "outputs": [
    {
     "data": {
      "text/html": [
       "<div>\n",
       "<style scoped>\n",
       "    .dataframe tbody tr th:only-of-type {\n",
       "        vertical-align: middle;\n",
       "    }\n",
       "\n",
       "    .dataframe tbody tr th {\n",
       "        vertical-align: top;\n",
       "    }\n",
       "\n",
       "    .dataframe thead th {\n",
       "        text-align: right;\n",
       "    }\n",
       "</style>\n",
       "<table border=\"1\" class=\"dataframe\">\n",
       "  <thead>\n",
       "    <tr style=\"text-align: right;\">\n",
       "      <th></th>\n",
       "      <th>Tweet</th>\n",
       "      <th>Time</th>\n",
       "      <th>Retweet from</th>\n",
       "      <th>Sentiment</th>\n",
       "      <th>delta_Time</th>\n",
       "      <th>Class_Sentiment</th>\n",
       "    </tr>\n",
       "  </thead>\n",
       "  <tbody>\n",
       "    <tr>\n",
       "      <th>0</th>\n",
       "      <td>assuming max acceleration of 2 to 3 g's, but ...</td>\n",
       "      <td>2017-09-29 17:39:19</td>\n",
       "      <td>NaN</td>\n",
       "      <td>0.366667</td>\n",
       "      <td>00:00:00</td>\n",
       "      <td>positive</td>\n",
       "    </tr>\n",
       "    <tr>\n",
       "      <th>1</th>\n",
       "      <td>bfr is capable of transporting satellites to...</td>\n",
       "      <td>2017-09-29 10:44:54</td>\n",
       "      <td>SpaceX</td>\n",
       "      <td>0.200000</td>\n",
       "      <td>-1 days +17:05:35</td>\n",
       "      <td>positive</td>\n",
       "    </tr>\n",
       "    <tr>\n",
       "      <th>2</th>\n",
       "      <td>yup  )</td>\n",
       "      <td>2017-09-29 10:39:57</td>\n",
       "      <td>NaN</td>\n",
       "      <td>0.000000</td>\n",
       "      <td>-1 days +23:55:03</td>\n",
       "      <td>neutral</td>\n",
       "    </tr>\n",
       "    <tr>\n",
       "      <th>3</th>\n",
       "      <td>part 2</td>\n",
       "      <td>2017-09-29 09:56:12</td>\n",
       "      <td>NaN</td>\n",
       "      <td>0.000000</td>\n",
       "      <td>-1 days +23:16:15</td>\n",
       "      <td>neutral</td>\n",
       "    </tr>\n",
       "    <tr>\n",
       "      <th>4</th>\n",
       "      <td>fly to most places on earth in under 30 mins a...</td>\n",
       "      <td>2017-09-29 09:19:21</td>\n",
       "      <td>NaN</td>\n",
       "      <td>0.650000</td>\n",
       "      <td>-1 days +23:23:09</td>\n",
       "      <td>positive</td>\n",
       "    </tr>\n",
       "  </tbody>\n",
       "</table>\n",
       "</div>"
      ],
      "text/plain": [
       "                                               Tweet                Time  \\\n",
       "0   assuming max acceleration of 2 to 3 g's, but ... 2017-09-29 17:39:19   \n",
       "1    bfr is capable of transporting satellites to... 2017-09-29 10:44:54   \n",
       "2                                             yup  ) 2017-09-29 10:39:57   \n",
       "3                                            part 2  2017-09-29 09:56:12   \n",
       "4  fly to most places on earth in under 30 mins a... 2017-09-29 09:19:21   \n",
       "\n",
       "  Retweet from  Sentiment        delta_Time Class_Sentiment  \n",
       "0          NaN   0.366667          00:00:00        positive  \n",
       "1       SpaceX   0.200000 -1 days +17:05:35        positive  \n",
       "2          NaN   0.000000 -1 days +23:55:03         neutral  \n",
       "3          NaN   0.000000 -1 days +23:16:15         neutral  \n",
       "4          NaN   0.650000 -1 days +23:23:09        positive  "
      ]
     },
     "execution_count": 57,
     "metadata": {},
     "output_type": "execute_result"
    }
   ],
   "source": [
    "tweets_clean_df.head()"
   ]
  },
  {
   "cell_type": "markdown",
   "metadata": {},
   "source": [
    "Generate a feature that is the instantaneous tweet frequency"
   ]
  },
  {
   "cell_type": "code",
   "execution_count": 44,
   "metadata": {},
   "outputs": [
    {
     "data": {
      "text/plain": [
       "0      2017-09-29 17:39:19\n",
       "1      2017-09-29 10:44:54\n",
       "2      2017-09-29 10:39:57\n",
       "3      2017-09-29 09:56:12\n",
       "4      2017-09-29 09:19:21\n",
       "               ...        \n",
       "3213   2012-11-20 08:52:03\n",
       "3214   2012-11-20 08:38:31\n",
       "3215   2012-11-20 08:30:44\n",
       "3216   2012-11-19 08:59:46\n",
       "3217   2012-11-16 17:59:47\n",
       "Name: Time, Length: 3218, dtype: datetime64[ns]"
      ]
     },
     "execution_count": 44,
     "metadata": {},
     "output_type": "execute_result"
    }
   ],
   "source": [
    "# Convert 'Time' column to datetime and strip time information.\n",
    "tweets_clean_df['Time'] = pd.to_datetime(tweets_clean_df['Time'])#.dt.date\n",
    "tweets_clean_df['Time']"
   ]
  },
  {
   "cell_type": "code",
   "execution_count": 52,
   "metadata": {},
   "outputs": [
    {
     "data": {
      "text/plain": [
       "numpy.timedelta64(1,'D')"
      ]
     },
     "execution_count": 52,
     "metadata": {},
     "output_type": "execute_result"
    }
   ],
   "source": [
    "np.timedelta64(1,'D')"
   ]
  },
  {
   "cell_type": "code",
   "execution_count": 104,
   "metadata": {},
   "outputs": [],
   "source": [
    "tweets_clean_df['delta_Time'] = abs(pd.to_timedelta((tweets_clean_df['Time']-tweets_clean_df['Time'].shift()).fillna(0.)).astype('timedelta64[s]')).replace(0.,60.)\n",
    "tweets_clean_df['log_delta_Time'] = np.log10(abs(pd.to_timedelta((tweets_clean_df['Time']-tweets_clean_df['Time'].shift()).fillna(0.)).astype('timedelta64[s]')).replace(0.,60.))"
   ]
  },
  {
   "cell_type": "code",
   "execution_count": 105,
   "metadata": {},
   "outputs": [
    {
     "data": {
      "text/html": [
       "<div>\n",
       "<style scoped>\n",
       "    .dataframe tbody tr th:only-of-type {\n",
       "        vertical-align: middle;\n",
       "    }\n",
       "\n",
       "    .dataframe tbody tr th {\n",
       "        vertical-align: top;\n",
       "    }\n",
       "\n",
       "    .dataframe thead th {\n",
       "        text-align: right;\n",
       "    }\n",
       "</style>\n",
       "<table border=\"1\" class=\"dataframe\">\n",
       "  <thead>\n",
       "    <tr style=\"text-align: right;\">\n",
       "      <th></th>\n",
       "      <th>Tweet</th>\n",
       "      <th>Time</th>\n",
       "      <th>Retweet from</th>\n",
       "      <th>Sentiment</th>\n",
       "      <th>delta_Time</th>\n",
       "      <th>Class_Sentiment</th>\n",
       "      <th>tokens</th>\n",
       "      <th>Tweet_Length</th>\n",
       "      <th>log_delta_Time</th>\n",
       "    </tr>\n",
       "  </thead>\n",
       "  <tbody>\n",
       "    <tr>\n",
       "      <th>0</th>\n",
       "      <td>assuming max acceleration of 2 to 3 g's, but ...</td>\n",
       "      <td>2017-09-29 17:39:19</td>\n",
       "      <td>NaN</td>\n",
       "      <td>0.366667</td>\n",
       "      <td>60.0</td>\n",
       "      <td>positive</td>\n",
       "      <td>[assuming, max, acceleration, of, 2, to, 3, g,...</td>\n",
       "      <td>21</td>\n",
       "      <td>1.778151</td>\n",
       "    </tr>\n",
       "    <tr>\n",
       "      <th>1</th>\n",
       "      <td>bfr is capable of transporting satellites to...</td>\n",
       "      <td>2017-09-29 10:44:54</td>\n",
       "      <td>SpaceX</td>\n",
       "      <td>0.200000</td>\n",
       "      <td>24865.0</td>\n",
       "      <td>positive</td>\n",
       "      <td>[bfr, is, capable, of, transporting, satellite...</td>\n",
       "      <td>20</td>\n",
       "      <td>4.395588</td>\n",
       "    </tr>\n",
       "    <tr>\n",
       "      <th>2</th>\n",
       "      <td>yup  )</td>\n",
       "      <td>2017-09-29 10:39:57</td>\n",
       "      <td>NaN</td>\n",
       "      <td>0.000000</td>\n",
       "      <td>297.0</td>\n",
       "      <td>neutral</td>\n",
       "      <td>[yup]</td>\n",
       "      <td>1</td>\n",
       "      <td>2.472756</td>\n",
       "    </tr>\n",
       "    <tr>\n",
       "      <th>3</th>\n",
       "      <td>part 2</td>\n",
       "      <td>2017-09-29 09:56:12</td>\n",
       "      <td>NaN</td>\n",
       "      <td>0.000000</td>\n",
       "      <td>2625.0</td>\n",
       "      <td>neutral</td>\n",
       "      <td>[part, 2]</td>\n",
       "      <td>2</td>\n",
       "      <td>3.419129</td>\n",
       "    </tr>\n",
       "    <tr>\n",
       "      <th>4</th>\n",
       "      <td>fly to most places on earth in under 30 mins a...</td>\n",
       "      <td>2017-09-29 09:19:21</td>\n",
       "      <td>NaN</td>\n",
       "      <td>0.650000</td>\n",
       "      <td>2211.0</td>\n",
       "      <td>positive</td>\n",
       "      <td>[fly, to, most, places, on, earth, in, under, ...</td>\n",
       "      <td>20</td>\n",
       "      <td>3.344589</td>\n",
       "    </tr>\n",
       "  </tbody>\n",
       "</table>\n",
       "</div>"
      ],
      "text/plain": [
       "                                               Tweet                Time  \\\n",
       "0   assuming max acceleration of 2 to 3 g's, but ... 2017-09-29 17:39:19   \n",
       "1    bfr is capable of transporting satellites to... 2017-09-29 10:44:54   \n",
       "2                                             yup  ) 2017-09-29 10:39:57   \n",
       "3                                            part 2  2017-09-29 09:56:12   \n",
       "4  fly to most places on earth in under 30 mins a... 2017-09-29 09:19:21   \n",
       "\n",
       "  Retweet from  Sentiment  delta_Time Class_Sentiment  \\\n",
       "0          NaN   0.366667        60.0        positive   \n",
       "1       SpaceX   0.200000     24865.0        positive   \n",
       "2          NaN   0.000000       297.0         neutral   \n",
       "3          NaN   0.000000      2625.0         neutral   \n",
       "4          NaN   0.650000      2211.0        positive   \n",
       "\n",
       "                                              tokens  Tweet_Length  \\\n",
       "0  [assuming, max, acceleration, of, 2, to, 3, g,...            21   \n",
       "1  [bfr, is, capable, of, transporting, satellite...            20   \n",
       "2                                              [yup]             1   \n",
       "3                                          [part, 2]             2   \n",
       "4  [fly, to, most, places, on, earth, in, under, ...            20   \n",
       "\n",
       "   log_delta_Time  \n",
       "0        1.778151  \n",
       "1        4.395588  \n",
       "2        2.472756  \n",
       "3        3.419129  \n",
       "4        3.344589  "
      ]
     },
     "execution_count": 105,
     "metadata": {},
     "output_type": "execute_result"
    }
   ],
   "source": [
    "tweets_clean_df.head()"
   ]
  },
  {
   "cell_type": "markdown",
   "metadata": {},
   "source": [
    "Generate features that are the token words for each tweet and the total tweet length in words."
   ]
  },
  {
   "cell_type": "code",
   "execution_count": 59,
   "metadata": {},
   "outputs": [
    {
     "data": {
      "text/html": [
       "<div>\n",
       "<style scoped>\n",
       "    .dataframe tbody tr th:only-of-type {\n",
       "        vertical-align: middle;\n",
       "    }\n",
       "\n",
       "    .dataframe tbody tr th {\n",
       "        vertical-align: top;\n",
       "    }\n",
       "\n",
       "    .dataframe thead th {\n",
       "        text-align: right;\n",
       "    }\n",
       "</style>\n",
       "<table border=\"1\" class=\"dataframe\">\n",
       "  <thead>\n",
       "    <tr style=\"text-align: right;\">\n",
       "      <th></th>\n",
       "      <th>Tweet</th>\n",
       "      <th>Time</th>\n",
       "      <th>Retweet from</th>\n",
       "      <th>Sentiment</th>\n",
       "      <th>delta_Time</th>\n",
       "      <th>Class_Sentiment</th>\n",
       "      <th>tokens</th>\n",
       "      <th>Tweet_Length</th>\n",
       "    </tr>\n",
       "  </thead>\n",
       "  <tbody>\n",
       "    <tr>\n",
       "      <th>0</th>\n",
       "      <td>assuming max acceleration of 2 to 3 g's, but ...</td>\n",
       "      <td>2017-09-29 17:39:19</td>\n",
       "      <td>NaN</td>\n",
       "      <td>0.366667</td>\n",
       "      <td>00:00:00</td>\n",
       "      <td>positive</td>\n",
       "      <td>[assuming, max, acceleration, of, 2, to, 3, g,...</td>\n",
       "      <td>21</td>\n",
       "    </tr>\n",
       "    <tr>\n",
       "      <th>1</th>\n",
       "      <td>bfr is capable of transporting satellites to...</td>\n",
       "      <td>2017-09-29 10:44:54</td>\n",
       "      <td>SpaceX</td>\n",
       "      <td>0.200000</td>\n",
       "      <td>-1 days +17:05:35</td>\n",
       "      <td>positive</td>\n",
       "      <td>[bfr, is, capable, of, transporting, satellite...</td>\n",
       "      <td>20</td>\n",
       "    </tr>\n",
       "    <tr>\n",
       "      <th>2</th>\n",
       "      <td>yup  )</td>\n",
       "      <td>2017-09-29 10:39:57</td>\n",
       "      <td>NaN</td>\n",
       "      <td>0.000000</td>\n",
       "      <td>-1 days +23:55:03</td>\n",
       "      <td>neutral</td>\n",
       "      <td>[yup]</td>\n",
       "      <td>1</td>\n",
       "    </tr>\n",
       "    <tr>\n",
       "      <th>3</th>\n",
       "      <td>part 2</td>\n",
       "      <td>2017-09-29 09:56:12</td>\n",
       "      <td>NaN</td>\n",
       "      <td>0.000000</td>\n",
       "      <td>-1 days +23:16:15</td>\n",
       "      <td>neutral</td>\n",
       "      <td>[part, 2]</td>\n",
       "      <td>2</td>\n",
       "    </tr>\n",
       "    <tr>\n",
       "      <th>4</th>\n",
       "      <td>fly to most places on earth in under 30 mins a...</td>\n",
       "      <td>2017-09-29 09:19:21</td>\n",
       "      <td>NaN</td>\n",
       "      <td>0.650000</td>\n",
       "      <td>-1 days +23:23:09</td>\n",
       "      <td>positive</td>\n",
       "      <td>[fly, to, most, places, on, earth, in, under, ...</td>\n",
       "      <td>20</td>\n",
       "    </tr>\n",
       "  </tbody>\n",
       "</table>\n",
       "</div>"
      ],
      "text/plain": [
       "                                               Tweet                Time  \\\n",
       "0   assuming max acceleration of 2 to 3 g's, but ... 2017-09-29 17:39:19   \n",
       "1    bfr is capable of transporting satellites to... 2017-09-29 10:44:54   \n",
       "2                                             yup  ) 2017-09-29 10:39:57   \n",
       "3                                            part 2  2017-09-29 09:56:12   \n",
       "4  fly to most places on earth in under 30 mins a... 2017-09-29 09:19:21   \n",
       "\n",
       "  Retweet from  Sentiment        delta_Time Class_Sentiment  \\\n",
       "0          NaN   0.366667          00:00:00        positive   \n",
       "1       SpaceX   0.200000 -1 days +17:05:35        positive   \n",
       "2          NaN   0.000000 -1 days +23:55:03         neutral   \n",
       "3          NaN   0.000000 -1 days +23:16:15         neutral   \n",
       "4          NaN   0.650000 -1 days +23:23:09        positive   \n",
       "\n",
       "                                              tokens  Tweet_Length  \n",
       "0  [assuming, max, acceleration, of, 2, to, 3, g,...            21  \n",
       "1  [bfr, is, capable, of, transporting, satellite...            20  \n",
       "2                                              [yup]             1  \n",
       "3                                          [part, 2]             2  \n",
       "4  [fly, to, most, places, on, earth, in, under, ...            20  "
      ]
     },
     "execution_count": 59,
     "metadata": {},
     "output_type": "execute_result"
    }
   ],
   "source": [
    "from nltk.tokenize import RegexpTokenizer\n",
    "tokenizer = RegexpTokenizer(r'\\w+')\n",
    "tweets_clean_df[\"tokens\"] = tweets_clean_df[\"Tweet\"].apply(tokenizer.tokenize)\n",
    "tweets_clean_df['Tweet_Length'] = tweets_clean_df.apply(lambda row : len(row['tokens']), axis=1)\n",
    "tweets_clean_df.head()"
   ]
  },
  {
   "cell_type": "markdown",
   "metadata": {},
   "source": [
    "let's plot some exploratory data"
   ]
  },
  {
   "cell_type": "code",
   "execution_count": 84,
   "metadata": {},
   "outputs": [
    {
     "data": {
      "text/plain": [
       "<seaborn.axisgrid.FacetGrid at 0x1211fe040>"
      ]
     },
     "execution_count": 84,
     "metadata": {},
     "output_type": "execute_result"
    },
    {
     "data": {
      "image/png": "[encoded data removed]",
      "text/plain": [
       "<Figure size 648x216 with 3 Axes>"
      ]
     },
     "metadata": {
      "needs_background": "light"
     },
     "output_type": "display_data"
    }
   ],
   "source": [
    "#Elon's Tweets Scatter plots looking at delta time\n",
    "facet = sns.FacetGrid(tweets_clean_df,col='Class_Sentiment')\n",
    "facet.map(sbn.regplot,'Tweet_Length','delta_Time')"
   ]
  },
  {
   "cell_type": "code",
   "execution_count": 86,
   "metadata": {},
   "outputs": [
    {
     "data": {
      "text/plain": [
       "<seaborn.axisgrid.FacetGrid at 0x1216cd610>"
      ]
     },
     "execution_count": 86,
     "metadata": {},
     "output_type": "execute_result"
    },
    {
     "data": {
      "image/png": "[encoded data removed]",
      "text/plain": [
       "<Figure size 648x216 with 3 Axes>"
      ]
     },
     "metadata": {
      "needs_background": "light"
     },
     "output_type": "display_data"
    }
   ],
   "source": [
    "#Elon's Tweets Scatter plots looking at log_delta_time\n",
    "facet = sns.FacetGrid(tweets_clean_df,col='Class_Sentiment')\n",
    "facet.map(sbn.regplot,'Tweet_Length','log_delta_Time')"
   ]
  },
  {
   "cell_type": "code",
   "execution_count": 89,
   "metadata": {},
   "outputs": [
    {
     "data": {
      "text/plain": [
       "<seaborn.axisgrid.FacetGrid at 0x121ba7520>"
      ]
     },
     "execution_count": 89,
     "metadata": {},
     "output_type": "execute_result"
    },
    {
     "data": {
      "image/png": "[encoded data removed]",
      "text/plain": [
       "<Figure size 648x216 with 3 Axes>"
      ]
     },
     "metadata": {
      "needs_background": "light"
     },
     "output_type": "display_data"
    }
   ],
   "source": [
    "#Elon's Tweets Scatter plots\n",
    "facet = sns.FacetGrid(tweets_clean_df,col='Class_Sentiment')\n",
    "facet.map(sbn.regplot,'Tweet_Length','Sentiment',marker=\"+\")"
   ]
  },
  {
   "cell_type": "code",
   "execution_count": 90,
   "metadata": {},
   "outputs": [
    {
     "name": "stderr",
     "output_type": "stream",
     "text": [
      "/Users/JJ/opt/anaconda3/envs/insight/lib/python3.8/site-packages/numpy/core/function_base.py:153: RuntimeWarning: invalid value encountered in multiply\n",
      "  y *= step\n",
      "/Users/JJ/opt/anaconda3/envs/insight/lib/python3.8/site-packages/numpy/core/function_base.py:163: RuntimeWarning: invalid value encountered in add\n",
      "  y += start\n",
      "/Users/JJ/opt/anaconda3/envs/insight/lib/python3.8/site-packages/numpy/linalg/linalg.py:1965: RuntimeWarning: invalid value encountered in greater\n",
      "  large = s > cutoff\n"
     ]
    },
    {
     "data": {
      "text/plain": [
       "<seaborn.axisgrid.FacetGrid at 0x121e0fb80>"
      ]
     },
     "execution_count": 90,
     "metadata": {},
     "output_type": "execute_result"
    },
    {
     "data": {
      "image/png": "[encoded data removed]",
      "text/plain": [
       "<Figure size 648x216 with 3 Axes>"
      ]
     },
     "metadata": {
      "needs_background": "light"
     },
     "output_type": "display_data"
    }
   ],
   "source": [
    "#Elon's Tweets Scatter plots\n",
    "facet = sns.FacetGrid(tweets_clean_df,col='Class_Sentiment')\n",
    "facet.map(sbn.regplot,'log_delta_Time','Sentiment',marker=\"+\")"
   ]
  },
  {
   "cell_type": "markdown",
   "metadata": {},
   "source": [
    "Nothing particularly illuminating there other than the observation that more terse tweets tend to have higher sentiment scores."
   ]
  },
  {
   "cell_type": "code",
   "execution_count": 114,
   "metadata": {},
   "outputs": [
    {
     "data": {
      "text/html": [
       "<div>\n",
       "<style scoped>\n",
       "    .dataframe tbody tr th:only-of-type {\n",
       "        vertical-align: middle;\n",
       "    }\n",
       "\n",
       "    .dataframe tbody tr th {\n",
       "        vertical-align: top;\n",
       "    }\n",
       "\n",
       "    .dataframe thead th {\n",
       "        text-align: right;\n",
       "    }\n",
       "</style>\n",
       "<table border=\"1\" class=\"dataframe\">\n",
       "  <thead>\n",
       "    <tr style=\"text-align: right;\">\n",
       "      <th></th>\n",
       "      <th>Tweet</th>\n",
       "      <th>Time</th>\n",
       "      <th>Retweet from</th>\n",
       "      <th>Sentiment</th>\n",
       "      <th>delta_Time</th>\n",
       "      <th>Class_Sentiment</th>\n",
       "      <th>tokens</th>\n",
       "      <th>Tweet_Length</th>\n",
       "      <th>log_delta_Time</th>\n",
       "      <th>dSentiment_dTime</th>\n",
       "      <th>dSentiment_dTweet</th>\n",
       "    </tr>\n",
       "  </thead>\n",
       "  <tbody>\n",
       "    <tr>\n",
       "      <th>3213</th>\n",
       "      <td>amos's article was fair, but his editor chose...</td>\n",
       "      <td>2012-11-20 08:52:03</td>\n",
       "      <td>NaN</td>\n",
       "      <td>0.466667</td>\n",
       "      <td>45026.0</td>\n",
       "      <td>positive</td>\n",
       "      <td>[amos, s, article, was, fair, but, his, editor...</td>\n",
       "      <td>23</td>\n",
       "      <td>4.653463</td>\n",
       "      <td>0.000010</td>\n",
       "      <td>0.466667</td>\n",
       "    </tr>\n",
       "    <tr>\n",
       "      <th>3214</th>\n",
       "      <td>these articles in space news describe why aria...</td>\n",
       "      <td>2012-11-20 08:38:31</td>\n",
       "      <td>NaN</td>\n",
       "      <td>0.000000</td>\n",
       "      <td>812.0</td>\n",
       "      <td>neutral</td>\n",
       "      <td>[these, articles, in, space, news, describe, w...</td>\n",
       "      <td>12</td>\n",
       "      <td>2.909556</td>\n",
       "      <td>0.000000</td>\n",
       "      <td>0.000000</td>\n",
       "    </tr>\n",
       "    <tr>\n",
       "      <th>3215</th>\n",
       "      <td>was misquoted by bbc as saying europe's rocket...</td>\n",
       "      <td>2012-11-20 08:30:44</td>\n",
       "      <td>NaN</td>\n",
       "      <td>0.000000</td>\n",
       "      <td>467.0</td>\n",
       "      <td>neutral</td>\n",
       "      <td>[was, misquoted, by, bbc, as, saying, europe, ...</td>\n",
       "      <td>27</td>\n",
       "      <td>2.669317</td>\n",
       "      <td>-0.000892</td>\n",
       "      <td>-0.416667</td>\n",
       "    </tr>\n",
       "    <tr>\n",
       "      <th>3216</th>\n",
       "      <td>just returned from a trip to london and oxford...</td>\n",
       "      <td>2012-11-19 08:59:46</td>\n",
       "      <td>NaN</td>\n",
       "      <td>0.416667</td>\n",
       "      <td>84658.0</td>\n",
       "      <td>positive</td>\n",
       "      <td>[just, returned, from, a, trip, to, london, an...</td>\n",
       "      <td>20</td>\n",
       "      <td>4.927668</td>\n",
       "      <td>0.000005</td>\n",
       "      <td>0.416667</td>\n",
       "    </tr>\n",
       "    <tr>\n",
       "      <th>3217</th>\n",
       "      <td>my model s just arrived and i went electric ...</td>\n",
       "      <td>2012-11-16 17:59:47</td>\n",
       "      <td>Jon_Favreau</td>\n",
       "      <td>0.000000</td>\n",
       "      <td>226799.0</td>\n",
       "      <td>neutral</td>\n",
       "      <td>[my, model, s, just, arrived, and, i, went, el...</td>\n",
       "      <td>12</td>\n",
       "      <td>5.355641</td>\n",
       "      <td>0.000000</td>\n",
       "      <td>0.000000</td>\n",
       "    </tr>\n",
       "  </tbody>\n",
       "</table>\n",
       "</div>"
      ],
      "text/plain": [
       "                                                  Tweet                Time  \\\n",
       "3213   amos's article was fair, but his editor chose... 2012-11-20 08:52:03   \n",
       "3214  these articles in space news describe why aria... 2012-11-20 08:38:31   \n",
       "3215  was misquoted by bbc as saying europe's rocket... 2012-11-20 08:30:44   \n",
       "3216  just returned from a trip to london and oxford... 2012-11-19 08:59:46   \n",
       "3217    my model s just arrived and i went electric ... 2012-11-16 17:59:47   \n",
       "\n",
       "     Retweet from  Sentiment  delta_Time Class_Sentiment  \\\n",
       "3213          NaN   0.466667     45026.0        positive   \n",
       "3214          NaN   0.000000       812.0         neutral   \n",
       "3215          NaN   0.000000       467.0         neutral   \n",
       "3216          NaN   0.416667     84658.0        positive   \n",
       "3217  Jon_Favreau   0.000000    226799.0         neutral   \n",
       "\n",
       "                                                 tokens  Tweet_Length  \\\n",
       "3213  [amos, s, article, was, fair, but, his, editor...            23   \n",
       "3214  [these, articles, in, space, news, describe, w...            12   \n",
       "3215  [was, misquoted, by, bbc, as, saying, europe, ...            27   \n",
       "3216  [just, returned, from, a, trip, to, london, an...            20   \n",
       "3217  [my, model, s, just, arrived, and, i, went, el...            12   \n",
       "\n",
       "      log_delta_Time  dSentiment_dTime  dSentiment_dTweet  \n",
       "3213        4.653463          0.000010           0.466667  \n",
       "3214        2.909556          0.000000           0.000000  \n",
       "3215        2.669317         -0.000892          -0.416667  \n",
       "3216        4.927668          0.000005           0.416667  \n",
       "3217        5.355641          0.000000           0.000000  "
      ]
     },
     "execution_count": 114,
     "metadata": {},
     "output_type": "execute_result"
    }
   ],
   "source": [
    "#Make a rate of sentiment change feature\n",
    "tweets_clean_df['dSentiment_dTime'] = (tweets_clean_df['Sentiment']-tweets_clean_df['Sentiment'].shift(-1)).fillna(0.)/(tweets_clean_df['delta_Time'])\n",
    "tweets_clean_df['dSentiment_dTweet'] = (tweets_clean_df['Sentiment']-tweets_clean_df['Sentiment'].shift(-1)).fillna(0.)\n",
    "tweets_clean_df.tail()"
   ]
  },
  {
   "cell_type": "code",
   "execution_count": 125,
   "metadata": {},
   "outputs": [
    {
     "data": {
      "text/plain": [
       "<matplotlib.axes._subplots.AxesSubplot at 0x122254940>"
      ]
     },
     "execution_count": 125,
     "metadata": {},
     "output_type": "execute_result"
    },
    {
     "data": {
      "image/png": "[encoded data removed]",
      "text/plain": [
       "<Figure size 432x288 with 1 Axes>"
      ]
     },
     "metadata": {
      "needs_background": "light"
     },
     "output_type": "display_data"
    }
   ],
   "source": [
    "#Elon's Tweets Scatter plots\n",
    "#facet = sns.FacetGrid(tweets_clean_df,hue='Class_Sentiment')\n",
    "#facet.map(sbn.scatterplot,'dSentiment_dTweet','Sentiment',marker=\"+\")\n",
    "sbn.scatterplot(x = tweets_clean_df['dSentiment_dTweet'],y=tweets_clean_df['Sentiment'],hue=tweets_clean_df['Class_Sentiment'],data=tweets_clean_df,marker = '+')"
   ]
  },
  {
   "cell_type": "code",
   "execution_count": 127,
   "metadata": {},
   "outputs": [
    {
     "data": {
      "text/html": [
       "<div>\n",
       "<style scoped>\n",
       "    .dataframe tbody tr th:only-of-type {\n",
       "        vertical-align: middle;\n",
       "    }\n",
       "\n",
       "    .dataframe tbody tr th {\n",
       "        vertical-align: top;\n",
       "    }\n",
       "\n",
       "    .dataframe thead th {\n",
       "        text-align: right;\n",
       "    }\n",
       "</style>\n",
       "<table border=\"1\" class=\"dataframe\">\n",
       "  <thead>\n",
       "    <tr style=\"text-align: right;\">\n",
       "      <th></th>\n",
       "      <th>Class_Sentiment</th>\n",
       "      <th>dSentiment_dTweet</th>\n",
       "      <th>dSentiment_dTime</th>\n",
       "      <th>delta_Time</th>\n",
       "    </tr>\n",
       "  </thead>\n",
       "  <tbody>\n",
       "    <tr>\n",
       "      <th>0</th>\n",
       "      <td>negative</td>\n",
       "      <td>-0.328019</td>\n",
       "      <td>-0.001795</td>\n",
       "      <td>37936.405152</td>\n",
       "    </tr>\n",
       "    <tr>\n",
       "      <th>1</th>\n",
       "      <td>neutral</td>\n",
       "      <td>-0.122319</td>\n",
       "      <td>-0.000442</td>\n",
       "      <td>48344.198565</td>\n",
       "    </tr>\n",
       "    <tr>\n",
       "      <th>2</th>\n",
       "      <td>positive</td>\n",
       "      <td>0.191164</td>\n",
       "      <td>0.000728</td>\n",
       "      <td>49964.620690</td>\n",
       "    </tr>\n",
       "  </tbody>\n",
       "</table>\n",
       "</div>"
      ],
      "text/plain": [
       "  Class_Sentiment  dSentiment_dTweet  dSentiment_dTime    delta_Time\n",
       "0        negative          -0.328019         -0.001795  37936.405152\n",
       "1         neutral          -0.122319         -0.000442  48344.198565\n",
       "2        positive           0.191164          0.000728  49964.620690"
      ]
     },
     "execution_count": 127,
     "metadata": {},
     "output_type": "execute_result"
    }
   ],
   "source": [
    "tweets_clean_df.groupby(['Class_Sentiment'])[['dSentiment_dTweet','dSentiment_dTime','delta_Time']].agg(np.mean).reset_index() #proper indices"
   ]
  },
  {
   "cell_type": "code",
   "execution_count": 128,
   "metadata": {},
   "outputs": [
    {
     "data": {
      "text/html": [
       "<div>\n",
       "<style scoped>\n",
       "    .dataframe tbody tr th:only-of-type {\n",
       "        vertical-align: middle;\n",
       "    }\n",
       "\n",
       "    .dataframe tbody tr th {\n",
       "        vertical-align: top;\n",
       "    }\n",
       "\n",
       "    .dataframe thead th {\n",
       "        text-align: right;\n",
       "    }\n",
       "</style>\n",
       "<table border=\"1\" class=\"dataframe\">\n",
       "  <thead>\n",
       "    <tr style=\"text-align: right;\">\n",
       "      <th></th>\n",
       "      <th>Class_Sentiment</th>\n",
       "      <th>dSentiment_dTweet</th>\n",
       "      <th>dSentiment_dTime</th>\n",
       "      <th>delta_Time</th>\n",
       "    </tr>\n",
       "  </thead>\n",
       "  <tbody>\n",
       "    <tr>\n",
       "      <th>0</th>\n",
       "      <td>negative</td>\n",
       "      <td>-0.256818</td>\n",
       "      <td>-0.00010</td>\n",
       "      <td>1404.0</td>\n",
       "    </tr>\n",
       "    <tr>\n",
       "      <th>1</th>\n",
       "      <td>neutral</td>\n",
       "      <td>0.000000</td>\n",
       "      <td>0.00000</td>\n",
       "      <td>4004.5</td>\n",
       "    </tr>\n",
       "    <tr>\n",
       "      <th>2</th>\n",
       "      <td>positive</td>\n",
       "      <td>0.187500</td>\n",
       "      <td>0.00001</td>\n",
       "      <td>3401.0</td>\n",
       "    </tr>\n",
       "  </tbody>\n",
       "</table>\n",
       "</div>"
      ],
      "text/plain": [
       "  Class_Sentiment  dSentiment_dTweet  dSentiment_dTime  delta_Time\n",
       "0        negative          -0.256818          -0.00010      1404.0\n",
       "1         neutral           0.000000           0.00000      4004.5\n",
       "2        positive           0.187500           0.00001      3401.0"
      ]
     },
     "execution_count": 128,
     "metadata": {},
     "output_type": "execute_result"
    }
   ],
   "source": [
    "tweets_clean_df.groupby(['Class_Sentiment'])[['dSentiment_dTweet','dSentiment_dTime','delta_Time']].agg(np.median).reset_index()"
   ]
  },
  {
   "cell_type": "code",
   "execution_count": 129,
   "metadata": {},
   "outputs": [
    {
     "data": {
      "text/html": [
       "<div>\n",
       "<style scoped>\n",
       "    .dataframe tbody tr th:only-of-type {\n",
       "        vertical-align: middle;\n",
       "    }\n",
       "\n",
       "    .dataframe tbody tr th {\n",
       "        vertical-align: top;\n",
       "    }\n",
       "\n",
       "    .dataframe thead th {\n",
       "        text-align: right;\n",
       "    }\n",
       "</style>\n",
       "<table border=\"1\" class=\"dataframe\">\n",
       "  <thead>\n",
       "    <tr style=\"text-align: right;\">\n",
       "      <th></th>\n",
       "      <th>Class_Sentiment</th>\n",
       "      <th>dSentiment_dTweet</th>\n",
       "      <th>dSentiment_dTime</th>\n",
       "      <th>delta_Time</th>\n",
       "    </tr>\n",
       "  </thead>\n",
       "  <tbody>\n",
       "    <tr>\n",
       "      <th>0</th>\n",
       "      <td>negative</td>\n",
       "      <td>0.114480</td>\n",
       "      <td>0.000049</td>\n",
       "      <td>7.922909e+09</td>\n",
       "    </tr>\n",
       "    <tr>\n",
       "      <th>1</th>\n",
       "      <td>neutral</td>\n",
       "      <td>0.068434</td>\n",
       "      <td>0.000013</td>\n",
       "      <td>1.241363e+10</td>\n",
       "    </tr>\n",
       "    <tr>\n",
       "      <th>2</th>\n",
       "      <td>positive</td>\n",
       "      <td>0.124168</td>\n",
       "      <td>0.000015</td>\n",
       "      <td>1.315573e+10</td>\n",
       "    </tr>\n",
       "  </tbody>\n",
       "</table>\n",
       "</div>"
      ],
      "text/plain": [
       "  Class_Sentiment  dSentiment_dTweet  dSentiment_dTime    delta_Time\n",
       "0        negative           0.114480          0.000049  7.922909e+09\n",
       "1         neutral           0.068434          0.000013  1.241363e+10\n",
       "2        positive           0.124168          0.000015  1.315573e+10"
      ]
     },
     "execution_count": 129,
     "metadata": {},
     "output_type": "execute_result"
    }
   ],
   "source": [
    "tweets_clean_df.groupby(['Class_Sentiment'])[['dSentiment_dTweet','dSentiment_dTime','delta_Time']].agg(np.var).reset_index()"
   ]
  },
  {
   "cell_type": "code",
   "execution_count": 147,
   "metadata": {},
   "outputs": [
    {
     "data": {
      "text/plain": [
       "Class_Sentiment\n",
       "negative    279\n",
       "neutral     588\n",
       "positive    655\n",
       "Name: Time, dtype: int64"
      ]
     },
     "execution_count": 147,
     "metadata": {},
     "output_type": "execute_result"
    }
   ],
   "source": [
    "tweets_clean_df.groupby('Class_Sentiment').Time.nunique()"
   ]
  },
  {
   "cell_type": "markdown",
   "metadata": {},
   "source": [
    "Let's prep the data for direct comparison to the stock data.  First I'll define a few functions to use."
   ]
  },
  {
   "cell_type": "code",
   "execution_count": 136,
   "metadata": {},
   "outputs": [],
   "source": [
    "from pandas.tseries.offsets import BDay #import the business day function\n",
    "\n",
    "def filter_by_daterange(df): # filters to only use business day tweets (stocks are reported only on business days)\n",
    "    start_date = pd.to_datetime(\"2012-1-1\").date()\n",
    "    end_date = pd.to_datetime(\"2017-12-31\").date()\n",
    "    mask = (df['Time'] > start_date) & (df['Time'] <= end_date)\n",
    "    df = df.loc[mask]\n",
    "    #Filter only Business day\n",
    "    isBusinessDay = BDay().onOffset\n",
    "    match_series = pd.to_datetime(df['Time']).map(isBusinessDay)\n",
    "    df[match_series]\n",
    "    return df\n",
    "\n",
    "def clean_tweet_data(tweets): # filters and sorts the tweets\n",
    "    # Convert 'Time' column to datetime and strip time information.\n",
    "    tweets['Time'] = pd.to_datetime(tweets['Time']).dt.date\n",
    "    #apply the business day filter\n",
    "    tweets = filter_by_daterange(tweets)\n",
    "    #sort by date\n",
    "    tweets.sort_values(by=['Time'], inplace=True)\n",
    "    return tweets\n",
    "\n",
    "def clean_stock_data(stonks): # extracts and sorts the fractional price change in tesla's stock price\n",
    "    #Remove null stock data.\n",
    "    stonks = stonks.dropna()\n",
    "    #Convert 'Date' column to datetime and strip time information.\n",
    "    stonks['Time'] = pd.to_datetime(stonks['Date']).dt.date\n",
    "    stonks = stonks.drop('Date',1)\n",
    "    #Apply the Business day filter, just to be safe\n",
    "    stonks = filter_by_daterange(stonks)    \n",
    "    #Calculate daily change percentage\n",
    "    stonks['daily_percentage_change'] = (stonks['Close'] - stonks['Open']) / stonks['Open'] * 100\n",
    "    stonks_daily_change = stonks[['Time', 'daily_percentage_change']].copy()\n",
    "    #Make sure we are sorted identically to the tweet data\n",
    "    stonks_daily_change.sort_values(by=['Time'], inplace=True)\n",
    "    return stonks_daily_change\n",
    "\n",
    "def merge_tweets_and_stock_data(tweets, stocks): #bolts our two dataframes together\n",
    "    #Combine two dataframes based on time.\n",
    "    sentiment_stock_change_data = pd.merge(tweets, stocks, on='Time', how='inner')\n",
    "    return sentiment_stock_change_data\n",
    "\n",
    "tweets_premerge_df = clean_tweet_data(tweets_clean_df)\n",
    "stocks_premerge_df = clean_stock_data(tesla_stock_price_df)"
   ]
  },
  {
   "cell_type": "code",
   "execution_count": 137,
   "metadata": {},
   "outputs": [],
   "source": [
    "tweets_and_stocks_df = merge_tweets_and_stock_data(tweets_premerge_df,stocks_premerge_df)"
   ]
  },
  {
   "cell_type": "code",
   "execution_count": 138,
   "metadata": {
    "scrolled": true
   },
   "outputs": [
    {
     "data": {
      "text/html": [
       "<div>\n",
       "<style scoped>\n",
       "    .dataframe tbody tr th:only-of-type {\n",
       "        vertical-align: middle;\n",
       "    }\n",
       "\n",
       "    .dataframe tbody tr th {\n",
       "        vertical-align: top;\n",
       "    }\n",
       "\n",
       "    .dataframe thead th {\n",
       "        text-align: right;\n",
       "    }\n",
       "</style>\n",
       "<table border=\"1\" class=\"dataframe\">\n",
       "  <thead>\n",
       "    <tr style=\"text-align: right;\">\n",
       "      <th></th>\n",
       "      <th>Tweet</th>\n",
       "      <th>Time</th>\n",
       "      <th>Retweet from</th>\n",
       "      <th>Sentiment</th>\n",
       "      <th>delta_Time</th>\n",
       "      <th>Class_Sentiment</th>\n",
       "      <th>tokens</th>\n",
       "      <th>Tweet_Length</th>\n",
       "      <th>log_delta_Time</th>\n",
       "      <th>dSentiment_dTime</th>\n",
       "      <th>dSentiment_dTweet</th>\n",
       "      <th>daily_percentage_change</th>\n",
       "    </tr>\n",
       "  </thead>\n",
       "  <tbody>\n",
       "    <tr>\n",
       "      <th>0</th>\n",
       "      <td>my model s just arrived and i went electric ...</td>\n",
       "      <td>2012-11-16</td>\n",
       "      <td>Jon_Favreau</td>\n",
       "      <td>0.000000</td>\n",
       "      <td>226799.0</td>\n",
       "      <td>neutral</td>\n",
       "      <td>[my, model, s, just, arrived, and, i, went, el...</td>\n",
       "      <td>12</td>\n",
       "      <td>5.355641</td>\n",
       "      <td>0.000000</td>\n",
       "      <td>0.000000</td>\n",
       "      <td>2.215088</td>\n",
       "    </tr>\n",
       "    <tr>\n",
       "      <th>1</th>\n",
       "      <td>just returned from a trip to london and oxford...</td>\n",
       "      <td>2012-11-19</td>\n",
       "      <td>NaN</td>\n",
       "      <td>0.416667</td>\n",
       "      <td>84658.0</td>\n",
       "      <td>positive</td>\n",
       "      <td>[just, returned, from, a, trip, to, london, an...</td>\n",
       "      <td>20</td>\n",
       "      <td>4.927668</td>\n",
       "      <td>0.000005</td>\n",
       "      <td>0.416667</td>\n",
       "      <td>2.650446</td>\n",
       "    </tr>\n",
       "    <tr>\n",
       "      <th>2</th>\n",
       "      <td>these articles in space news describe why aria...</td>\n",
       "      <td>2012-11-20</td>\n",
       "      <td>NaN</td>\n",
       "      <td>0.000000</td>\n",
       "      <td>812.0</td>\n",
       "      <td>neutral</td>\n",
       "      <td>[these, articles, in, space, news, describe, w...</td>\n",
       "      <td>12</td>\n",
       "      <td>2.909556</td>\n",
       "      <td>0.000000</td>\n",
       "      <td>0.000000</td>\n",
       "      <td>0.609759</td>\n",
       "    </tr>\n",
       "    <tr>\n",
       "      <th>3</th>\n",
       "      <td>btw, i don't think apple is doomed  just won't...</td>\n",
       "      <td>2012-11-20</td>\n",
       "      <td>NaN</td>\n",
       "      <td>0.000000</td>\n",
       "      <td>18253.0</td>\n",
       "      <td>neutral</td>\n",
       "      <td>[btw, i, don, t, think, apple, is, doomed, jus...</td>\n",
       "      <td>21</td>\n",
       "      <td>4.261334</td>\n",
       "      <td>0.000013</td>\n",
       "      <td>0.234375</td>\n",
       "      <td>0.609759</td>\n",
       "    </tr>\n",
       "    <tr>\n",
       "      <th>4</th>\n",
       "      <td>was misquoted by bbc as saying europe's rocket...</td>\n",
       "      <td>2012-11-20</td>\n",
       "      <td>NaN</td>\n",
       "      <td>0.000000</td>\n",
       "      <td>467.0</td>\n",
       "      <td>neutral</td>\n",
       "      <td>[was, misquoted, by, bbc, as, saying, europe, ...</td>\n",
       "      <td>27</td>\n",
       "      <td>2.669317</td>\n",
       "      <td>-0.000892</td>\n",
       "      <td>-0.416667</td>\n",
       "      <td>0.609759</td>\n",
       "    </tr>\n",
       "  </tbody>\n",
       "</table>\n",
       "</div>"
      ],
      "text/plain": [
       "                                               Tweet        Time Retweet from  \\\n",
       "0    my model s just arrived and i went electric ...  2012-11-16  Jon_Favreau   \n",
       "1  just returned from a trip to london and oxford...  2012-11-19          NaN   \n",
       "2  these articles in space news describe why aria...  2012-11-20          NaN   \n",
       "3  btw, i don't think apple is doomed  just won't...  2012-11-20          NaN   \n",
       "4  was misquoted by bbc as saying europe's rocket...  2012-11-20          NaN   \n",
       "\n",
       "   Sentiment  delta_Time Class_Sentiment  \\\n",
       "0   0.000000    226799.0         neutral   \n",
       "1   0.416667     84658.0        positive   \n",
       "2   0.000000       812.0         neutral   \n",
       "3   0.000000     18253.0         neutral   \n",
       "4   0.000000       467.0         neutral   \n",
       "\n",
       "                                              tokens  Tweet_Length  \\\n",
       "0  [my, model, s, just, arrived, and, i, went, el...            12   \n",
       "1  [just, returned, from, a, trip, to, london, an...            20   \n",
       "2  [these, articles, in, space, news, describe, w...            12   \n",
       "3  [btw, i, don, t, think, apple, is, doomed, jus...            21   \n",
       "4  [was, misquoted, by, bbc, as, saying, europe, ...            27   \n",
       "\n",
       "   log_delta_Time  dSentiment_dTime  dSentiment_dTweet  \\\n",
       "0        5.355641          0.000000           0.000000   \n",
       "1        4.927668          0.000005           0.416667   \n",
       "2        2.909556          0.000000           0.000000   \n",
       "3        4.261334          0.000013           0.234375   \n",
       "4        2.669317         -0.000892          -0.416667   \n",
       "\n",
       "   daily_percentage_change  \n",
       "0                 2.215088  \n",
       "1                 2.650446  \n",
       "2                 0.609759  \n",
       "3                 0.609759  \n",
       "4                 0.609759  "
      ]
     },
     "execution_count": 138,
     "metadata": {},
     "output_type": "execute_result"
    }
   ],
   "source": [
    "tweets_and_stocks_df.head()"
   ]
  },
  {
   "cell_type": "markdown",
   "metadata": {},
   "source": [
    "Let's add a null classifier for each day, so that we can see the shape of a true random distribution relative to daily change.  We're doing this because we expect the histogram of truly random tweeting to be biased toward positive daily percentage change (as tesla's stock price increase by a factor of 11 over this time period)."
   ]
  },
  {
   "cell_type": "code",
   "execution_count": null,
   "metadata": {},
   "outputs": [],
   "source": []
  },
  {
   "cell_type": "code",
   "execution_count": 142,
   "metadata": {},
   "outputs": [
    {
     "data": {
      "text/plain": [
       "<matplotlib.axes._subplots.AxesSubplot at 0x120ea32e0>"
      ]
     },
     "execution_count": 142,
     "metadata": {},
     "output_type": "execute_result"
    },
    {
     "data": {
      "image/png": "[encoded data removed]",
      "text/plain": [
       "<Figure size 720x720 with 1 Axes>"
      ]
     },
     "metadata": {
      "needs_background": "light"
     },
     "output_type": "display_data"
    }
   ],
   "source": [
    "plt.figure(figsize=(10, 10))\n",
    "sbn.violinplot(x=tweets_and_stocks_df.Class_Sentiment, y=tweets_and_stocks_df.daily_percentage_change, data=tweets_and_stocks_df, height=8)"
   ]
  },
  {
   "cell_type": "code",
   "execution_count": null,
   "metadata": {},
   "outputs": [],
   "source": []
  }
 ],
 "metadata": {
  "kernelspec": {
   "display_name": "Python 3",
   "language": "python",
   "name": "python3"
  },
  "language_info": {
   "codemirror_mode": {
    "name": "ipython",
    "version": 3
   },
   "file_extension": ".py",
   "mimetype": "text/x-python",
   "name": "python",
   "nbconvert_exporter": "python",
   "pygments_lexer": "ipython3",
   "version": "3.8.1"
  }
 },
 "nbformat": 4,
 "nbformat_minor": 4
}

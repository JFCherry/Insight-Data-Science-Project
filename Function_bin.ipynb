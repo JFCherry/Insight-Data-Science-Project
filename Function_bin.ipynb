{
 "cells": [
  {
   "cell_type": "markdown",
   "metadata": {},
   "source": [
    "Temporary notebook to collect up the functions that I'll use later when I make this official"
   ]
  },
  {
   "cell_type": "code",
   "execution_count": 2,
   "metadata": {},
   "outputs": [],
   "source": [
    "from collections import defaultdict\n",
    "import os, sys\n",
    "import time\n",
    "import pandas as pd\n",
    "import GetOldTweets3 as got\n",
    "\n",
    "def get_new_tweets(t_last_tweet,username = \"elonmusk\"):\n",
    "    \"\"\"Function to scrape the recent tweets of Elon Musk\"\"\"\n",
    "    #t_last_tweet must be pandas Timestamp data\n",
    "    os.makedirs('tweet_data', exist_ok=True)\n",
    "    date_str = str(t_last_tweet.date().year)+\"-\"\\\n",
    "              +str(t_last_tweet.date().month)+\"-\"\\\n",
    "              +str(t_last_tweet.date().day)\n",
    "    count = 0\n",
    "    # Creation of query object                                                                                                                                                                                      \n",
    "    tweetCriteria = got.manager.TweetCriteria().setUsername(username)\\\n",
    "                                               .setMaxTweets(count)\\\n",
    "                                               .setSince(date_str)\n",
    "    # Creation of list that contains all tweets                                                                                                                                                                     \n",
    "    tweets = None\n",
    "    for ntries in range(5):\n",
    "        try:\n",
    "            tweets = got.manager.TweetManager.getTweets(tweetCriteria)\n",
    "        except SystemExit:\n",
    "            print(\"Trying again in 15 minutes.\")\n",
    "            time.sleep(15*60)\n",
    "        else:\n",
    "            break\n",
    "    if tweets is None:\n",
    "        print(\"Failed after 5 tries, quitting!\")\n",
    "        exit(1)\n",
    "\n",
    "    data = defaultdict(list)\n",
    "    for t in tweets:\n",
    "        data[\"username\"].append(username)\n",
    "        data[\"tweet_id\"].append(t.id)\n",
    "        data[\"reply_to\"].append(t.to)\n",
    "        data[\"date\"].append(t.date)\n",
    "        data[\"retweets\"].append(t.retweets)\n",
    "        data[\"favorites\"].append(t.favorites)\n",
    "        data[\"hashtags\"].append(list(set(t.hashtags.split())))\n",
    "        data[\"mentions\"].append(t.mentions)\n",
    "        data[\"text\"].append(t.text)\n",
    "        data[\"permalink\"].append(t.permalink)\n",
    "    if len(data) == 0: #no new tweets\n",
    "        return None\n",
    "    else:\n",
    "        #make a DataFrame out of the scraped tweets\n",
    "        df = pd.DataFrame(data, columns=[\"username\",\"tweet_id\",\"reply_to\",\"date\",\"retweets\",\"favorites\",\"hashtags\",\"mentions\",\"text\",\"permalink\"])        \n",
    "        # Convert 'Time' column to datetime and strip time information.\n",
    "        df['Time'] = pd.to_datetime(df['date'])\n",
    "        return df"
   ]
  },
  {
   "cell_type": "code",
   "execution_count": null,
   "metadata": {},
   "outputs": [],
   "source": [
    "import pandas as pd\n",
    "\n",
    "def reload_tweet_data(username=\"elonmusk\"):\n",
    "   #note we'll have to do a .drop and set the 'Time' column to the proper values every time\n",
    "    df = pd.read_csv('./tweet_data/'+username+'.csv').drop(['Unnamed: 0'],axis='columns')\n",
    "    df['Time'] = pd.to_datetime(df['Time'])\n",
    "    return df\n",
    "\n"
   ]
  }
 ],
 "metadata": {
  "kernelspec": {
   "display_name": "Python 3",
   "language": "python",
   "name": "python3"
  },
  "language_info": {
   "codemirror_mode": {
    "name": "ipython",
    "version": 3
   },
   "file_extension": ".py",
   "mimetype": "text/x-python",
   "name": "python",
   "nbconvert_exporter": "python",
   "pygments_lexer": "ipython3",
   "version": "3.8.1"
  }
 },
 "nbformat": 4,
 "nbformat_minor": 4
}

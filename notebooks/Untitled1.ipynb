{
 "cells": [
  {
   "cell_type": "markdown",
   "metadata": {},
   "source": [
    "# This notebook is a test bed to check the functionality of the timeloop package and its efficacy for deployment of the Muskometer backend. "
   ]
  },
  {
   "cell_type": "markdown",
   "metadata": {},
   "source": [
    "## I'm going to need to have a background script running that scans for new tweets periodically and updates stock data periodically as well.  In addition, when new tweets are found, they need to be put through the anomaly detection alogrithm and the datasets used by the front end need to be updated.  The timeloop package seems to be a good way to do all this simultaneously within a single script."
   ]
  },
  {
   "cell_type": "code",
   "execution_count": 1,
   "metadata": {},
   "outputs": [],
   "source": [
    "import time\n",
    "import timeloop\n",
    "import datetime\n",
    "from timeloop import Timeloop\n",
    "from datetime import timedelta"
   ]
  },
  {
   "cell_type": "code",
   "execution_count": 3,
   "metadata": {},
   "outputs": [
    {
     "name": "stdout",
     "output_type": "stream",
     "text": [
      "[2020-06-19 08:49:47,029] [timeloop] [INFO] Starting Timeloop..\n",
      "[2020-06-19 08:49:47,030] [timeloop] [INFO] Registered job <function sample_job_every_2s at 0x107ce23a0>\n",
      "[2020-06-19 08:49:47,031] [timeloop] [INFO] Registered job <function sample_job_every_5s at 0x107d00280>\n",
      "[2020-06-19 08:49:47,032] [timeloop] [INFO] Registered job <function sample_job_every_10s at 0x107d005e0>\n",
      "[2020-06-19 08:49:47,032] [timeloop] [INFO] Timeloop now started. Jobs will run based on the interval set\n",
      "2s job current time : Fri Jun 19 08:49:49 2020\n",
      "2s job current time : Fri Jun 19 08:49:51 2020\n",
      "5s job current time : Fri Jun 19 08:49:52 2020\n",
      "2s job current time : Fri Jun 19 08:49:53 2020\n",
      "2s job current time : Fri Jun 19 08:49:55 2020\n",
      "10s job current time : Fri Jun 19 08:49:57 20202s job current time : Fri Jun 19 08:49:57 20205s job current time : Fri Jun 19 08:49:57 2020\n",
      "\n",
      "\n",
      "2s job current time : Fri Jun 19 08:49:59 2020\n",
      "2s job current time : Fri Jun 19 08:50:01 2020\n",
      "5s job current time : Fri Jun 19 08:50:02 2020\n",
      "2s job current time : Fri Jun 19 08:50:03 2020\n",
      "2s job current time : Fri Jun 19 08:50:05 2020\n",
      "10s job current time : Fri Jun 19 08:50:07 2020\n",
      "5s job current time : Fri Jun 19 08:50:07 2020\n",
      "2s job current time : Fri Jun 19 08:50:07 2020\n",
      "2s job current time : Fri Jun 19 08:50:09 2020\n",
      "2s job current time : Fri Jun 19 08:50:11 2020\n",
      "5s job current time : Fri Jun 19 08:50:12 2020\n",
      "2s job current time : Fri Jun 19 08:50:13 2020\n",
      "2s job current time : Fri Jun 19 08:50:15 2020\n",
      "10s job current time : Fri Jun 19 08:50:17 2020\n",
      "5s job current time : Fri Jun 19 08:50:17 2020\n",
      "2s job current time : Fri Jun 19 08:50:17 2020\n",
      "2s job current time : Fri Jun 19 08:50:19 2020\n",
      "2s job current time : Fri Jun 19 08:50:21 2020\n",
      "[2020-06-19 08:50:21,698] [timeloop] [INFO] Stopping job <function sample_job_every_2s at 0x107ce23a0>\n",
      "[2020-06-19 08:50:21,708] [timeloop] [INFO] Stopping job <function sample_job_every_5s at 0x107d00280>\n",
      "[2020-06-19 08:50:21,713] [timeloop] [INFO] Stopping job <function sample_job_every_10s at 0x107d005e0>\n",
      "[2020-06-19 08:50:21,715] [timeloop] [INFO] Timeloop exited.\n"
     ]
    }
   ],
   "source": [
    "# This example code is shamelessly copied from :\n",
    "# https://medium.com/greedygame-engineering/an-elegant-way-to-run-periodic-tasks-in-python-61b7c477b679\n",
    "tl = Timeloop()\n",
    "\n",
    "@tl.job(interval=timedelta(seconds=2))\n",
    "def sample_job_every_2s():\n",
    "    print (\"2s job current time : {}\".format(time.ctime()))\n",
    "    \n",
    "@tl.job(interval=timedelta(seconds=5))\n",
    "def sample_job_every_5s():\n",
    "    print (\"5s job current time : {}\".format(time.ctime()))\n",
    "    \n",
    "@tl.job(interval=timedelta(seconds=10))\n",
    "def sample_job_every_10s():\n",
    "    print (\"10s job current time : {}\".format(time.ctime()))\n",
    "    \n",
    "if __name__ == \"__main__\":\n",
    "    tl.start(block=True)"
   ]
  },
  {
   "cell_type": "markdown",
   "metadata": {},
   "source": [
    "## Looks like that worked as advertised!"
   ]
  },
  {
   "cell_type": "code",
   "execution_count": null,
   "metadata": {},
   "outputs": [],
   "source": []
  }
 ],
 "metadata": {
  "kernelspec": {
   "display_name": "Python 3",
   "language": "python",
   "name": "python3"
  },
  "language_info": {
   "codemirror_mode": {
    "name": "ipython",
    "version": 3
   },
   "file_extension": ".py",
   "mimetype": "text/x-python",
   "name": "python",
   "nbconvert_exporter": "python",
   "pygments_lexer": "ipython3",
   "version": "3.8.1"
  }
 },
 "nbformat": 4,
 "nbformat_minor": 4
}

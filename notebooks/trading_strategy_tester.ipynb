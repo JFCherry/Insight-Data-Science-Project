{
 "cells": [
  {
   "cell_type": "code",
   "execution_count": 20,
   "metadata": {},
   "outputs": [],
   "source": [
    "import datetime\n",
    "import pytz\n",
    "import numpy as np\n",
    "import pandas as pd\n",
    "import time\n",
    "import random"
   ]
  },
  {
   "cell_type": "code",
   "execution_count": 3,
   "metadata": {},
   "outputs": [
    {
     "name": "stdout",
     "output_type": "stream",
     "text": [
      "(9708, 33)\n",
      "(98, 33)\n"
     ]
    }
   ],
   "source": [
    "tsla_df = pd.read_csv('../data/raw/tsla_stock_price.csv')\\\n",
    "                        .drop('Unnamed: 0',axis='columns')\n",
    "elon_df = pd.read_csv('../data/raw/elonmusk.csv')\\\n",
    "                        .drop('Unnamed: 0',axis='columns')\n",
    "anomalies_df = pd.read_csv(\\\n",
    "            '../data/processed/anomalyandstock_tagged_tweet_features.csv')\\\n",
    "            .drop('Unnamed: 0',axis='columns')\n",
    "tsla_df['DateTime'] = pd.to_datetime(tsla_df['DateTime'])\n",
    "elon_df['Time'] = pd.to_datetime(elon_df['Time'])\n",
    "anomalies_df['Time'] = pd.to_datetime(anomalies_df['Time'])\n",
    "anomalies_df['stock_time'] = pd.to_datetime(anomalies_df['stock_time'])\n",
    "anomaly_only_df = anomalies_df[anomalies_df['anomalous']!=0.]\n",
    "no_anomaly_df = anomalies_df[anomalies_df['anomalous']!=1.]\n",
    "print (anomalies_df.shape)\n",
    "print (anomaly_only_df.shape)"
   ]
  },
  {
   "cell_type": "code",
   "execution_count": 286,
   "metadata": {},
   "outputs": [
    {
     "data": {
      "text/plain": [
       "username                              object\n",
       "tweet_id                               int64\n",
       "reply_to                              object\n",
       "retweets                               int64\n",
       "favorites                              int64\n",
       "hashtags                              object\n",
       "mentions                              object\n",
       "text                                  object\n",
       "permalink                             object\n",
       "Time                     datetime64[ns, UTC]\n",
       "hashtags_token                       float64\n",
       "mentions_token                       float64\n",
       "reply_to_token                       float64\n",
       "text_neg                             float64\n",
       "text_neu                             float64\n",
       "text_pos                             float64\n",
       "text_compound                        float64\n",
       "hashtags_neg                         float64\n",
       "hashtags_neu                         float64\n",
       "hashtags_pos                         float64\n",
       "hashtags_compound                    float64\n",
       "hour                                   int64\n",
       "delta_time                           float64\n",
       "log10_delta_time                     float64\n",
       "dcompound_dTime                      float64\n",
       "dcompound_dTweet                     float64\n",
       "integral_compound_5                  float64\n",
       "integral_compound_10                 float64\n",
       "delta_compound_mean                  float64\n",
       "delta_compound_median                float64\n",
       "anomalous                              int64\n",
       "stock_time               datetime64[ns, UTC]\n",
       "stock_price                          float64\n",
       "dtype: object"
      ]
     },
     "execution_count": 286,
     "metadata": {},
     "output_type": "execute_result"
    }
   ],
   "source": [
    "anomaly_only_df.dtypes"
   ]
  },
  {
   "cell_type": "code",
   "execution_count": 413,
   "metadata": {},
   "outputs": [],
   "source": [
    "poslim = .2\n",
    "neglim = .2\n",
    "timezone = pytz.timezone('UTC')\n",
    "start_date = timezone.localize(datetime.datetime(2012,1,1))\n",
    "sell_delay = datetime.timedelta(days=1)\n",
    "buy_delay = datetime.timedelta(days=1)\n",
    "init_position = 5000.\n",
    "init_capital = 5000."
   ]
  },
  {
   "cell_type": "code",
   "execution_count": 205,
   "metadata": {},
   "outputs": [
    {
     "data": {
      "text/plain": [
       "datetime.datetime(2020, 6, 4, 13, 34, 7, 696530)"
      ]
     },
     "execution_count": 205,
     "metadata": {},
     "output_type": "execute_result"
    }
   ],
   "source": [
    "datetime.datetime.today()"
   ]
  },
  {
   "cell_type": "code",
   "execution_count": 414,
   "metadata": {},
   "outputs": [],
   "source": [
    "def nearest(items, pivot):\n",
    "    return min(items, key=lambda x: abs(x - pivot))"
   ]
  },
  {
   "cell_type": "code",
   "execution_count": 32,
   "metadata": {},
   "outputs": [
    {
     "data": {
      "text/plain": [
       "datetime.datetime(2012, 1, 2, 0, 0, tzinfo=<UTC>)"
      ]
     },
     "execution_count": 32,
     "metadata": {},
     "output_type": "execute_result"
    }
   ],
   "source": [
    "start_date+sell_delay"
   ]
  },
  {
   "cell_type": "code",
   "execution_count": 35,
   "metadata": {},
   "outputs": [
    {
     "data": {
      "text/plain": [
       "Timestamp('2011-12-30 00:00:00+0000', tz='UTC')"
      ]
     },
     "execution_count": 35,
     "metadata": {},
     "output_type": "execute_result"
    }
   ],
   "source": [
    "nearest(tsla_df['DateTime'],start_date)"
   ]
  },
  {
   "cell_type": "code",
   "execution_count": 39,
   "metadata": {
    "scrolled": true
   },
   "outputs": [
    {
     "data": {
      "text/plain": [
       "381"
      ]
     },
     "execution_count": 39,
     "metadata": {},
     "output_type": "execute_result"
    }
   ],
   "source": [
    "tsla_df.loc[tsla_df['DateTime'] == nearest(tsla_df['DateTime'],start_date)].index.values[0]"
   ]
  },
  {
   "cell_type": "code",
   "execution_count": 31,
   "metadata": {},
   "outputs": [
    {
     "data": {
      "text/plain": [
       "datetime.datetime"
      ]
     },
     "execution_count": 31,
     "metadata": {},
     "output_type": "execute_result"
    }
   ],
   "source": [
    "type(start_date)"
   ]
  },
  {
   "cell_type": "code",
   "execution_count": 19,
   "metadata": {},
   "outputs": [
    {
     "data": {
      "text/plain": [
       "pandas._libs.tslibs.timestamps.Timestamp"
      ]
     },
     "execution_count": 19,
     "metadata": {},
     "output_type": "execute_result"
    }
   ],
   "source": [
    "type(tsla_df['DateTime'].iloc[0])"
   ]
  },
  {
   "cell_type": "code",
   "execution_count": 46,
   "metadata": {},
   "outputs": [
    {
     "data": {
      "text/html": [
       "<div>\n",
       "<style scoped>\n",
       "    .dataframe tbody tr th:only-of-type {\n",
       "        vertical-align: middle;\n",
       "    }\n",
       "\n",
       "    .dataframe tbody tr th {\n",
       "        vertical-align: top;\n",
       "    }\n",
       "\n",
       "    .dataframe thead th {\n",
       "        text-align: right;\n",
       "    }\n",
       "</style>\n",
       "<table border=\"1\" class=\"dataframe\">\n",
       "  <thead>\n",
       "    <tr style=\"text-align: right;\">\n",
       "      <th></th>\n",
       "      <th>Time</th>\n",
       "    </tr>\n",
       "  </thead>\n",
       "  <tbody>\n",
       "    <tr>\n",
       "      <th>0</th>\n",
       "      <td>2010-06-29 00:00:00+00:00</td>\n",
       "    </tr>\n",
       "    <tr>\n",
       "      <th>1</th>\n",
       "      <td>2010-06-30 00:00:00+00:00</td>\n",
       "    </tr>\n",
       "    <tr>\n",
       "      <th>2</th>\n",
       "      <td>2010-07-01 00:00:00+00:00</td>\n",
       "    </tr>\n",
       "    <tr>\n",
       "      <th>3</th>\n",
       "      <td>2010-07-02 00:00:00+00:00</td>\n",
       "    </tr>\n",
       "    <tr>\n",
       "      <th>4</th>\n",
       "      <td>2010-07-06 00:00:00+00:00</td>\n",
       "    </tr>\n",
       "  </tbody>\n",
       "</table>\n",
       "</div>"
      ],
      "text/plain": [
       "                       Time\n",
       "0 2010-06-29 00:00:00+00:00\n",
       "1 2010-06-30 00:00:00+00:00\n",
       "2 2010-07-01 00:00:00+00:00\n",
       "3 2010-07-02 00:00:00+00:00\n",
       "4 2010-07-06 00:00:00+00:00"
      ]
     },
     "execution_count": 46,
     "metadata": {},
     "output_type": "execute_result"
    }
   ],
   "source": [
    "hold_df = pd.DataFrame()\n",
    "hold_df['Time'] = tsla_df['DateTime']\n",
    "hold_df.head()"
   ]
  },
  {
   "cell_type": "code",
   "execution_count": 145,
   "metadata": {},
   "outputs": [
    {
     "name": "stdout",
     "output_type": "stream",
     "text": [
      "1891\n"
     ]
    }
   ],
   "source": [
    "anomaly_only_df['Time'].iloc[0] < start_date\n",
    "true_start_date = nearest(tsla_df['DateTime'],start_date)\n",
    "start_index = tsla_df.loc[tsla_df['DateTime'] \n",
    "                                    == true_start_date].index[0]\n",
    "print(start_index)"
   ]
  },
  {
   "cell_type": "code",
   "execution_count": 49,
   "metadata": {},
   "outputs": [
    {
     "data": {
      "text/html": [
       "<div>\n",
       "<style scoped>\n",
       "    .dataframe tbody tr th:only-of-type {\n",
       "        vertical-align: middle;\n",
       "    }\n",
       "\n",
       "    .dataframe tbody tr th {\n",
       "        vertical-align: top;\n",
       "    }\n",
       "\n",
       "    .dataframe thead th {\n",
       "        text-align: right;\n",
       "    }\n",
       "</style>\n",
       "<table border=\"1\" class=\"dataframe\">\n",
       "  <thead>\n",
       "    <tr style=\"text-align: right;\">\n",
       "      <th></th>\n",
       "      <th>Time</th>\n",
       "      <th>position</th>\n",
       "    </tr>\n",
       "  </thead>\n",
       "  <tbody>\n",
       "    <tr>\n",
       "      <th>5693</th>\n",
       "      <td>2020-06-03 19:35:00+00:00</td>\n",
       "      <td>232821.044922</td>\n",
       "    </tr>\n",
       "    <tr>\n",
       "      <th>5694</th>\n",
       "      <td>2020-06-03 19:40:00+00:00</td>\n",
       "      <td>233044.738770</td>\n",
       "    </tr>\n",
       "    <tr>\n",
       "      <th>5695</th>\n",
       "      <td>2020-06-03 19:45:00+00:00</td>\n",
       "      <td>233081.584730</td>\n",
       "    </tr>\n",
       "    <tr>\n",
       "      <th>5696</th>\n",
       "      <td>2020-06-03 19:50:00+00:00</td>\n",
       "      <td>233081.584730</td>\n",
       "    </tr>\n",
       "    <tr>\n",
       "      <th>5697</th>\n",
       "      <td>2020-06-03 19:55:00+00:00</td>\n",
       "      <td>232460.439582</td>\n",
       "    </tr>\n",
       "  </tbody>\n",
       "</table>\n",
       "</div>"
      ],
      "text/plain": [
       "                          Time       position\n",
       "5693 2020-06-03 19:35:00+00:00  232821.044922\n",
       "5694 2020-06-03 19:40:00+00:00  233044.738770\n",
       "5695 2020-06-03 19:45:00+00:00  233081.584730\n",
       "5696 2020-06-03 19:50:00+00:00  233081.584730\n",
       "5697 2020-06-03 19:55:00+00:00  232460.439582"
      ]
     },
     "execution_count": 49,
     "metadata": {},
     "output_type": "execute_result"
    }
   ],
   "source": [
    "hold_df['position'] = (tsla_df['Open']/tsla_df['Open'].iloc[0])*init_position\n",
    "hold_df.tail()"
   ]
  },
  {
   "cell_type": "code",
   "execution_count": 99,
   "metadata": {
    "scrolled": false
   },
   "outputs": [
    {
     "name": "stdout",
     "output_type": "stream",
     "text": [
      "2012-11-23 00:00:00+00:00\n",
      "2012-11-24 00:00:00+00:00\n"
     ]
    },
    {
     "ename": "IndexError",
     "evalue": "index 0 is out of bounds for axis 0 with size 0",
     "output_type": "error",
     "traceback": [
      "\u001b[0;31m---------------------------------------------------------------------------\u001b[0m",
      "\u001b[0;31mIndexError\u001b[0m                                Traceback (most recent call last)",
      "\u001b[0;32m<ipython-input-99-7d15aea3aa37>\u001b[0m in \u001b[0;36m<module>\u001b[0;34m\u001b[0m\n\u001b[1;32m      2\u001b[0m \u001b[0mprint\u001b[0m\u001b[0;34m(\u001b[0m\u001b[0manomaly_only_df\u001b[0m\u001b[0;34m[\u001b[0m\u001b[0;34m'stock_time'\u001b[0m\u001b[0;34m]\u001b[0m\u001b[0;34m.\u001b[0m\u001b[0miloc\u001b[0m\u001b[0;34m[\u001b[0m\u001b[0;36m20\u001b[0m\u001b[0;34m]\u001b[0m\u001b[0;34m)\u001b[0m\u001b[0;34m\u001b[0m\u001b[0;34m\u001b[0m\u001b[0m\n\u001b[1;32m      3\u001b[0m \u001b[0mprint\u001b[0m\u001b[0;34m(\u001b[0m\u001b[0msell_date\u001b[0m\u001b[0;34m.\u001b[0m\u001b[0miloc\u001b[0m\u001b[0;34m[\u001b[0m\u001b[0;36m0\u001b[0m\u001b[0;34m]\u001b[0m\u001b[0;34m)\u001b[0m\u001b[0;34m\u001b[0m\u001b[0;34m\u001b[0m\u001b[0m\n\u001b[0;32m----> 4\u001b[0;31m \u001b[0mtsla_df\u001b[0m\u001b[0;34m.\u001b[0m\u001b[0mloc\u001b[0m\u001b[0;34m[\u001b[0m\u001b[0mtsla_df\u001b[0m\u001b[0;34m[\u001b[0m\u001b[0;34m'DateTime'\u001b[0m\u001b[0;34m]\u001b[0m \u001b[0;34m==\u001b[0m \u001b[0msell_date\u001b[0m\u001b[0;34m.\u001b[0m\u001b[0miloc\u001b[0m\u001b[0;34m[\u001b[0m\u001b[0;36m0\u001b[0m\u001b[0;34m]\u001b[0m\u001b[0;34m]\u001b[0m\u001b[0;34m.\u001b[0m\u001b[0mindex\u001b[0m\u001b[0;34m[\u001b[0m\u001b[0;36m0\u001b[0m\u001b[0;34m]\u001b[0m\u001b[0;34m\u001b[0m\u001b[0;34m\u001b[0m\u001b[0m\n\u001b[0m",
      "\u001b[0;32m~/opt/anaconda3/envs/insight/lib/python3.8/site-packages/pandas/core/indexes/base.py\u001b[0m in \u001b[0;36m__getitem__\u001b[0;34m(self, key)\u001b[0m\n\u001b[1;32m   3927\u001b[0m         \u001b[0;32mif\u001b[0m \u001b[0mis_scalar\u001b[0m\u001b[0;34m(\u001b[0m\u001b[0mkey\u001b[0m\u001b[0;34m)\u001b[0m\u001b[0;34m:\u001b[0m\u001b[0;34m\u001b[0m\u001b[0;34m\u001b[0m\u001b[0m\n\u001b[1;32m   3928\u001b[0m             \u001b[0mkey\u001b[0m \u001b[0;34m=\u001b[0m \u001b[0mcom\u001b[0m\u001b[0;34m.\u001b[0m\u001b[0mcast_scalar_indexer\u001b[0m\u001b[0;34m(\u001b[0m\u001b[0mkey\u001b[0m\u001b[0;34m)\u001b[0m\u001b[0;34m\u001b[0m\u001b[0;34m\u001b[0m\u001b[0m\n\u001b[0;32m-> 3929\u001b[0;31m             \u001b[0;32mreturn\u001b[0m \u001b[0mgetitem\u001b[0m\u001b[0;34m(\u001b[0m\u001b[0mkey\u001b[0m\u001b[0;34m)\u001b[0m\u001b[0;34m\u001b[0m\u001b[0;34m\u001b[0m\u001b[0m\n\u001b[0m\u001b[1;32m   3930\u001b[0m \u001b[0;34m\u001b[0m\u001b[0m\n\u001b[1;32m   3931\u001b[0m         \u001b[0;32mif\u001b[0m \u001b[0misinstance\u001b[0m\u001b[0;34m(\u001b[0m\u001b[0mkey\u001b[0m\u001b[0;34m,\u001b[0m \u001b[0mslice\u001b[0m\u001b[0;34m)\u001b[0m\u001b[0;34m:\u001b[0m\u001b[0;34m\u001b[0m\u001b[0;34m\u001b[0m\u001b[0m\n",
      "\u001b[0;31mIndexError\u001b[0m: index 0 is out of bounds for axis 0 with size 0"
     ]
    }
   ],
   "source": [
    "sell_date = tsla_df.loc[tsla_df['DateTime'] == anomaly_only_df['stock_time'].iloc[20]]['DateTime'] + sell_delay\n",
    "print(anomaly_only_df['stock_time'].iloc[20])\n",
    "print(sell_date.iloc[0])\n",
    "tsla_df.loc[tsla_df['DateTime'] == sell_date.iloc[0]].index[0]"
   ]
  },
  {
   "cell_type": "code",
   "execution_count": 147,
   "metadata": {},
   "outputs": [],
   "source": [
    "hold_df = pd.DataFrame() #initialize \n",
    "buy_and_sell_df = pd.DataFrame() #initialize\n",
    "true_start_date = nearest(tsla_df['DateTime'],start_date) #the closest date with a stock price\n",
    "start_index = tsla_df.loc[tsla_df['DateTime'] == true_start_date].index[0] #the index of true_start_date\n",
    "hold_df['Time'] = tsla_df['DateTime'].iloc[start_index:] #set dates\n",
    "buy_and_sell_df['Time'] = tsla_df['DateTime'].iloc[start_index:] #set dates\n",
    "# Position growth scales with Tesla stock price\n",
    "hold_df['num_shares'] = init_position/tsla_df['Open'].iloc[start_index]\n",
    "hold_df['position'] = (tsla_df['Open'].iloc[start_index:]\\\n",
    "                       /tsla_df['Open'].iloc[start_index])*init_position\n",
    "buy_and_sell_df['num_shares'] = init_position/tsla_df['Open'].iloc[start_index]\n",
    "buy_and_sell_df['position'] = (tsla_df['Open'].iloc[start_index:]\\\n",
    "                               *buy_and_sell_df['num_shares'])\n",
    "# Capital growth only changes as a result of buy -> sell orders\n",
    "hold_df['capital'] = init_capital\n",
    "buy_and_sell_df['capital'] = init_capital"
   ]
  },
  {
   "cell_type": "code",
   "execution_count": 148,
   "metadata": {},
   "outputs": [
    {
     "data": {
      "text/html": [
       "<div>\n",
       "<style scoped>\n",
       "    .dataframe tbody tr th:only-of-type {\n",
       "        vertical-align: middle;\n",
       "    }\n",
       "\n",
       "    .dataframe tbody tr th {\n",
       "        vertical-align: top;\n",
       "    }\n",
       "\n",
       "    .dataframe thead th {\n",
       "        text-align: right;\n",
       "    }\n",
       "</style>\n",
       "<table border=\"1\" class=\"dataframe\">\n",
       "  <thead>\n",
       "    <tr style=\"text-align: right;\">\n",
       "      <th></th>\n",
       "      <th>Time</th>\n",
       "      <th>num_shares</th>\n",
       "      <th>position</th>\n",
       "      <th>capital</th>\n",
       "    </tr>\n",
       "  </thead>\n",
       "  <tbody>\n",
       "    <tr>\n",
       "      <th>381</th>\n",
       "      <td>2011-12-30 00:00:00+00:00</td>\n",
       "      <td>175.500176</td>\n",
       "      <td>5000.000000</td>\n",
       "      <td>5000.0</td>\n",
       "    </tr>\n",
       "    <tr>\n",
       "      <th>382</th>\n",
       "      <td>2012-01-03 00:00:00+00:00</td>\n",
       "      <td>175.500176</td>\n",
       "      <td>5078.975079</td>\n",
       "      <td>5000.0</td>\n",
       "    </tr>\n",
       "    <tr>\n",
       "      <th>383</th>\n",
       "      <td>2012-01-04 00:00:00+00:00</td>\n",
       "      <td>175.500176</td>\n",
       "      <td>4950.859951</td>\n",
       "      <td>5000.0</td>\n",
       "    </tr>\n",
       "    <tr>\n",
       "      <th>384</th>\n",
       "      <td>2012-01-05 00:00:00+00:00</td>\n",
       "      <td>175.500176</td>\n",
       "      <td>4871.884872</td>\n",
       "      <td>5000.0</td>\n",
       "    </tr>\n",
       "    <tr>\n",
       "      <th>385</th>\n",
       "      <td>2012-01-06 00:00:00+00:00</td>\n",
       "      <td>175.500176</td>\n",
       "      <td>4773.604774</td>\n",
       "      <td>5000.0</td>\n",
       "    </tr>\n",
       "  </tbody>\n",
       "</table>\n",
       "</div>"
      ],
      "text/plain": [
       "                         Time  num_shares     position  capital\n",
       "381 2011-12-30 00:00:00+00:00  175.500176  5000.000000   5000.0\n",
       "382 2012-01-03 00:00:00+00:00  175.500176  5078.975079   5000.0\n",
       "383 2012-01-04 00:00:00+00:00  175.500176  4950.859951   5000.0\n",
       "384 2012-01-05 00:00:00+00:00  175.500176  4871.884872   5000.0\n",
       "385 2012-01-06 00:00:00+00:00  175.500176  4773.604774   5000.0"
      ]
     },
     "execution_count": 148,
     "metadata": {},
     "output_type": "execute_result"
    }
   ],
   "source": [
    "buy_and_sell_df.head()"
   ]
  },
  {
   "cell_type": "code",
   "execution_count": 149,
   "metadata": {},
   "outputs": [
    {
     "data": {
      "text/html": [
       "<div>\n",
       "<style scoped>\n",
       "    .dataframe tbody tr th:only-of-type {\n",
       "        vertical-align: middle;\n",
       "    }\n",
       "\n",
       "    .dataframe tbody tr th {\n",
       "        vertical-align: top;\n",
       "    }\n",
       "\n",
       "    .dataframe thead th {\n",
       "        text-align: right;\n",
       "    }\n",
       "</style>\n",
       "<table border=\"1\" class=\"dataframe\">\n",
       "  <thead>\n",
       "    <tr style=\"text-align: right;\">\n",
       "      <th></th>\n",
       "      <th>Time</th>\n",
       "      <th>num_shares</th>\n",
       "      <th>position</th>\n",
       "      <th>capital</th>\n",
       "    </tr>\n",
       "  </thead>\n",
       "  <tbody>\n",
       "    <tr>\n",
       "      <th>5693</th>\n",
       "      <td>2020-06-03 19:35:00+00:00</td>\n",
       "      <td>175.500176</td>\n",
       "      <td>155268.510127</td>\n",
       "      <td>5000.0</td>\n",
       "    </tr>\n",
       "    <tr>\n",
       "      <th>5694</th>\n",
       "      <td>2020-06-03 19:40:00+00:00</td>\n",
       "      <td>175.500176</td>\n",
       "      <td>155417.691703</td>\n",
       "      <td>5000.0</td>\n",
       "    </tr>\n",
       "    <tr>\n",
       "      <th>5695</th>\n",
       "      <td>2020-06-03 19:45:00+00:00</td>\n",
       "      <td>175.500176</td>\n",
       "      <td>155442.264298</td>\n",
       "      <td>5000.0</td>\n",
       "    </tr>\n",
       "    <tr>\n",
       "      <th>5696</th>\n",
       "      <td>2020-06-03 19:50:00+00:00</td>\n",
       "      <td>175.500176</td>\n",
       "      <td>155442.264298</td>\n",
       "      <td>5000.0</td>\n",
       "    </tr>\n",
       "    <tr>\n",
       "      <th>5697</th>\n",
       "      <td>2020-06-03 19:55:00+00:00</td>\n",
       "      <td>175.500176</td>\n",
       "      <td>155028.022185</td>\n",
       "      <td>5000.0</td>\n",
       "    </tr>\n",
       "  </tbody>\n",
       "</table>\n",
       "</div>"
      ],
      "text/plain": [
       "                          Time  num_shares       position  capital\n",
       "5693 2020-06-03 19:35:00+00:00  175.500176  155268.510127   5000.0\n",
       "5694 2020-06-03 19:40:00+00:00  175.500176  155417.691703   5000.0\n",
       "5695 2020-06-03 19:45:00+00:00  175.500176  155442.264298   5000.0\n",
       "5696 2020-06-03 19:50:00+00:00  175.500176  155442.264298   5000.0\n",
       "5697 2020-06-03 19:55:00+00:00  175.500176  155028.022185   5000.0"
      ]
     },
     "execution_count": 149,
     "metadata": {},
     "output_type": "execute_result"
    }
   ],
   "source": [
    "hold_df.tail()"
   ]
  },
  {
   "cell_type": "code",
   "execution_count": 139,
   "metadata": {},
   "outputs": [
    {
     "name": "stdout",
     "output_type": "stream",
     "text": [
      "0.9846625766871165\n"
     ]
    },
    {
     "name": "stderr",
     "output_type": "stream",
     "text": [
      "/Users/JJ/opt/anaconda3/envs/insight/lib/python3.8/site-packages/pandas/core/indexing.py:671: SettingWithCopyWarning: \n",
      "A value is trying to be set on a copy of a slice from a DataFrame\n",
      "\n",
      "See the caveats in the documentation: https://pandas.pydata.org/pandas-docs/stable/user_guide/indexing.html#returning-a-view-versus-a-copy\n",
      "  self._setitem_with_indexer(indexer, value)\n"
     ]
    },
    {
     "data": {
      "text/html": [
       "<div>\n",
       "<style scoped>\n",
       "    .dataframe tbody tr th:only-of-type {\n",
       "        vertical-align: middle;\n",
       "    }\n",
       "\n",
       "    .dataframe tbody tr th {\n",
       "        vertical-align: top;\n",
       "    }\n",
       "\n",
       "    .dataframe thead th {\n",
       "        text-align: right;\n",
       "    }\n",
       "</style>\n",
       "<table border=\"1\" class=\"dataframe\">\n",
       "  <thead>\n",
       "    <tr style=\"text-align: right;\">\n",
       "      <th></th>\n",
       "      <th>Time</th>\n",
       "      <th>num_shares</th>\n",
       "      <th>position</th>\n",
       "      <th>capital</th>\n",
       "    </tr>\n",
       "  </thead>\n",
       "  <tbody>\n",
       "    <tr>\n",
       "      <th>5693</th>\n",
       "      <td>2020-06-03 19:35:00+00:00</td>\n",
       "      <td>16.025641</td>\n",
       "      <td>14178.204659</td>\n",
       "      <td>4923.312883</td>\n",
       "    </tr>\n",
       "    <tr>\n",
       "      <th>5694</th>\n",
       "      <td>2020-06-03 19:40:00+00:00</td>\n",
       "      <td>16.025641</td>\n",
       "      <td>14191.827040</td>\n",
       "      <td>4923.312883</td>\n",
       "    </tr>\n",
       "    <tr>\n",
       "      <th>5695</th>\n",
       "      <td>2020-06-03 19:45:00+00:00</td>\n",
       "      <td>16.025641</td>\n",
       "      <td>14194.070865</td>\n",
       "      <td>4923.312883</td>\n",
       "    </tr>\n",
       "    <tr>\n",
       "      <th>5696</th>\n",
       "      <td>2020-06-03 19:50:00+00:00</td>\n",
       "      <td>16.025641</td>\n",
       "      <td>14194.070865</td>\n",
       "      <td>4923.312883</td>\n",
       "    </tr>\n",
       "    <tr>\n",
       "      <th>5697</th>\n",
       "      <td>2020-06-03 19:55:00+00:00</td>\n",
       "      <td>16.025641</td>\n",
       "      <td>14156.244718</td>\n",
       "      <td>4923.312883</td>\n",
       "    </tr>\n",
       "  </tbody>\n",
       "</table>\n",
       "</div>"
      ],
      "text/plain": [
       "                          Time  num_shares      position      capital\n",
       "5693 2020-06-03 19:35:00+00:00   16.025641  14178.204659  4923.312883\n",
       "5694 2020-06-03 19:40:00+00:00   16.025641  14191.827040  4923.312883\n",
       "5695 2020-06-03 19:45:00+00:00   16.025641  14194.070865  4923.312883\n",
       "5696 2020-06-03 19:50:00+00:00   16.025641  14194.070865  4923.312883\n",
       "5697 2020-06-03 19:55:00+00:00   16.025641  14156.244718  4923.312883"
      ]
     },
     "execution_count": 139,
     "metadata": {},
     "output_type": "execute_result"
    }
   ],
   "source": [
    "i=20\n",
    "buy_date = tsla_df.loc[tsla_df['DateTime'] \n",
    "                       == anomaly_only_df['stock_time'].iloc[i]]['DateTime']\n",
    "buy_index = tsla_df.loc[tsla_df['DateTime'] \n",
    "                        == anomaly_only_df['stock_time'].iloc[i]].index[0]\n",
    "buy_price = tsla_df.loc[tsla_df['DateTime'] \n",
    "                        == anomaly_only_df['stock_time'].iloc[i]]['Open'].values[0]\n",
    "sell_date_target = tsla_df.loc[tsla_df['DateTime'] \n",
    "                       == anomaly_only_df['stock_time'].iloc[i]]['DateTime'] + buy_delay\n",
    "#the desired sell date may not be a business day\n",
    "sell_date = nearest(tsla_df['DateTime'].iloc[buy_index+1:],sell_date_target.iloc[0]) \n",
    "sell_index = tsla_df.loc[tsla_df['DateTime'] == sell_date].index[0]\n",
    "sell_price = tsla_df.loc[tsla_df['DateTime'] == sell_date]['Open'].values[0]\n",
    "frac_change = sell_price/buy_price #the fractional change in our captial from the transactionuy\n",
    "print (frac_change)\n",
    "buy_and_sell_df['capital'].iloc[sell_index:] *= frac_change\n",
    "buy_and_sell_df.tail()"
   ]
  },
  {
   "cell_type": "code",
   "execution_count": 157,
   "metadata": {},
   "outputs": [
    {
     "name": "stdout",
     "output_type": "stream",
     "text": [
      "2012-11-23 00:00:00+00:00\n",
      "606   2012-11-23 00:00:00+00:00\n",
      "Name: DateTime, dtype: datetime64[ns, UTC]\n",
      "32.6\n",
      "606   2012-11-24 00:00:00+00:00\n",
      "Name: DateTime, dtype: datetime64[ns, UTC]\n",
      "2012-11-26 00:00:00+00:00\n",
      "32.1\n"
     ]
    },
    {
     "name": "stderr",
     "output_type": "stream",
     "text": [
      "/Users/JJ/opt/anaconda3/envs/insight/lib/python3.8/site-packages/pandas/core/indexing.py:671: SettingWithCopyWarning: \n",
      "A value is trying to be set on a copy of a slice from a DataFrame\n",
      "\n",
      "See the caveats in the documentation: https://pandas.pydata.org/pandas-docs/stable/user_guide/indexing.html#returning-a-view-versus-a-copy\n",
      "  self._setitem_with_indexer(indexer, value)\n"
     ]
    },
    {
     "data": {
      "text/html": [
       "<div>\n",
       "<style scoped>\n",
       "    .dataframe tbody tr th:only-of-type {\n",
       "        vertical-align: middle;\n",
       "    }\n",
       "\n",
       "    .dataframe tbody tr th {\n",
       "        vertical-align: top;\n",
       "    }\n",
       "\n",
       "    .dataframe thead th {\n",
       "        text-align: right;\n",
       "    }\n",
       "</style>\n",
       "<table border=\"1\" class=\"dataframe\">\n",
       "  <thead>\n",
       "    <tr style=\"text-align: right;\">\n",
       "      <th></th>\n",
       "      <th>Time</th>\n",
       "      <th>num_shares</th>\n",
       "      <th>position</th>\n",
       "      <th>capital</th>\n",
       "    </tr>\n",
       "  </thead>\n",
       "  <tbody>\n",
       "    <tr>\n",
       "      <th>5693</th>\n",
       "      <td>2020-06-03 19:35:00+00:00</td>\n",
       "      <td>178.233823</td>\n",
       "      <td>157687.022746</td>\n",
       "      <td>5000.0</td>\n",
       "    </tr>\n",
       "    <tr>\n",
       "      <th>5694</th>\n",
       "      <td>2020-06-03 19:40:00+00:00</td>\n",
       "      <td>178.233823</td>\n",
       "      <td>157838.528022</td>\n",
       "      <td>5000.0</td>\n",
       "    </tr>\n",
       "    <tr>\n",
       "      <th>5695</th>\n",
       "      <td>2020-06-03 19:45:00+00:00</td>\n",
       "      <td>178.233823</td>\n",
       "      <td>157863.483369</td>\n",
       "      <td>5000.0</td>\n",
       "    </tr>\n",
       "    <tr>\n",
       "      <th>5696</th>\n",
       "      <td>2020-06-03 19:50:00+00:00</td>\n",
       "      <td>178.233823</td>\n",
       "      <td>157863.483369</td>\n",
       "      <td>5000.0</td>\n",
       "    </tr>\n",
       "    <tr>\n",
       "      <th>5697</th>\n",
       "      <td>2020-06-03 19:55:00+00:00</td>\n",
       "      <td>178.233823</td>\n",
       "      <td>157442.788886</td>\n",
       "      <td>5000.0</td>\n",
       "    </tr>\n",
       "  </tbody>\n",
       "</table>\n",
       "</div>"
      ],
      "text/plain": [
       "                          Time  num_shares       position  capital\n",
       "5693 2020-06-03 19:35:00+00:00  178.233823  157687.022746   5000.0\n",
       "5694 2020-06-03 19:40:00+00:00  178.233823  157838.528022   5000.0\n",
       "5695 2020-06-03 19:45:00+00:00  178.233823  157863.483369   5000.0\n",
       "5696 2020-06-03 19:50:00+00:00  178.233823  157863.483369   5000.0\n",
       "5697 2020-06-03 19:55:00+00:00  178.233823  157442.788886   5000.0"
      ]
     },
     "execution_count": 157,
     "metadata": {},
     "output_type": "execute_result"
    }
   ],
   "source": [
    "i=20\n",
    "sell_date = tsla_df.loc[tsla_df['DateTime'] \n",
    "                       == anomaly_only_df['stock_time'].iloc[i]]['DateTime']\n",
    "print(anomaly_only_df['stock_time'].iloc[i])\n",
    "print(sell_date)\n",
    "sell_index = tsla_df.loc[tsla_df['DateTime'] \n",
    "                        == anomaly_only_df['stock_time'].iloc[i]].index[0]\n",
    "sell_price = tsla_df.loc[tsla_df['DateTime'] \n",
    "                        == anomaly_only_df['stock_time'].iloc[i]]['Open'].values[0]\n",
    "print(sell_price)\n",
    "buy_date_target = tsla_df.loc[tsla_df['DateTime'] \n",
    "                       == anomaly_only_df['stock_time'].iloc[i]]['DateTime'] + sell_delay\n",
    "print(buy_date_target)\n",
    "#the desired sell date may not be a business day\n",
    "buy_date = nearest(tsla_df['DateTime'].iloc[sell_index+1:],buy_date_target.iloc[0]) \n",
    "print(buy_date)\n",
    "#adjust sell_index to buy_and_sell index coords with (- start_index)\n",
    "buy_index = tsla_df.loc[tsla_df['DateTime'] == buy_date].index[0] - start_index\n",
    "buy_price = tsla_df.loc[tsla_df['DateTime'] == buy_date]['Open'].values[0]\n",
    "print(buy_price)\n",
    "#the change in the number of shares, again adjust sell_index to buy_and_sell \n",
    "#index coords with (- start_index) \n",
    "new_num_shares = sell_price*(buy_and_sell_df['num_shares']\n",
    "                             .iloc[sell_index-start_index])/buy_price \n",
    "buy_and_sell_df['num_shares'].iloc[buy_index:] = new_num_shares\n",
    "buy_and_sell_df['position'].iloc[buy_index:]  = new_num_shares*tsla_df['Open']\\\n",
    "                                                                .iloc[buy_index+start_index:]\n",
    "buy_and_sell_df.tail()"
   ]
  },
  {
   "cell_type": "code",
   "execution_count": 176,
   "metadata": {},
   "outputs": [
    {
     "data": {
      "text/plain": [
       "Timestamp('2011-12-31 13:06:23+0000', tz='UTC')"
      ]
     },
     "execution_count": 176,
     "metadata": {},
     "output_type": "execute_result"
    }
   ],
   "source": [
    "anomaly_only_df['Time'][40]"
   ]
  },
  {
   "cell_type": "code",
   "execution_count": 295,
   "metadata": {
    "collapsed": true
   },
   "outputs": [
    {
     "name": "stdout",
     "output_type": "stream",
     "text": [
      "2011-12-01 00:00:00+00:00\n",
      "2011-12-30 00:00:00+00:00\n",
      "2012-02-27 00:00:00+00:00\n",
      "2012-03-21 00:00:00+00:00\n",
      "2012-05-04 00:00:00+00:00\n",
      "2012-05-04 00:00:00+00:00\n",
      "2012-05-04 00:00:00+00:00\n",
      "2012-05-22 00:00:00+00:00\n",
      "2012-05-22 00:00:00+00:00\n",
      "2012-05-22 00:00:00+00:00\n",
      "2012-05-22 00:00:00+00:00\n",
      "2012-05-23 00:00:00+00:00\n",
      "2012-05-24 00:00:00+00:00\n",
      "2012-05-24 00:00:00+00:00\n",
      "2012-05-25 00:00:00+00:00\n",
      "2012-05-25 00:00:00+00:00\n",
      "2012-06-01 00:00:00+00:00\n",
      "2012-06-01 00:00:00+00:00\n",
      "2012-06-01 00:00:00+00:00\n",
      "2012-07-13 00:00:00+00:00\n",
      "2012-11-23 00:00:00+00:00\n",
      "2012-12-03 00:00:00+00:00\n",
      "2012-12-13 00:00:00+00:00\n",
      "2013-02-04 00:00:00+00:00\n",
      "2013-03-04 00:00:00+00:00\n",
      "2013-03-08 00:00:00+00:00\n",
      "2013-03-11 00:00:00+00:00\n",
      "2013-04-03 00:00:00+00:00\n",
      "2013-04-03 00:00:00+00:00\n",
      "2013-07-29 00:00:00+00:00\n",
      "2014-02-14 00:00:00+00:00\n",
      "2014-04-29 00:00:00+00:00\n",
      "2016-03-10 00:00:00+00:00\n",
      "2016-04-04 00:00:00+00:00\n",
      "2016-06-09 00:00:00+00:00\n",
      "2017-02-21 00:00:00+00:00\n",
      "2017-03-28 00:00:00+00:00\n",
      "2017-03-29 00:00:00+00:00\n",
      "2017-04-28 00:00:00+00:00\n",
      "2018-01-29 00:00:00+00:00\n",
      "2018-02-02 00:00:00+00:00\n",
      "2018-02-07 00:00:00+00:00\n",
      "2018-02-07 00:00:00+00:00\n",
      "2018-02-07 00:00:00+00:00\n",
      "2018-02-07 00:00:00+00:00\n",
      "2018-02-13 00:00:00+00:00\n",
      "2018-04-02 00:00:00+00:00\n",
      "2018-05-21 00:00:00+00:00\n",
      "2018-05-23 00:00:00+00:00\n",
      "2018-05-25 00:00:00+00:00\n",
      "2018-05-25 00:00:00+00:00\n",
      "2018-05-25 00:00:00+00:00\n",
      "2018-06-01 00:00:00+00:00\n",
      "2018-06-04 00:00:00+00:00\n",
      "2018-06-11 00:00:00+00:00\n",
      "2018-06-11 00:00:00+00:00\n",
      "2018-06-15 00:00:00+00:00\n",
      "2018-06-19 00:00:00+00:00\n",
      "2018-06-19 00:00:00+00:00\n",
      "2018-06-22 00:00:00+00:00\n",
      "2018-08-01 00:00:00+00:00\n",
      "2018-09-17 00:00:00+00:00\n",
      "2018-10-19 00:00:00+00:00\n",
      "2018-10-22 00:00:00+00:00\n",
      "2018-11-26 00:00:00+00:00\n",
      "2018-12-03 00:00:00+00:00\n",
      "2018-12-03 00:00:00+00:00\n",
      "2019-01-07 00:00:00+00:00\n",
      "2019-01-10 00:00:00+00:00\n",
      "2019-03-11 00:00:00+00:00\n",
      "2019-03-29 00:00:00+00:00\n",
      "2019-04-01 00:00:00+00:00\n",
      "2019-04-02 00:00:00+00:00\n",
      "2019-04-24 00:00:00+00:00\n",
      "2019-04-29 00:00:00+00:00\n",
      "2019-05-24 00:00:00+00:00\n",
      "2019-06-19 00:00:00+00:00\n",
      "2019-06-26 00:00:00+00:00\n",
      "2019-07-09 00:00:00+00:00\n",
      "2019-07-09 00:00:00+00:00\n",
      "2019-07-09 00:00:00+00:00\n",
      "2019-07-22 00:00:00+00:00\n",
      "2019-08-06 00:00:00+00:00\n",
      "2019-08-15 00:00:00+00:00\n",
      "2019-09-12 00:00:00+00:00\n",
      "2019-09-17 00:00:00+00:00\n",
      "2019-10-04 00:00:00+00:00\n",
      "2019-10-07 00:00:00+00:00\n",
      "2019-12-27 00:00:00+00:00\n",
      "2020-02-03 00:00:00+00:00\n",
      "2020-02-10 00:00:00+00:00\n",
      "2020-03-23 00:00:00+00:00\n",
      "2020-03-23 00:00:00+00:00\n",
      "2020-04-09 19:55:00+00:00\n",
      "2020-04-17 19:55:00+00:00\n",
      "2020-04-30 14:40:00+00:00\n",
      "2020-05-18 00:00:00+00:00\n",
      "2020-05-26 00:00:00+00:00\n"
     ]
    }
   ],
   "source": [
    "for i in anomaly_only_df.index:\n",
    "    print (anomaly_only_df['stock_time'][i])"
   ]
  },
  {
   "cell_type": "code",
   "execution_count": 325,
   "metadata": {},
   "outputs": [
    {
     "name": "stdout",
     "output_type": "stream",
     "text": [
      "1      2011-12-01 00:00:00+00:00\n",
      "40     2011-12-30 00:00:00+00:00\n",
      "99     2012-02-27 00:00:00+00:00\n",
      "113    2012-03-21 00:00:00+00:00\n",
      "141    2012-05-04 00:00:00+00:00\n",
      "                  ...           \n",
      "9062   2020-04-09 19:55:00+00:00\n",
      "9153   2020-04-17 19:55:00+00:00\n",
      "9326   2020-04-30 14:40:00+00:00\n",
      "9626   2020-05-18 00:00:00+00:00\n",
      "9675   2020-05-26 00:00:00+00:00\n",
      "Name: stock_time, Length: 98, dtype: datetime64[ns, UTC]\n"
     ]
    }
   ],
   "source": [
    "print (anomaly_only_df['stock_time'])"
   ]
  },
  {
   "cell_type": "code",
   "execution_count": 415,
   "metadata": {},
   "outputs": [],
   "source": [
    "#from numba import jit\n",
    "poslim = .2\n",
    "neglim = .2\n",
    "timezone = pytz.timezone('UTC')\n",
    "start_date = timezone.localize(datetime.datetime(2012,1,1))\n",
    "sell_delay = datetime.timedelta(days=1)\n",
    "buy_delay = datetime.timedelta(days=1)\n",
    "init_position = 5000.\n",
    "init_capital = 5000.\n",
    "#@jit()\n",
    "def asset_strategy_calculation(poslim,neglim,init_position,init_capital,\n",
    "                                buy_delay,sell_delay,start_date,\n",
    "                                anomaly_only_df,tsla_df):\n",
    "    \"\"\"The buying and selling strategy implementing tweet inforation\"\"\"\n",
    "    hold_df = pd.DataFrame() #initialize \n",
    "    buy_and_sell_df = pd.DataFrame() #initialize\n",
    "    #the closest date with a stock price\n",
    "    true_start_date = nearest(tsla_df['DateTime'],start_date) \n",
    "    #the index of true_start_date\n",
    "    start_index = tsla_df.loc[tsla_df['DateTime'] == true_start_date].index[0]\n",
    "    hold_df['Time'] = tsla_df['DateTime'].iloc[start_index:] #set dates\n",
    "    buy_and_sell_df['Time'] = tsla_df['DateTime'].iloc[start_index:] #set dates\n",
    "    # Position growth scales with Tesla stock price\n",
    "    hold_df['position'] = (tsla_df['Open'].iloc[start_index:]\\\n",
    "                           /tsla_df['Open'].iloc[start_index])*init_position\n",
    "    # buy_and sell_df needs to track the number of shares held\n",
    "    buy_and_sell_df['num_shares'] = init_position/tsla_df['Open']\\\n",
    "                                                    .iloc[start_index]\n",
    "    # and the value of those shares\n",
    "    buy_and_sell_df['position'] = (tsla_df['Open'].iloc[start_index:]\\\n",
    "                                   *buy_and_sell_df['num_shares'])\n",
    "    # Capital growth only changes as a result of buy -> sell orders\n",
    "    hold_df['capital'] = init_capital\n",
    "    buy_and_sell_df['capital'] = init_capital\n",
    "    # Iterate over the anomalies and make trades based on input variables\n",
    "    for i in anomaly_only_df.index:# we only trade based on tweet anomalies\n",
    "        #iterate forward through time with the index of anomaly_only_df\n",
    "        if anomaly_only_df['Time'][i] < start_date: \n",
    "            #this anomaly happened before we started trading\n",
    "            pass\n",
    "        elif anomaly_only_df['text_compound'][i] < poslim and \\\n",
    "                anomaly_only_df['text_compound'][i] > -neglim : \n",
    "            #neutral anomaly, do nothing\n",
    "            pass\n",
    "        elif anomaly_only_df['text_compound'][i] >= poslim : \n",
    "            # buy first then sell\n",
    "            buy_date = tsla_df.loc[tsla_df['DateTime'] \\\n",
    "                                   == anomaly_only_df['stock_time'][i]]\\\n",
    "                                   ['DateTime']\n",
    "            buy_index = tsla_df.loc[tsla_df['DateTime'] \\\n",
    "                                    == anomaly_only_df['stock_time'][i]]\\\n",
    "                                    .index[0]\n",
    "            buy_price = tsla_df.loc[tsla_df['DateTime'] \\\n",
    "                                    == anomaly_only_df['stock_time'][i]]\\\n",
    "                                    ['Open'].values[0]\n",
    "            sell_date_target = tsla_df.loc[tsla_df['DateTime'] \n",
    "                                           == anomaly_only_df['stock_time'][i]\\\n",
    "                                           ]['DateTime'] + buy_delay\n",
    "            #the desired sell date may not be a business day\n",
    "            sell_date = nearest(tsla_df['DateTime'].iloc[buy_index+1:],\\\n",
    "                                                    sell_date_target.iloc[0]) \n",
    "            #adjust sell_index to buy_and_sell index units with (- start_index)\n",
    "            sell_index = tsla_df.loc[tsla_df['DateTime'] == sell_date].\\\n",
    "                                                        index[0] - start_index\n",
    "            sell_price = tsla_df.loc[tsla_df['DateTime'] == sell_date]\\\n",
    "                                                            ['Open'].values[0]\n",
    "            #the fractional change in our captial from the transaction\n",
    "            frac_change = sell_price/buy_price \n",
    "            buy_and_sell_df['capital'].iloc[sell_index:] *= frac_change\n",
    "        elif anomaly_only_df['text_compound'][i] <= -neglim : \n",
    "            # sell first then buy\n",
    "            sell_date = tsla_df.loc[tsla_df['DateTime'] \n",
    "                       == anomaly_only_df['stock_time'][i]]['DateTime']\n",
    "            sell_index = tsla_df.loc[tsla_df['DateTime'] \n",
    "                                    == anomaly_only_df['stock_time'][i]]\\\n",
    "                                                                .index[0]\n",
    "            sell_price = tsla_df.loc[tsla_df['DateTime'] \\\n",
    "                                    == anomaly_only_df['stock_time'][i]]\\\n",
    "                                    ['Open'].values[0]\n",
    "            buy_date_target = tsla_df.loc[tsla_df['DateTime'] \\\n",
    "                                         == anomaly_only_df['stock_time'][i]]\\\n",
    "                                         ['DateTime'] + sell_delay\n",
    "            #the desired sell date may not be a business day\n",
    "            buy_date = nearest(tsla_df['DateTime'].iloc[sell_index+1:],\\\n",
    "                               buy_date_target.iloc[0]) \n",
    "            #adjust sell_index to buy_and_sell index units with (- start_index)\n",
    "            buy_index = tsla_df.loc[tsla_df['DateTime'] == buy_date].index[0]\\\n",
    "                        - start_index\n",
    "            buy_price = tsla_df.loc[tsla_df['DateTime'] == buy_date]['Open']\\\n",
    "                                    .values[0]\n",
    "            #the change in the number of shares, again adjust sell_index to \n",
    "            #buy_and_sell index coords with (- start_index) \n",
    "            new_num_shares = sell_price*(buy_and_sell_df['num_shares']\\\n",
    "                                       .iloc[sell_index-start_index])/buy_price \n",
    "            #record the new shares\n",
    "            buy_and_sell_df['num_shares'].iloc[buy_index:] = new_num_shares \n",
    "            #compute the new position\n",
    "            buy_and_sell_df['position'].iloc[buy_index:] = new_num_shares*\\\n",
    "                                tsla_df['Open'].iloc[buy_index+start_index:]\n",
    "            \n",
    "    hold_df['total'] = hold_df['position']+hold_df['capital']\n",
    "    buy_and_sell_df['total'] = buy_and_sell_df['position']+\\\n",
    "                               buy_and_sell_df['capital']\n",
    "    #relative performance\n",
    "    hold_df['relative'] = hold_df['total']/hold_df['total']\n",
    "    buy_and_sell_df['relative'] = buy_and_sell_df['total']/\\\n",
    "                                  hold_df['total']\n",
    "    return buy_and_sell_df,hold_df "
   ]
  },
  {
   "cell_type": "code",
   "execution_count": 416,
   "metadata": {},
   "outputs": [
    {
     "name": "stderr",
     "output_type": "stream",
     "text": [
      "/Users/JJ/opt/anaconda3/envs/insight/lib/python3.8/site-packages/pandas/core/indexing.py:671: SettingWithCopyWarning: \n",
      "A value is trying to be set on a copy of a slice from a DataFrame\n",
      "\n",
      "See the caveats in the documentation: https://pandas.pydata.org/pandas-docs/stable/user_guide/indexing.html#returning-a-view-versus-a-copy\n",
      "  self._setitem_with_indexer(indexer, value)\n"
     ]
    },
    {
     "name": "stdout",
     "output_type": "stream",
     "text": [
      "CPU times: user 6.8 s, sys: 22 ms, total: 6.82 s\n",
      "Wall time: 6.86 s\n"
     ]
    }
   ],
   "source": [
    "%%time\n",
    "strat_df,hold_df = asset_strategy_calculation(poslim,neglim,init_position,init_capital,\\\n",
    "                                buy_delay,sell_delay,start_date,\\\n",
    "                                anomaly_only_df,tsla_df)"
   ]
  },
  {
   "cell_type": "code",
   "execution_count": 417,
   "metadata": {},
   "outputs": [
    {
     "data": {
      "text/plain": [
       "<matplotlib.axes._subplots.AxesSubplot at 0x12325c7c0>"
      ]
     },
     "execution_count": 417,
     "metadata": {},
     "output_type": "execute_result"
    },
    {
     "data": {
      "image/png": "[encoded data removed]",
      "text/plain": [
       "<Figure size 432x288 with 1 Axes>"
      ]
     },
     "metadata": {
      "needs_background": "light"
     },
     "output_type": "display_data"
    }
   ],
   "source": [
    "hold_df.plot(x='Time',y='total')"
   ]
  },
  {
   "cell_type": "code",
   "execution_count": 418,
   "metadata": {
    "scrolled": true
   },
   "outputs": [
    {
     "data": {
      "text/plain": [
       "<matplotlib.axes._subplots.AxesSubplot at 0x122a94340>"
      ]
     },
     "execution_count": 418,
     "metadata": {},
     "output_type": "execute_result"
    },
    {
     "data": {
      "image/png": "[encoded data removed]",
      "text/plain": [
       "<Figure size 432x288 with 1 Axes>"
      ]
     },
     "metadata": {
      "needs_background": "light"
     },
     "output_type": "display_data"
    }
   ],
   "source": [
    "strat_df.plot(x='Time',y='num_shares')"
   ]
  },
  {
   "cell_type": "code",
   "execution_count": 419,
   "metadata": {},
   "outputs": [
    {
     "data": {
      "text/plain": [
       "<matplotlib.axes._subplots.AxesSubplot at 0x1236053d0>"
      ]
     },
     "execution_count": 419,
     "metadata": {},
     "output_type": "execute_result"
    },
    {
     "data": {
      "image/png": "[encoded data removed]",
      "text/plain": [
       "<Figure size 432x288 with 1 Axes>"
      ]
     },
     "metadata": {
      "needs_background": "light"
     },
     "output_type": "display_data"
    }
   ],
   "source": [
    "strat_df.plot(x='Time',y='relative')"
   ]
  },
  {
   "cell_type": "markdown",
   "metadata": {},
   "source": [
    "# Time to make a numpy version of the trading strategy function so that it runs faster than ~8s so we can do some hyper-parameter tuning."
   ]
  },
  {
   "cell_type": "code",
   "execution_count": 249,
   "metadata": {},
   "outputs": [
    {
     "name": "stdout",
     "output_type": "stream",
     "text": [
      "Index(['DateTime', 'Open', 'High', 'Low', 'Close', 'Volume', 'Dividends',\n",
      "       'Stock Splits', 'Adj Close'],\n",
      "      dtype='object')\n"
     ]
    },
    {
     "data": {
      "text/plain": [
       "(5698, 2)"
      ]
     },
     "execution_count": 249,
     "metadata": {},
     "output_type": "execute_result"
    }
   ],
   "source": [
    "tsla_np = tsla_df[['DateTime','Open']].values\n",
    "print(tsla_df.columns)\n",
    "tsla_np.shape\n"
   ]
  },
  {
   "cell_type": "code",
   "execution_count": 235,
   "metadata": {},
   "outputs": [
    {
     "name": "stdout",
     "output_type": "stream",
     "text": [
      "Index(['Time', 'stock_time', 'text_compound'], dtype='object')\n"
     ]
    },
    {
     "data": {
      "text/plain": [
       "(98, 3)"
      ]
     },
     "execution_count": 235,
     "metadata": {},
     "output_type": "execute_result"
    }
   ],
   "source": [
    "anomaly_only_np = anomaly_only_df[['Time','stock_time','text_compound']].values\n",
    "print (anomaly_only_df[['Time','stock_time','text_compound']].columns)\n",
    "anomaly_only_np.shape"
   ]
  },
  {
   "cell_type": "code",
   "execution_count": 236,
   "metadata": {},
   "outputs": [
    {
     "data": {
      "text/plain": [
       "(98, 4)"
      ]
     },
     "execution_count": 236,
     "metadata": {},
     "output_type": "execute_result"
    }
   ],
   "source": [
    "anomaly_only_np = np.vstack((anomaly_only_df.index,anomaly_only_np.transpose())).transpose()\n",
    "anomaly_only_np.shape"
   ]
  },
  {
   "cell_type": "markdown",
   "metadata": {},
   "source": [
    "Need to test this function to see if it still works"
   ]
  },
  {
   "cell_type": "code",
   "execution_count": 264,
   "metadata": {},
   "outputs": [
    {
     "data": {
      "text/plain": [
       "Index(['DateTime', 'Open', 'High', 'Low', 'Close', 'Volume', 'Dividends',\n",
       "       'Stock Splits', 'Adj Close'],\n",
       "      dtype='object')"
      ]
     },
     "execution_count": 264,
     "metadata": {},
     "output_type": "execute_result"
    }
   ],
   "source": [
    "tsla_df.columns"
   ]
  },
  {
   "cell_type": "code",
   "execution_count": 323,
   "metadata": {},
   "outputs": [
    {
     "name": "stdout",
     "output_type": "stream",
     "text": [
      "(5698, 10)\n"
     ]
    },
    {
     "name": "stderr",
     "output_type": "stream",
     "text": [
      "<ipython-input-323-f695c3e7c406>:5: SettingWithCopyWarning: \n",
      "A value is trying to be set on a copy of a slice from a DataFrame.\n",
      "Try using .loc[row_indexer,col_indexer] = value instead\n",
      "\n",
      "See the caveats in the documentation: https://pandas.pydata.org/pandas-docs/stable/user_guide/indexing.html#returning-a-view-versus-a-copy\n",
      "  df['temporary'] = df.apply(lambda row : (row[time_column] - start_time).total_seconds(),axis=1)\n"
     ]
    },
    {
     "ename": "NameError",
     "evalue": "name 'tsa_time' is not defined",
     "output_type": "error",
     "traceback": [
      "\u001b[0;31m---------------------------------------------------------------------------\u001b[0m",
      "\u001b[0;31mNameError\u001b[0m                                 Traceback (most recent call last)",
      "\u001b[0;32m<ipython-input-323-f695c3e7c406>\u001b[0m in \u001b[0;36m<module>\u001b[0;34m\u001b[0m\n\u001b[1;32m     14\u001b[0m \u001b[0manomaly_stock_time\u001b[0m \u001b[0;34m=\u001b[0m \u001b[0mconvert_to_seconds_after_start\u001b[0m\u001b[0;34m(\u001b[0m\u001b[0mstart_date\u001b[0m\u001b[0;34m,\u001b[0m\u001b[0manomaly_only_df\u001b[0m\u001b[0;34m,\u001b[0m\u001b[0;34m'stock_time'\u001b[0m\u001b[0;34m)\u001b[0m\u001b[0;34m\u001b[0m\u001b[0;34m\u001b[0m\u001b[0m\n\u001b[1;32m     15\u001b[0m \u001b[0mprint\u001b[0m \u001b[0;34m(\u001b[0m\u001b[0mtsla_df\u001b[0m\u001b[0;34m.\u001b[0m\u001b[0mshape\u001b[0m\u001b[0;34m)\u001b[0m\u001b[0;34m\u001b[0m\u001b[0;34m\u001b[0m\u001b[0m\n\u001b[0;32m---> 16\u001b[0;31m \u001b[0mprint\u001b[0m \u001b[0;34m(\u001b[0m\u001b[0mtsa_time\u001b[0m\u001b[0;34m.\u001b[0m\u001b[0mshape\u001b[0m\u001b[0;34m)\u001b[0m\u001b[0;34m\u001b[0m\u001b[0;34m\u001b[0m\u001b[0m\n\u001b[0m\u001b[1;32m     17\u001b[0m \u001b[0;31m#strip inputs down to only the necessary entries for numpy array assignment\u001b[0m\u001b[0;34m\u001b[0m\u001b[0;34m\u001b[0m\u001b[0;34m\u001b[0m\u001b[0m\n\u001b[1;32m     18\u001b[0m \u001b[0mtsla_np\u001b[0m \u001b[0;34m=\u001b[0m \u001b[0mtsla_df\u001b[0m\u001b[0;34m[\u001b[0m\u001b[0;34m[\u001b[0m\u001b[0;34m'DateTime'\u001b[0m\u001b[0;34m,\u001b[0m\u001b[0;34m'Open'\u001b[0m\u001b[0;34m]\u001b[0m\u001b[0;34m]\u001b[0m\u001b[0;34m.\u001b[0m\u001b[0mvalues\u001b[0m\u001b[0;34m\u001b[0m\u001b[0;34m\u001b[0m\u001b[0m\n",
      "\u001b[0;31mNameError\u001b[0m: name 'tsa_time' is not defined"
     ]
    }
   ],
   "source": [
    "def convert_to_seconds_after_start(start_time,df,time_column):\n",
    "    \"\"\"A function to turn the datetime data from the\n",
    "        pandas data frames to floats for the numpy\n",
    "        vertion of the asset strategy model.\"\"\"\n",
    "    df['temporary'] = df.apply(lambda row : (row[time_column] - start_time).total_seconds(),axis=1)\n",
    "    #returns a numpy array\n",
    "    result = np.zeros(df.shape[0])\n",
    "    result = df['temporary'].values\n",
    "    df.drop(columns=['temporary'])\n",
    "    return result\n",
    "#convert datetimes to floats (s after start date)\n",
    "tsla_time = convert_to_seconds_after_start(start_date,tsla_df,'DateTime')\n",
    "anomaly_time = convert_to_seconds_after_start(start_date,anomaly_only_df,'Time')\n",
    "anomaly_stock_time = convert_to_seconds_after_start(start_date,anomaly_only_df,'stock_time')\n",
    "print (tsla_df.shape)\n",
    "print (tsa_time.shape)\n",
    "#strip inputs down to only the necessary entries for numpy array assignment\n",
    "tsla_np = tsla_df[['DateTime','Open']].values\n",
    "anomaly_only_np = anomaly_only_df[['Time','stock_time',\\\n",
    "                                   'text_compound']].values\n",
    "#'index' goes on index 0 \n",
    "anomaly_only_np = np.vstack((anomaly_only_df.index,\\\n",
    "                             anomaly_only_np.transpose())).transpose()\n",
    "# write time in (s) to the arrays\n",
    "tsla_np[:,0] = tsla_time\n",
    "anomaly_only_np[:,1] = anomaly_time\n",
    "anomaly_only_np[:,2] = anomaly_stock_time"
   ]
  },
  {
   "cell_type": "code",
   "execution_count": 238,
   "metadata": {},
   "outputs": [
    {
     "name": "stdout",
     "output_type": "stream",
     "text": [
      "122 ms ± 1.8 ms per loop (mean ± std. dev. of 7 runs, 10 loops each)\n"
     ]
    }
   ],
   "source": [
    "timezone = pytz.timezone('UTC')\n",
    "start_date = timezone.localize(datetime.datetime(2012,1,1))\n",
    "\n",
    "%timeit true_start_date = nearest(tsla_df['DateTime'],start_date)"
   ]
  },
  {
   "cell_type": "code",
   "execution_count": 292,
   "metadata": {},
   "outputs": [
    {
     "name": "stdout",
     "output_type": "stream",
     "text": [
      "762 µs ± 12.2 µs per loop (mean ± std. dev. of 7 runs, 1000 loops each)\n"
     ]
    }
   ],
   "source": [
    "%timeit true_start_date = nearest(tsla_np[:,0],0.) #since times are now measured in seconds beore/after start date"
   ]
  },
  {
   "cell_type": "markdown",
   "metadata": {},
   "source": [
    "Sweeet, x160 speed up."
   ]
  },
  {
   "cell_type": "code",
   "execution_count": 294,
   "metadata": {},
   "outputs": [
    {
     "name": "stdout",
     "output_type": "stream",
     "text": [
      "327 µs ± 17.2 µs per loop (mean ± std. dev. of 7 runs, 1000 loops each)\n"
     ]
    }
   ],
   "source": [
    "%timeit true_start_date = np.min(np.abs(tsla_np[:,0]-0.))"
   ]
  },
  {
   "cell_type": "markdown",
   "metadata": {},
   "source": [
    "Even better!"
   ]
  },
  {
   "cell_type": "code",
   "execution_count": 291,
   "metadata": {},
   "outputs": [
    {
     "name": "stdout",
     "output_type": "stream",
     "text": [
      "[-47606400.0 -47520000.0 -47433600.0 -47347200.0 -47001600.0 -46915200.0\n",
      " -46828800.0 -46742400.0 -46483200.0 -46396800.0] [265835400.0 265835700.0 265836000.0 265836300.0 265836600.0 265836900.0\n",
      " 265837200.0 265837500.0 265837800.0 265838100.0]\n",
      "[-2678400.0 -172800.0 4924800.0 6912000.0 10713600.0 10713600.0 10713600.0\n",
      " 12268800.0 12268800.0 12268800.0] [252028800.0 255312000.0 255916800.0 259545600.0 259545600.0 261086100.0\n",
      " 261777300.0 262881600.0 264384000.0 265075200.0]\n",
      "[-2678400.0 -172800.0 4924800.0 6912000.0 10713600.0 10713600.0 10713600.0\n",
      " 12268800.0 12268800.0 12268800.0] [252028800.0 255312000.0 255916800.0 259545600.0 259545600.0 261086100.0\n",
      " 261777300.0 262881600.0 264384000.0 265075200.0]\n"
     ]
    }
   ],
   "source": [
    "#Sanity checks\n",
    "print (tsla_np[:10,0],tsla_np[-10:,0])\n",
    "print (anomaly_only_np[:10,1],anomaly_only_np[-10:,1])\n",
    "print (anomaly_only_np[:10,2],anomaly_only_np[-10:,2])"
   ]
  },
  {
   "cell_type": "code",
   "execution_count": 279,
   "metadata": {},
   "outputs": [
    {
     "data": {
      "text/plain": [
       "86400.0"
      ]
     },
     "execution_count": 279,
     "metadata": {},
     "output_type": "execute_result"
    }
   ],
   "source": [
    "#let's see if the .total_seconds() method works on timedelta\n",
    "sell_delay = datetime.timedelta(days=1).total_seconds()\n",
    "sell_delay"
   ]
  },
  {
   "cell_type": "markdown",
   "metadata": {},
   "source": [
    "Victory! Time to re-jigger the whole function with numpy arrays and numba."
   ]
  },
  {
   "cell_type": "code",
   "execution_count": 283,
   "metadata": {},
   "outputs": [
    {
     "name": "stderr",
     "output_type": "stream",
     "text": [
      "<ipython-input-283-315a42f41542>:110: SettingWithCopyWarning: \n",
      "A value is trying to be set on a copy of a slice from a DataFrame.\n",
      "Try using .loc[row_indexer,col_indexer] = value instead\n",
      "\n",
      "See the caveats in the documentation: https://pandas.pydata.org/pandas-docs/stable/user_guide/indexing.html#returning-a-view-versus-a-copy\n",
      "  df['temporary'] = df.apply(lambda row : (row[time_column] - start_time).total_seconds(),axis=1)\n"
     ]
    }
   ],
   "source": [
    "poslim = .2\n",
    "neglim = .2\n",
    "timezone = pytz.timezone('UTC')\n",
    "start_date = timezone.localize(datetime.datetime(2015,1,1))\n",
    "end_date = timezone.localize(datetime.datetime(2020,2,1))\n",
    "sell_delay = datetime.timedelta(days=1)\n",
    "buy_delay = datetime.timedelta(days=1)\n",
    "init_position = 5000.\n",
    "init_capital = 5000.\n",
    "\n",
    "def apply_rules(index_i,index_j,stock_np,anomaly_np,buy_sell_np,rule,\n",
    "                buy_delay,sell_delay,start_index,rand_flag = False):\n",
    "    #This is only for modelling random guessing########\n",
    "    if rand_flag == True:\n",
    "        rule = random.choice(['buy','nothing','sell'])\n",
    "    else:\n",
    "        pass\n",
    "    ###################################################\n",
    "    if rule == 'nothing':\n",
    "        return buy_sell_np\n",
    "    elif rule == 'buy':\n",
    "        # buy first then sell\n",
    "        buy_date = anomaly_np[index_j,2]\n",
    "        buy_index = np.argmin(np.abs(stock_np[:,0] - anomaly_np[index_j,2]))\n",
    "        buy_price = stock_np[buy_index,1]\n",
    "        sell_date_target = buy_date + buy_delay\n",
    "        #the desired sell date may not be a business day\n",
    "        diff = stock_np[:,0] - sell_date_target\n",
    "        mask = np.ma.less_equal(diff, 0)\n",
    "        #this will be the index of the true sell date\n",
    "        sell_index = np.argmin(np.abs(mask))\n",
    "        if sell_index == 0: #we are off the edge of the map\n",
    "            #the sell date is after the end of the stock data\n",
    "            #do nothing and return\n",
    "            return buy_sell_np\n",
    "        sell_price = stock_np[sell_index,1]\n",
    "        #the fractional change in our captial from the transaction\n",
    "        frac_change = sell_price/buy_price \n",
    "        #shift the total capital for all days after the transaction\n",
    "        #-start_index corrects for offset in indices with stock_np\n",
    "        buy_sell_np[sell_index - start_index:,3] *= frac_change\n",
    "        #log the trade attempt\n",
    "        buy_sell_np[sell_index - start_index,7] = 1.\n",
    "        #log if the trade was a success\n",
    "        if frac_change >= 1.:\n",
    "            buy_sell_np[sell_index - start_index,6] = 1.\n",
    "        return buy_sell_np\n",
    "    elif rule == 'sell':\n",
    "        sell_date = anomaly_np[index_j,2]\n",
    "        sell_index = np.argmin(np.abs(stock_np[:,0] - anomaly_np[index_j,2]))\n",
    "        sell_price = stock_np[sell_index,1]\n",
    "        buy_date_target = sell_date + sell_delay\n",
    "        #the desired buy date may not be a business day\n",
    "        diff = stock_np[:,0] - buy_date_target\n",
    "        mask = np.ma.less_equal(diff, 0)\n",
    "        #this will be the index of the true buy date\n",
    "        buy_index = np.argmin(np.abs(mask))\n",
    "        if buy_index == 0: #we are off the edge of the map\n",
    "            #the buy date is after the end of the stock data\n",
    "            #do nothing and return\n",
    "            return buy_sell_np\n",
    "        buy_price = stock_np[buy_index,1]\n",
    "        #the change in the number of shares, again adjust sell_index to \n",
    "        #buy_and_sell index coords with (- start_index) \n",
    "        new_num_shares = sell_price*(buy_sell_np[sell_index-start_index,1])/buy_price \n",
    "        #record the new shares\n",
    "        #-start_index corrects for offset in indices with stock_np\n",
    "        buy_sell_np[buy_index - start_index:,1] = new_num_shares \n",
    "        #compute the new position\n",
    "        #-start_index corrects for offset in indices with stock_np\n",
    "        buy_sell_np[buy_index - start_index:,2] = new_num_shares*stock_np[buy_index:,1]\n",
    "        #log the trade attempt\n",
    "        buy_sell_np[buy_index - start_index,7] = 1.\n",
    "        #log if the trade was a success\n",
    "        if buy_sell_np[sell_index-start_index,1] <= new_num_shares:\n",
    "            buy_sell_np[buy_index - start_index,6] = 1.\n",
    "        return buy_sell_np\n",
    "    else: #something went wrong\n",
    "        return buy_sell_np\n",
    "\n",
    "def convert_dataframes_to_numpy(start_date,end_date,tsla_df,anomaly_only_df,\n",
    "                                buy_delay,sell_delay):\n",
    "    \"\"\"Converts dataframes and delta times to numpy arrays and floats.\"\"\"\n",
    "    #convert datetimes to floats (s after start date)\n",
    "    tsla_time = convert_to_seconds_after_start(start_date,tsla_df,'DateTime')\n",
    "    anomaly_time = convert_to_seconds_after_start(start_date,anomaly_only_df,'Time')\n",
    "    anomaly_stock_time = convert_to_seconds_after_start(start_date,anomaly_only_df,'stock_time')\n",
    "    #strip inputs down to only the necessary entries for numpy array assignment\n",
    "    tsla_np = tsla_df[['DateTime','Open']].values\n",
    "    anomaly_only_np = anomaly_only_df[['Time','stock_time',\\\n",
    "                                       'text_compound']].values\n",
    "    #'index' goes on index 0 \n",
    "    anomaly_only_np = np.vstack((anomaly_only_df.index,\\\n",
    "                                 anomaly_only_np.transpose())).transpose()\n",
    "    # write time in (s) to the arrays\n",
    "    tsla_np[:,0] = tsla_time\n",
    "    anomaly_only_np[:,1] = anomaly_time\n",
    "    anomaly_only_np[:,2] = anomaly_stock_time\n",
    "    # Convert the sell_delay and buy_delay to seconds\n",
    "    sell_delay = sell_delay.total_seconds()\n",
    "    buy_delay = buy_delay.total_seconds()\n",
    "    end_time = (end_date - start_date).total_seconds()\n",
    "    start_time = 0.\n",
    "    return tsla_np,anomaly_only_np,sell_delay,buy_delay,start_time,end_time\n",
    "\n",
    "def convert_to_seconds_after_start(start_time,df,time_column):\n",
    "    \"\"\"A function to turn the datetime data from the\n",
    "        pandas data frames to floats for the numpy\n",
    "        vertion of the asset strategy model.\"\"\"\n",
    "    df['temporary'] = df.apply(lambda row : (row[time_column] - start_time).total_seconds(),axis=1)\n",
    "    #returns a numpy array\n",
    "    result = np.zeros(df.shape[0])\n",
    "    result = df['temporary'].values\n",
    "    df.drop(columns=['temporary'])\n",
    "    return result\n",
    "\n",
    "tsla_np,anomaly_only_np,sell_delay,buy_delay,start_time,end_time = \\\n",
    "            convert_dataframes_to_numpy(start_date,end_date,tsla_df,anomaly_only_df,\n",
    "                                        buy_delay,sell_delay)\n",
    "rule_pos = 'buy'\n",
    "rule_neu = 'nothing'\n",
    "rule_neg='sell'\n",
    "def asset_strategy_calculation_numpy(poslim,neglim,init_position,init_capital,\\\n",
    "                                    buy_delay,sell_delay,anomaly_only_np,\\\n",
    "                                    tsla_np,start_time,end_time,rule_pos,\\\n",
    "                                    rule_neu,rule_neg,rand_flag = False):\n",
    "    \"\"\"The buying and selling strategy implementing tweet inforation\"\"\"\n",
    "    #the closest date with a stock price\n",
    "    true_start_date = np.min(np.abs(tsla_np[:,0]-start_time)) \n",
    "    #the index of true_start_date\n",
    "    start_index = np.argmin(np.abs(tsla_np[:,0]-start_time)) \n",
    "    hold_np = np.zeros([len(tsla_np[start_index:,0]),8]) #initialize \n",
    "    buy_and_sell_np = np.zeros([len(tsla_np[start_index:,0]),8]) #initialize\n",
    "    hold_np[:,0] = tsla_np[start_index:,0] #set dates\n",
    "    buy_and_sell_np[:,0] = tsla_np[start_index:,0] #set dates\n",
    "    # Position growth scales with Tesla stock price\n",
    "    hold_np[:,2] = (tsla_np[start_index:,1]\\\n",
    "                           /tsla_np[start_index,1])*init_position\n",
    "    # hold_np does not need to track the number of shares held\n",
    "    hold_np[:,1] = init_position/tsla_np[start_index,1]\n",
    "    # buy_and sell_np needs to track the number of shares held\n",
    "    buy_and_sell_np[:,1] = init_position/tsla_np[start_index,1]\n",
    "    # and the value of those shares\n",
    "    buy_and_sell_np[:,2] = (tsla_np[start_index,1]*buy_and_sell_np[:,1])\n",
    "    # Capital growth only changes as a result of buy -> sell orders\n",
    "    hold_np[:,3] = init_capital\n",
    "    buy_and_sell_np[:,3] = init_capital\n",
    "    # Iterate over the anomalies and make trades based on input variables\n",
    "    j = 0 #iteration variable for anomaly_only_np\n",
    "    # i is the index of the stock_np time\n",
    "    for i in anomaly_only_np[:,0]:# we only trade based on tweet anomalies\n",
    "        #iterate forward through time with the index of anomaly_only_df\n",
    "        if anomaly_only_np[j,2] < start_time: \n",
    "            #this anomaly happened before we started trading\n",
    "            #do nothing\n",
    "            pass\n",
    "        elif anomaly_only_np[j,2] > end_time:\n",
    "            #this anomaly happens after we're done trading\n",
    "            #do nothing\n",
    "            pass\n",
    "        elif anomaly_only_np[j,3] <= poslim and \\\n",
    "                anomaly_only_np[j,3] >= -neglim : #we have a neutral anomaly\n",
    "            #apply defined trading rule\n",
    "            buy_and_sell_np = apply_rules(i,j,tsla_np,anomaly_only_np,\\\n",
    "                                          buy_and_sell_np,rule_neu,\\\n",
    "                                          buy_delay,sell_delay,\\\n",
    "                                          start_index,rand_flag)\n",
    "        elif anomaly_only_np[j,3] >= poslim : #we have a positive anomaly\n",
    "            #apply defined trading rule\n",
    "            buy_and_sell_np = apply_rules(i,j,tsla_np,anomaly_only_np,\\\n",
    "                                          buy_and_sell_np,rule_pos,\\\n",
    "                                          buy_delay,sell_delay,\\\n",
    "                                          start_index,rand_flag)\n",
    "            \n",
    "        elif anomaly_only_np[j,3] <= -neglim : \n",
    "            # apply defined trading rule\n",
    "            buy_and_sell_np = apply_rules(i,j,tsla_np,anomaly_only_np,\\\n",
    "                                          buy_and_sell_np,rule_neg,\\\n",
    "                                          buy_delay,sell_delay,\\\n",
    "                                          start_index,rand_flag)\n",
    "        j += 1 #increment the anomaly index\n",
    "            \n",
    "            \n",
    "    hold_np[:,4] = hold_np[:,2]+hold_np[:,3]\n",
    "    buy_and_sell_np[:,4] = buy_and_sell_np[:,2]+buy_and_sell_np[:,3]\n",
    "    #relative performance\n",
    "    hold_np[:,5] = hold_np[:,4]/hold_np[:,4]\n",
    "    buy_and_sell_np[:,5] = buy_and_sell_np[:,4]/hold_np[:,4]\n",
    "    return buy_and_sell_np,hold_np"
   ]
  },
  {
   "cell_type": "code",
   "execution_count": 269,
   "metadata": {
    "scrolled": true
   },
   "outputs": [
    {
     "name": "stdout",
     "output_type": "stream",
     "text": [
      "38.5 ms ± 1.53 ms per loop (mean ± std. dev. of 7 runs, 10 loops each)\n"
     ]
    }
   ],
   "source": [
    "%timeit bnh,honly = asset_strategy_calculation_numpy(poslim,neglim,init_position,init_capital,\\\n",
    "                                    buy_delay,sell_delay,anomaly_only_np,\\\n",
    "                                    tsla_np,start_time,end_time,rule_pos,\\\n",
    "                                    rule_neu,rule_neg)"
   ]
  },
  {
   "cell_type": "code",
   "execution_count": 293,
   "metadata": {},
   "outputs": [],
   "source": [
    "def convert_trading_to_df(df,start_date):\n",
    "    out_df = pd.DataFrame(data=df,    # values\n",
    "                     index=range(len(df[:,0])),    # 1st column as index\n",
    "                     columns=['time_in_sec','num_shares','position',\\\n",
    "                             'capital','total','relative',\n",
    "                             'trade_success','trade_executed'])\n",
    "    date_list = [start_date + \\\n",
    "                     datetime.timedelta(seconds = sec) for sec in df[:,0]]\n",
    "    out_df['Time'] = date_list\n",
    "    #datetime.timedelta(days=1)\n",
    "    return out_df"
   ]
  },
  {
   "cell_type": "code",
   "execution_count": 294,
   "metadata": {},
   "outputs": [],
   "source": [
    "bnh,honly = asset_strategy_calculation_numpy(poslim,neglim,init_position,init_capital,\\\n",
    "                                    buy_delay,sell_delay,anomaly_only_np,\\\n",
    "                                    tsla_np,start_time,end_time,rule_pos,\\\n",
    "                                    rule_neu,rule_neg)\n",
    "bnh_df = pd.DataFrame(data=bnh,    # values\n",
    "                     index=range(len(bnh[:,0])),    # 1st column as index\n",
    "                     columns=['time_in_sec','num_shares','position','capital','total','relative',\n",
    "                             'trade_success','trade_executed'])\n",
    "honly_df = pd.DataFrame(data=honly,    # values\n",
    "                     index=range(len(honly[:,0])),    # 1st column as index\n",
    "                     columns=['time_in_sec','num_shares','position','capital','total','relative',\n",
    "                             'trade_success','trade_executed'])\n",
    "#bnh_df.head()"
   ]
  },
  {
   "cell_type": "markdown",
   "metadata": {},
   "source": [
    "Not bad.  Let's make sure the output matches the pandas version of the funciton."
   ]
  },
  {
   "cell_type": "code",
   "execution_count": 129,
   "metadata": {},
   "outputs": [],
   "source": [
    "#restore the datetime data\n",
    "bnh_df['Time'] = np.array([start_date+datetime.timedelta(0,time) for time in bnh[:,0] ])\n",
    "honly_df['Time'] = np.array([start_date+datetime.timedelta(0,time) for time in honly[:,0] ])"
   ]
  },
  {
   "cell_type": "code",
   "execution_count": 130,
   "metadata": {},
   "outputs": [
    {
     "data": {
      "text/plain": [
       "<matplotlib.axes._subplots.AxesSubplot at 0x12dfb9340>"
      ]
     },
     "execution_count": 130,
     "metadata": {},
     "output_type": "execute_result"
    },
    {
     "data": {
      "image/png": "[encoded data removed]",
      "text/plain": [
       "<Figure size 432x288 with 1 Axes>"
      ]
     },
     "metadata": {
      "needs_background": "light"
     },
     "output_type": "display_data"
    }
   ],
   "source": [
    "honly_df.plot(x='Time',y='total')"
   ]
  },
  {
   "cell_type": "code",
   "execution_count": 187,
   "metadata": {
    "scrolled": true
   },
   "outputs": [
    {
     "data": {
      "text/plain": [
       "<matplotlib.axes._subplots.AxesSubplot at 0x11b36ae20>"
      ]
     },
     "execution_count": 187,
     "metadata": {},
     "output_type": "execute_result"
    },
    {
     "data": {
      "image/png": "[encoded data removed]",
      "text/plain": [
       "<Figure size 432x288 with 1 Axes>"
      ]
     },
     "metadata": {
      "needs_background": "light"
     },
     "output_type": "display_data"
    }
   ],
   "source": [
    "bnh_df.plot(x='Time',y='total')"
   ]
  },
  {
   "cell_type": "markdown",
   "metadata": {},
   "source": [
    "Need to write a function to tune the hyper-parameters of our trading algorithm."
   ]
  },
  {
   "cell_type": "code",
   "execution_count": 132,
   "metadata": {},
   "outputs": [],
   "source": [
    "def tune_trading_algo(tsla_df,anomaly_only_df,start_date,end_date):\n",
    "    #parameters\n",
    "    timezone = pytz.timezone('UTC')\n",
    "    #start_date = timezone.localize(datetime.datetime(2015,1,1))\n",
    "    #end_date = timezone.localize(datetime.datetime(2020,2,1))\n",
    "    pos_lims = np.linspace(0.,1.,11)\n",
    "    neg_lims = np.linspace(0.,1.,11)\n",
    "    buy_delays = np.linspace(1,10,10)*86400. # delay time in seconds\n",
    "    sell_delays = np.linspace(1,10,10)*86400. # delay time in seconds\n",
    "    pos_rules = ['buy','nothing','sell']\n",
    "    neu_rules = ['buy','nothing','sell']\n",
    "    neg_rules = ['buy','nothing','sell']\n",
    "    #convert dataframes to numpy input\n",
    "    tsla_np,anomaly_only_np,sell_delay,buy_delay,start_time,end_time = \\\n",
    "            convert_dataframes_to_numpy(start_date,end_date,tsla_df,anomaly_only_df,\n",
    "                                        datetime.timedelta(days=1),datetime.timedelta(days=1))\n",
    "    #array for output\n",
    "    #use fractional performance as the test metric\n",
    "    output = np.zeros([11,11,10,10,3,3,3],np.double)\n",
    "    for i in range(len(pos_lims)):\n",
    "        for j in range(len(neg_lims)):\n",
    "            for k in range(len(buy_delays)):\n",
    "                for l in range(len(sell_delays)):\n",
    "                    for m in range(len(pos_rules)):\n",
    "                        for n in range(len(neu_rules)):\n",
    "                            for o in range(len(neg_rules)):\n",
    "                                #print (i,j,k,l,m,n,o)\n",
    "                                #print (pl,nl,buy_d,sell_d,posr,neur,negr,start_time)\n",
    "                                temp1,temp2 = asset_strategy_calculation_numpy\\\n",
    "                                                        (pos_lims[i],neg_lims[j],5000.,5000.,\\\n",
    "                                                        buy_delays[k],sell_delays[l],anomaly_only_np,\\\n",
    "                                                        tsla_np,start_time,end_time,pos_rules[m],\\\n",
    "                                                        neu_rules[n],neg_rules[o])\n",
    "                                output[i,j,k,l,m,n,o] = temp1[-1,5] #this is the final fractional performance\n",
    "                                \n",
    "    return output"
   ]
  },
  {
   "cell_type": "code",
   "execution_count": 133,
   "metadata": {},
   "outputs": [
    {
     "name": "stderr",
     "output_type": "stream",
     "text": [
      "<ipython-input-124-aa8e7bfac23e>:100: SettingWithCopyWarning: \n",
      "A value is trying to be set on a copy of a slice from a DataFrame.\n",
      "Try using .loc[row_indexer,col_indexer] = value instead\n",
      "\n",
      "See the caveats in the documentation: https://pandas.pydata.org/pandas-docs/stable/user_guide/indexing.html#returning-a-view-versus-a-copy\n",
      "  df['temporary'] = df.apply(lambda row : (row[time_column] - start_time).total_seconds(),axis=1)\n"
     ]
    }
   ],
   "source": [
    "timezone = pytz.timezone('UTC')\n",
    "start_date = timezone.localize(datetime.datetime(2012,1,1))\n",
    "end_date = timezone.localize(datetime.datetime(2020,2,1))\n",
    "algo_performance = tune_trading_algo(tsla_df,anomaly_only_df,start_date,end_date)"
   ]
  },
  {
   "cell_type": "code",
   "execution_count": 134,
   "metadata": {},
   "outputs": [
    {
     "data": {
      "text/plain": [
       "2.3368606359880078"
      ]
     },
     "execution_count": 134,
     "metadata": {},
     "output_type": "execute_result"
    }
   ],
   "source": [
    "np.amax(algo_performance)"
   ]
  },
  {
   "cell_type": "code",
   "execution_count": 177,
   "metadata": {
    "scrolled": true
   },
   "outputs": [
    {
     "data": {
      "text/plain": [
       "array([0, 2, 8, 1, 0, 2, 0])"
      ]
     },
     "execution_count": 177,
     "metadata": {},
     "output_type": "execute_result"
    }
   ],
   "source": [
    "np.argwhere(np.amax(algo_performance) == algo_performance)[0]"
   ]
  },
  {
   "cell_type": "markdown",
   "metadata": {},
   "source": [
    "Generate the optimized trading data set."
   ]
  },
  {
   "cell_type": "code",
   "execution_count": 140,
   "metadata": {},
   "outputs": [],
   "source": [
    "poslim = 0.\n",
    "neglim = .2\n",
    "buy_delay = 9.*86400\n",
    "sell_delay = 2.*86400\n",
    "rule_pos = 'buy'\n",
    "rule_neu = 'sell'\n",
    "rule_neg = 'buy'\n",
    "bnh,honly = asset_strategy_calculation_numpy(poslim,neglim,init_position,init_capital,\\\n",
    "                                    buy_delay,sell_delay,anomaly_only_np,\\\n",
    "                                    tsla_np,start_time,end_time,rule_pos,\\\n",
    "                                    rule_neu,rule_neg)\n",
    "bnh_df = pd.DataFrame(data=bnh,    # values\n",
    "                     index=range(len(bnh[:,0])),    # 1st column as index\n",
    "                     columns=['time_in_sec','num_shares','position','capital','total','relative'])\n",
    "honly_df = pd.DataFrame(data=honly,    # values\n",
    "                     index=range(len(honly[:,0])),    # 1st column as index\n",
    "                     columns=['time_in_sec','num_shares','position','capital','total','relative'])\n",
    "#restore the datetime data\n",
    "bnh_df['Time'] = np.array([start_date+datetime.timedelta(0,time) for time in bnh[:,0] ])\n",
    "honly_df['Time'] = np.array([start_date+datetime.timedelta(0,time) for time in honly[:,0] ])"
   ]
  },
  {
   "cell_type": "code",
   "execution_count": 141,
   "metadata": {},
   "outputs": [
    {
     "data": {
      "text/plain": [
       "<matplotlib.axes._subplots.AxesSubplot at 0x12e1de3a0>"
      ]
     },
     "execution_count": 141,
     "metadata": {},
     "output_type": "execute_result"
    },
    {
     "data": {
      "image/png": "[encoded data removed]",
      "text/plain": [
       "<Figure size 432x288 with 1 Axes>"
      ]
     },
     "metadata": {
      "needs_background": "light"
     },
     "output_type": "display_data"
    }
   ],
   "source": [
    "honly_df.plot(x='Time',y='total')"
   ]
  },
  {
   "cell_type": "code",
   "execution_count": 142,
   "metadata": {},
   "outputs": [
    {
     "data": {
      "text/plain": [
       "<matplotlib.axes._subplots.AxesSubplot at 0x12dcfcca0>"
      ]
     },
     "execution_count": 142,
     "metadata": {},
     "output_type": "execute_result"
    },
    {
     "data": {
      "image/png": "[encoded data removed]",
      "text/plain": [
       "<Figure size 432x288 with 1 Axes>"
      ]
     },
     "metadata": {
      "needs_background": "light"
     },
     "output_type": "display_data"
    }
   ],
   "source": [
    "bnh_df.plot(x='Time',y='total')"
   ]
  },
  {
   "cell_type": "code",
   "execution_count": 143,
   "metadata": {},
   "outputs": [
    {
     "data": {
      "text/plain": [
       "<matplotlib.axes._subplots.AxesSubplot at 0x12ade6ca0>"
      ]
     },
     "execution_count": 143,
     "metadata": {},
     "output_type": "execute_result"
    },
    {
     "data": {
      "image/png": "[encoded data removed]",
      "text/plain": [
       "<Figure size 432x288 with 1 Axes>"
      ]
     },
     "metadata": {
      "needs_background": "light"
     },
     "output_type": "display_data"
    }
   ],
   "source": [
    "bnh_df.plot(x='Time',y='relative')"
   ]
  },
  {
   "cell_type": "markdown",
   "metadata": {},
   "source": [
    "Now we need to verify that our identified anomalies are not random.  We will compare our strategy to about one thousand that are run with randomly identified tweets as the 'anomalies'.  The the distribution of the random tweet performance will tell us how well the selected tweets that we have actually track the tweets which impacted the stock price of Tesla."
   ]
  },
  {
   "cell_type": "code",
   "execution_count": 146,
   "metadata": {},
   "outputs": [],
   "source": [
    "def test_random_tweets(tsla_df,anomalies_df):\n",
    "    #from previous results: \n",
    "    timezone = pytz.timezone('UTC')\n",
    "    start_date = timezone.localize(datetime.datetime(2015,1,1))\n",
    "    end_date = timezone.localize(datetime.datetime(2020,2,1))\n",
    "    pos_lims = 0.\n",
    "    neg_lims = .2\n",
    "    buy_delays = 9.*86400\n",
    "    sell_delays = 2.*86400\n",
    "    pos_rules = 'buy'\n",
    "    neu_rules = 'sell'\n",
    "    neg_rules = 'buy'\n",
    "    #create initial array to old the output of each run\n",
    "    final_results = np.array([])\n",
    "    for i in range(1000):#do one thousand samples\n",
    "        #make fake list of anomalies from real tweets\n",
    "        #using the real sentiment values from each\n",
    "        anomaly_only_df = anomalies_df.sample(98).sort_values(by=['stock_time'])\n",
    "        #convert dataframes to numpy input\n",
    "        tsla_np,anomaly_only_np,dummy1,dummy2,start_time,end_time = \\\n",
    "                convert_dataframes_to_numpy(start_date,end_date,tsla_df,anomaly_only_df,\n",
    "                                            datetime.timedelta(days=1),datetime.timedelta(days=1))\n",
    "        #uncomment these lines for true random buy/sell orders\n",
    "        run1,temp1 = asset_strategy_calculation_numpy\\\n",
    "                                            (pos_lims,neg_lims,5000.,5000.,\\\n",
    "                                            buy_delays,sell_delays,anomaly_only_np,\\\n",
    "                                            tsla_np,start_time,end_time,pos_rules,\\\n",
    "                                            neu_rules,neg_rules,rand_flag = True)\n",
    "#         run1,temp1 = asset_strategy_calculation_numpy\\\n",
    "#                                             (pos_lims,neg_lims,5000.,5000.,\\\n",
    "#                                             buy_delays,sell_delays,anomaly_only_np,\\\n",
    "#                                             tsla_np,start_time,end_time,pos_rules,\\\n",
    "#                                             neu_rules,neg_rules)\n",
    "        if final_results.shape == (0,):#if this is the first run through\n",
    "            final_results = run1.reshape(1,run1.shape[0],run1.shape[1])\n",
    "        else:#stack the results into a single numpy array\n",
    "            final_results = np.vstack((run1.reshape(1,run1.shape[0],run1.shape[1]),final_results))\n",
    "    return final_results\n",
    "            "
   ]
  },
  {
   "cell_type": "code",
   "execution_count": 147,
   "metadata": {},
   "outputs": [],
   "source": [
    "thousand_realizations = test_random_tweets(tsla_df,anomalies_df)"
   ]
  },
  {
   "cell_type": "code",
   "execution_count": 29,
   "metadata": {},
   "outputs": [],
   "source": [
    "#fix commenting above for true random trading before running this cell\n",
    "true_random_realizations = test_random_tweets(tsla_df,anomalies_df)"
   ]
  },
  {
   "cell_type": "code",
   "execution_count": 148,
   "metadata": {
    "scrolled": true
   },
   "outputs": [
    {
     "name": "stdout",
     "output_type": "stream",
     "text": [
      "47077.51051996042\n",
      "14720.46105009205\n",
      "24428.81140794832\n",
      "25017.591804011157\n",
      "5030.912144453012\n"
     ]
    }
   ],
   "source": [
    "# Same strategy, randomly picked tweets\n",
    "print (np.amax(thousand_realizations[:,-1,4]))\n",
    "print (np.amin(thousand_realizations[:,-1,4]))\n",
    "print (np.median(thousand_realizations[:,-1,4]))\n",
    "print (np.mean(thousand_realizations[:,-1,4]))\n",
    "print (np.sqrt(np.var(thousand_realizations[:,-1,4])))"
   ]
  },
  {
   "cell_type": "code",
   "execution_count": 33,
   "metadata": {},
   "outputs": [
    {
     "name": "stdout",
     "output_type": "stream",
     "text": [
      "68058.70921587099\n",
      "11108.329935891898\n",
      "25828.847843440526\n",
      "26801.40380926188\n",
      "7099.5039530010445\n"
     ]
    }
   ],
   "source": [
    "# True Random Strategy\n",
    "print (np.amax(true_random_realizations[:,-1,4]))\n",
    "print (np.amin(true_random_realizations[:,-1,4]))\n",
    "print (np.median(true_random_realizations[:,-1,4]))\n",
    "print (np.mean(true_random_realizations[:,-1,4]))\n",
    "print (np.sqrt(np.var(true_random_realizations[:,-1,4])))"
   ]
  },
  {
   "cell_type": "code",
   "execution_count": 149,
   "metadata": {},
   "outputs": [
    {
     "data": {
      "text/plain": [
       "57949.601324062925"
      ]
     },
     "execution_count": 149,
     "metadata": {},
     "output_type": "execute_result"
    }
   ],
   "source": [
    "np.amax(bnh[-1,4])"
   ]
  },
  {
   "cell_type": "code",
   "execution_count": 154,
   "metadata": {},
   "outputs": [
    {
     "data": {
      "text/plain": [
       "47077.51051996042"
      ]
     },
     "execution_count": 154,
     "metadata": {},
     "output_type": "execute_result"
    }
   ],
   "source": [
    "np.amax(thousand_realizations[:,-1,4])"
   ]
  },
  {
   "cell_type": "code",
   "execution_count": 155,
   "metadata": {},
   "outputs": [],
   "source": [
    "np.save('../data/raw/thousand_realizations.npy',thousand_realizations)"
   ]
  },
  {
   "cell_type": "code",
   "execution_count": 88,
   "metadata": {},
   "outputs": [],
   "source": [
    "import seaborn as sns\n",
    "import matplotlib.pyplot as plt"
   ]
  },
  {
   "cell_type": "code",
   "execution_count": 153,
   "metadata": {},
   "outputs": [
    {
     "data": {
      "text/plain": [
       "(0, 1)"
      ]
     },
     "execution_count": 153,
     "metadata": {},
     "output_type": "execute_result"
    },
    {
     "data": {
      "image/png": "[encoded data removed]",
      "text/plain": [
       "<Figure size 2304x576 with 2 Axes>"
      ]
     },
     "metadata": {
      "needs_background": "light"
     },
     "output_type": "display_data"
    }
   ],
   "source": [
    "fig, ax = plt.subplots(1,2,figsize=(32,8))\n",
    "#sbn.distplot(y.dropna(),ax=ax[1],kde=True,rug=True,bins=200,kde_kws={'clip':(0,100)},color='steelblue',label='Wide NN')\n",
    "sns.distplot(thousand_realizations[:,-1,4]/1.e4,ax=ax[1],rug=False,\n",
    "             label='Randomized Tweet Anomalies',hist_kws={'range': (0.0, 15.)})\n",
    "sns.distplot(true_random_realizations[:,-1,4]/1.e4,ax=ax[0],rug=False,\n",
    "             label='Random Trading',hist_kws={'range': (0.0, 15.)})\n",
    "x = true_random_realizations[:,-1,4] #just need some dummy variables\n",
    "ax[0].plot(5.79*np.ones([len(x)]),np.linspace(0,1,len(x)),lw = 5,ls='--',label='Tagged Anomaly Tweets',color='orangered')\n",
    "ax[1].plot(5.79*np.ones([len(x)]),np.linspace(0,1,len(x)),lw = 5,ls='--',label='Tagged Anomaly Tweets',color='orangered')\n",
    "ax[0].plot(2.480*np.ones([len(x)]),np.linspace(0,1,len(x)),lw = 5,ls='--',label='Hold Tesla stock',color='black')\n",
    "ax[1].plot(2.480*np.ones([len(x)]),np.linspace(0,1,len(x)),lw = 5,ls='--',label='Hold Tesla stock',color='black')\n",
    "ax[0].legend(loc='upper right', shadow=True,prop={'size': 30})\n",
    "ax[1].legend(loc='upper right', shadow=True,prop={'size': 30})\n",
    "ax[0].set_xlabel(\"ROI\",fontsize=35)\n",
    "ax[1].set_xlabel(\"ROI\",fontsize=35)\n",
    "for tick in ax[0].xaxis.get_major_ticks():\n",
    "    tick.label.set_fontsize(35)\n",
    "for tick in ax[0].yaxis.get_major_ticks():\n",
    "    tick.label.set_fontsize(35)\n",
    "for tick in ax[1].xaxis.get_major_ticks():\n",
    "    tick.label.set_fontsize(35)\n",
    "for tick in ax[1].yaxis.get_major_ticks():\n",
    "    tick.label.set_fontsize(35)\n",
    "ax[0].set_ylim(0,.7)\n",
    "ax[1].set_ylim(0,1)\n",
    "\n"
   ]
  },
  {
   "cell_type": "code",
   "execution_count": 156,
   "metadata": {},
   "outputs": [
    {
     "name": "stdout",
     "output_type": "stream",
     "text": [
      "tweet anomaly performance =  1.0\n",
      "Random trading performance =  0.998\n"
     ]
    }
   ],
   "source": [
    "#The fraction of randomly assigned tweet anomaly models that are outperformed by the tagged tweets\n",
    "print (\"tweet anomaly performance = \",1.-len(np.where(thousand_realizations[:,-1,4] > np.amax(bnh[-1,4]))[0])/1000.)\n",
    "#The fraction of random trading models that are outperformed by the tagged tweets\n",
    "print (\"Random trading performance = \",1.-len(np.where(true_random_realizations[:,-1,4] > np.amax(bnh[-1,4]))[0])/1000.)"
   ]
  },
  {
   "cell_type": "markdown",
   "metadata": {},
   "source": [
    "## I don't believe how well that model performed.  We're going to have to streamline some of the parameters to optimize EVERY randomly generated tagged tweet set."
   ]
  },
  {
   "cell_type": "code",
   "execution_count": 310,
   "metadata": {},
   "outputs": [],
   "source": [
    "def tune_trading_algo_alternate(tsla_df,anomaly_only_df,start_date,end_date):\n",
    "    #parameters\n",
    "    timezone = pytz.timezone('UTC')\n",
    "    #start_date = timezone.localize(datetime.datetime(2015,1,1))\n",
    "    #end_date = timezone.localize(datetime.datetime(2015,1,1))\n",
    "    pos_lims = np.linspace(0.,1.,6)\n",
    "    neg_lims = np.linspace(0.,1.,6)\n",
    "    buy_delays = 86400.#np.linspace(1,10,10)*86400. # delay time in seconds\n",
    "    sell_delays = 86400.#np.linspace(1,10,10)*86400. # delay time in seconds\n",
    "    pos_rules = ['buy','sell']\n",
    "    neu_rules = ['buy','sell']\n",
    "    neg_rules = ['buy','sell']\n",
    "    #convert dataframes to numpy input\n",
    "    tsla_np,anomaly_only_np,sell_delay,buy_delay,start_time,end_time = \\\n",
    "            convert_dataframes_to_numpy(start_date,end_date,tsla_df,anomaly_only_df,\n",
    "                                        datetime.timedelta(days=1),datetime.timedelta(days=1))\n",
    "    #array for output\n",
    "    #use fractional performance as the test metric\n",
    "    output = np.zeros([len(pos_lims),len(neg_lims),2,2,2,2],np.double)\n",
    "    for i in range(len(pos_lims)):\n",
    "        for j in range(len(neg_lims)):\n",
    "    #for k in range(len(buy_delays)):\n",
    "        #for l in range(len(sell_delays)):\n",
    "            for m in range(2):\n",
    "                for n in range(2):\n",
    "                    for o in range(2):\n",
    "                        #print (i,j,k,l,m,n,o)\n",
    "                        #print (pl,nl,buy_d,sell_d,posr,neur,negr,start_time)\n",
    "                        temp1,temp2 = asset_strategy_calculation_numpy\\\n",
    "                                                (pos_lims[i],neg_lims[j],5000.,5000.,\\\n",
    "                                                buy_delays,sell_delays,anomaly_only_np,\\\n",
    "                                                tsla_np,start_time,end_time,pos_rules[m],\\\n",
    "                                                neu_rules[n],neg_rules[o])\n",
    "                        #this is the total value in index 1 and trade success rate in index 2\n",
    "                        output[i,j,m,n,o,:] = [temp1[-1,4],sum(temp1[:,6])/sum(temp1[:,7])] \n",
    "                                \n",
    "    return output"
   ]
  },
  {
   "cell_type": "code",
   "execution_count": 290,
   "metadata": {},
   "outputs": [
    {
     "name": "stderr",
     "output_type": "stream",
     "text": [
      "<ipython-input-283-315a42f41542>:110: SettingWithCopyWarning: \n",
      "A value is trying to be set on a copy of a slice from a DataFrame.\n",
      "Try using .loc[row_indexer,col_indexer] = value instead\n",
      "\n",
      "See the caveats in the documentation: https://pandas.pydata.org/pandas-docs/stable/user_guide/indexing.html#returning-a-view-versus-a-copy\n",
      "  df['temporary'] = df.apply(lambda row : (row[time_column] - start_time).total_seconds(),axis=1)\n"
     ]
    }
   ],
   "source": [
    "timezone = pytz.timezone('UTC')\n",
    "start_date = timezone.localize(datetime.datetime(2015,1,1))\n",
    "end_date = timezone.localize(datetime.datetime(2020,2,1))\n",
    "algo_performance_alternate = tune_trading_algo_alternate(tsla_df,anomaly_only_df,start_date,end_date)"
   ]
  },
  {
   "cell_type": "code",
   "execution_count": 291,
   "metadata": {},
   "outputs": [
    {
     "name": "stdout",
     "output_type": "stream",
     "text": [
      "max ROI =  [[6 3 0 1 0]] 3.251420927199886\n",
      "max Success Rate =  [[6 2 0 1 0]] 0.723404255319149\n"
     ]
    }
   ],
   "source": [
    "print(\"max ROI = \",np.argwhere(np.amax(algo_performance_alternate[:,:,:,:,:,0]) ==\\\n",
    "                               algo_performance_alternate[:,:,:,:,:,0]),\n",
    "                               np.amax(algo_performance_alternate[:,:,:,:,:,0]/1.e4))\n",
    "print(\"max Success Rate = \",np.argwhere(np.amax(algo_performance_alternate[:,:,:,:,:,1]) ==\\\n",
    "                               algo_performance_alternate[:,:,:,:,:,1]),\n",
    "                               np.amax(algo_performance_alternate[:,:,:,:,:,1]))"
   ]
  },
  {
   "cell_type": "code",
   "execution_count": 307,
   "metadata": {},
   "outputs": [
    {
     "data": {
      "text/plain": [
       "(11, 11, 2, 2, 2)"
      ]
     },
     "execution_count": 307,
     "metadata": {},
     "output_type": "execute_result"
    }
   ],
   "source": [
    "algo_performance_alternate[:,:,:,:,:,0].shape"
   ]
  },
  {
   "cell_type": "code",
   "execution_count": 278,
   "metadata": {},
   "outputs": [
    {
     "name": "stdout",
     "output_type": "stream",
     "text": [
      "0.9852251407129456\n"
     ]
    }
   ],
   "source": [
    "print(np.amin(algo_performance_alternate[:,:,:,:,:,1]))"
   ]
  },
  {
   "cell_type": "code",
   "execution_count": 295,
   "metadata": {},
   "outputs": [
    {
     "name": "stderr",
     "output_type": "stream",
     "text": [
      "<ipython-input-283-315a42f41542>:110: SettingWithCopyWarning: \n",
      "A value is trying to be set on a copy of a slice from a DataFrame.\n",
      "Try using .loc[row_indexer,col_indexer] = value instead\n",
      "\n",
      "See the caveats in the documentation: https://pandas.pydata.org/pandas-docs/stable/user_guide/indexing.html#returning-a-view-versus-a-copy\n",
      "  df['temporary'] = df.apply(lambda row : (row[time_column] - start_time).total_seconds(),axis=1)\n"
     ]
    }
   ],
   "source": [
    "poslim = 0.6\n",
    "neglim = .3\n",
    "buy_delay = 1.*86400\n",
    "sell_delay = 1.*86400\n",
    "rule_pos = 'buy'\n",
    "rule_neu = 'sell'\n",
    "rule_neg = 'buy'\n",
    "#convert dataframes to numpy input\n",
    "tsla_np,anomaly_only_np,dummy1,dummy2,start_time,end_time = \\\n",
    "        convert_dataframes_to_numpy(start_date,end_date,tsla_df,anomaly_only_df,\n",
    "                                    datetime.timedelta(days=1),datetime.timedelta(days=1))\n",
    "bnh,honly = asset_strategy_calculation_numpy(poslim,neglim,init_position,init_capital,\\\n",
    "                                    buy_delay,sell_delay,anomaly_only_np,\\\n",
    "                                    tsla_np,start_time,end_time,rule_pos,\\\n",
    "                                    rule_neu,rule_neg)\n",
    "bnh_df = pd.DataFrame(data=bnh,    # values\n",
    "                     index=range(len(bnh[:,0])),    # 1st column as index\n",
    "                     columns=['time_in_sec','num_shares','position','capital','total','relative',\n",
    "                             'trade_success','trade_executed'])\n",
    "honly_df = pd.DataFrame(data=honly,    # values\n",
    "                     index=range(len(honly[:,0])),    # 1st column as index\n",
    "                     columns=['time_in_sec','num_shares','position','capital','total','relative',\n",
    "                             'trade_success','trade_executed'])\n",
    "#restore the datetime data\n",
    "bnh_df['Time'] = np.array([start_date+datetime.timedelta(0,time) for time in bnh[:,0] ])\n",
    "honly_df['Time'] = np.array([start_date+datetime.timedelta(0,time) for time in honly[:,0] ])"
   ]
  },
  {
   "cell_type": "code",
   "execution_count": 296,
   "metadata": {},
   "outputs": [
    {
     "data": {
      "text/plain": [
       "<matplotlib.axes._subplots.AxesSubplot at 0x12e117820>"
      ]
     },
     "execution_count": 296,
     "metadata": {},
     "output_type": "execute_result"
    },
    {
     "data": {
      "image/png": "[encoded data removed]",
      "text/plain": [
       "<Figure size 432x288 with 1 Axes>"
      ]
     },
     "metadata": {
      "needs_background": "light"
     },
     "output_type": "display_data"
    }
   ],
   "source": [
    "honly_df.plot(x='Time',y='total')"
   ]
  },
  {
   "cell_type": "code",
   "execution_count": 297,
   "metadata": {},
   "outputs": [
    {
     "data": {
      "text/plain": [
       "<matplotlib.axes._subplots.AxesSubplot at 0x11b680bb0>"
      ]
     },
     "execution_count": 297,
     "metadata": {},
     "output_type": "execute_result"
    },
    {
     "data": {
      "image/png": "[encoded data removed]",
      "text/plain": [
       "<Figure size 432x288 with 1 Axes>"
      ]
     },
     "metadata": {
      "needs_background": "light"
     },
     "output_type": "display_data"
    }
   ],
   "source": [
    "bnh_df.plot(x='Time',y='total')"
   ]
  },
  {
   "cell_type": "code",
   "execution_count": 318,
   "metadata": {},
   "outputs": [
    {
     "name": "stdout",
     "output_type": "stream",
     "text": [
      "strategy ROI =  3.251420927199886\n",
      "Hold TSLA ROI =  2.4798056174865666\n",
      "strategy success =  32.0\n",
      "strategy total =  47.0\n"
     ]
    }
   ],
   "source": [
    "print(\"strategy ROI = \",bnh[-1,4]/1.e4)\n",
    "print(\"Hold TSLA ROI = \",honly[-1,4]/1.e4)\n",
    "print(\"strategy success = \",sum(bnh[:,6]))\n",
    "print(\"strategy total = \",sum(bnh[:,7]))"
   ]
  },
  {
   "cell_type": "code",
   "execution_count": 299,
   "metadata": {},
   "outputs": [],
   "source": [
    "def test_random_tweets_alternate(tsla_df,anomalies_df,rand_flag):\n",
    "    #from previous results: \n",
    "    timezone = pytz.timezone('UTC')\n",
    "    start_date = timezone.localize(datetime.datetime(2015,1,1))\n",
    "    end_date = timezone.localize(datetime.datetime(2020,2,1))\n",
    "    pos_lims = 0.\n",
    "    neg_lims = 0.\n",
    "    buy_delays = 1.*86400\n",
    "    sell_delays = 1.*86400\n",
    "    pos_rules = 'sell'\n",
    "    neu_rules = 'sell'\n",
    "    neg_rules = 'buy'\n",
    "    #create initial array to old the output of each run\n",
    "    final_results = np.array([])\n",
    "    for i in range(1000):#do one thousand samples\n",
    "        #make fake list of anomalies from real tweets\n",
    "        #using the real sentiment values from each\n",
    "        anomaly_only_df = anomalies_df.sample(98).sort_values(by=['stock_time'])\n",
    "        #convert dataframes to numpy input\n",
    "        tsla_np,anomaly_only_np,dummy1,dummy2,start_time,end_time = \\\n",
    "                convert_dataframes_to_numpy(start_date,end_date,tsla_df,anomaly_only_df,\n",
    "                                            datetime.timedelta(days=1),datetime.timedelta(days=1))\n",
    "        #buy and sell orders\n",
    "        run1,temp1 = asset_strategy_calculation_numpy\\\n",
    "                                            (pos_lims,neg_lims,5000.,5000.,\\\n",
    "                                            buy_delays,sell_delays,anomaly_only_np,\\\n",
    "                                            tsla_np,start_time,end_time,pos_rules,\\\n",
    "                                            neu_rules,neg_rules,rand_flag)\n",
    "\n",
    "        if final_results.shape == (0,):#if this is the first run through\n",
    "            final_results = run1.reshape(1,run1.shape[0],run1.shape[1])\n",
    "        else:#stack the results into a single numpy array\n",
    "            final_results = np.vstack((run1.reshape(1,run1.shape[0],run1.shape[1]),final_results))\n",
    "    return final_results"
   ]
  },
  {
   "cell_type": "code",
   "execution_count": 300,
   "metadata": {},
   "outputs": [],
   "source": [
    "true_random_realizations = test_random_tweets_alternate(tsla_df,anomalies_df,True)"
   ]
  },
  {
   "cell_type": "code",
   "execution_count": 311,
   "metadata": {},
   "outputs": [],
   "source": [
    "def test_random_tweets_optimize(tsla_df,anomalies_df):\n",
    "    #from previous results: \n",
    "    timezone = pytz.timezone('UTC')\n",
    "    start_date = timezone.localize(datetime.datetime(2015,1,1))\n",
    "    end_date = timezone.localize(datetime.datetime(2020,2,1))\n",
    "    pos_lims = np.linspace(0.,1.,6)\n",
    "    neg_lims = np.linspace(0.,1.,6)\n",
    "    buy_delays = 86400.#np.linspace(1,10,10)*86400. # delay time in seconds\n",
    "    sell_delays = 86400.#np.linspace(1,10,10)*86400. # delay time in seconds\n",
    "    pos_rules = ['buy','sell']\n",
    "    neu_rules = ['buy','sell']\n",
    "    neg_rules = ['buy','sell']\n",
    "    #create initial array to old the output of each run\n",
    "    final_results = np.array([])\n",
    "    for i in range(10):#do one thousand samples\n",
    "        #make fake list of anomalies from real tweets\n",
    "        #using the real sentiment values from each\n",
    "        anomaly_only_df = anomalies_df.sample(98).sort_values(by=['stock_time'])\n",
    "        #convert dataframes to numpy input\n",
    "        tsla_np,anomaly_only_np,dummy1,dummy2,start_time,end_time = \\\n",
    "                convert_dataframes_to_numpy(start_date,end_date,tsla_df,anomaly_only_df,\n",
    "                                            datetime.timedelta(days=1),datetime.timedelta(days=1))\n",
    "        algo_opt = tune_trading_algo_alternate(tsla_df,anomaly_only_df,start_date,end_date)\n",
    "        #indices of the tuning parameters that produce the best ROI performance\n",
    "        op_i = np.argwhere(np.amax(algo_opt[:,:,:,:,:,0]) == algo_opt[:,:,:,:,:,0])[0]\n",
    "        #uncomment these lines for true random buy/sell orders\n",
    "        run1,temp1 = asset_strategy_calculation_numpy\\\n",
    "                                            (pos_lims[op_i[0]],neg_lims[op_i[1]],5000.,5000.,\\\n",
    "                                            buy_delays,sell_delays,anomaly_only_np,\\\n",
    "                                            tsla_np,start_time,end_time,pos_rules[op_i[2]],\\\n",
    "                                            neu_rules[op_i[3]],neg_rules[op_i[4]],rand_flag = False)\n",
    "        if final_results.shape == (0,):#if this is the first run through\n",
    "            final_results = run1.reshape(1,run1.shape[0],run1.shape[1])\n",
    "        else:#stack the results into a single numpy array\n",
    "            final_results = np.vstack((run1.reshape(1,run1.shape[0],run1.shape[1]),final_results))\n",
    "    return final_results"
   ]
  },
  {
   "cell_type": "code",
   "execution_count": null,
   "metadata": {},
   "outputs": [],
   "source": [
    "%timeit random_tweets_optimized_realizations = test_random_tweets_optimize(tsla_df,anomalies_df)"
   ]
  },
  {
   "cell_type": "code",
   "execution_count": 344,
   "metadata": {},
   "outputs": [
    {
     "data": {
      "text/plain": [
       "(0, 3.0)"
      ]
     },
     "execution_count": 344,
     "metadata": {},
     "output_type": "execute_result"
    },
    {
     "data": {
      "image/png": "[encoded data removed]",
      "text/plain": [
       "<Figure size 2304x576 with 2 Axes>"
      ]
     },
     "metadata": {
      "needs_background": "light"
     },
     "output_type": "display_data"
    }
   ],
   "source": [
    "fig, ax = plt.subplots(1,2,figsize=(32,8))\n",
    "#sbn.distplot(y.dropna(),ax=ax[1],kde=True,rug=True,bins=200,kde_kws={'clip':(0,100)},color='steelblue',label='Wide NN')\n",
    "sns.distplot(random_tweets_optimized_realizations[:,-1,4]/1.e4,ax=ax[1],rug=False,\n",
    "             label='Randomized Tweet Anomalies',hist_kws={'range': (1., 5.)},bins = 40)\n",
    "sns.distplot(true_random_realizations[:,-1,4]/1.e4,ax=ax[0],rug=False,\n",
    "             label='Random Trading',hist_kws={'range': (1., 5.)},bins = 40)\n",
    "x = true_random_realizations[:,-1,4] #just need some dummy variables\n",
    "ax[0].plot(3.25*np.ones([len(x)]),np.linspace(0,10,len(x)),lw = 5,ls='--',label='Tagged Anomaly Tweets',color='orangered')\n",
    "ax[1].plot(3.25*np.ones([len(x)]),np.linspace(0,10,len(x)),lw = 5,ls='--',label='Tagged Anomaly Tweets',color='orangered')\n",
    "ax[0].plot(2.48*np.ones([len(x)]),np.linspace(0,10,len(x)),lw = 5,ls='--',label='Hold Tesla stock',color='black')\n",
    "ax[1].plot(2.48*np.ones([len(x)]),np.linspace(0,10,len(x)),lw = 5,ls='--',label='Hold Tesla stock',color='black')\n",
    "ax[0].legend(loc='upper right', shadow=True,prop={'size': 30})\n",
    "ax[1].legend(loc='upper right', shadow=True,prop={'size': 30})\n",
    "ax[0].set_xlabel(\"ROI\",fontsize=35)\n",
    "ax[1].set_xlabel(\"ROI\",fontsize=35)\n",
    "for tick in ax[0].xaxis.get_major_ticks():\n",
    "    tick.label.set_fontsize(35)\n",
    "for tick in ax[0].yaxis.get_major_ticks():\n",
    "    tick.label.set_fontsize(35)\n",
    "for tick in ax[1].xaxis.get_major_ticks():\n",
    "    tick.label.set_fontsize(35)\n",
    "for tick in ax[1].yaxis.get_major_ticks():\n",
    "    tick.label.set_fontsize(35)\n",
    "ax[0].set_ylim(0,2.3)\n",
    "ax[1].set_ylim(0,3.)"
   ]
  },
  {
   "cell_type": "code",
   "execution_count": 314,
   "metadata": {},
   "outputs": [
    {
     "name": "stdout",
     "output_type": "stream",
     "text": [
      "tweet anomaly performance =  0.7\n",
      "Random trading performance =  0.989\n"
     ]
    }
   ],
   "source": [
    "#The fraction of randomly assigned tweet anomaly models that are outperformed by the tagged tweets\n",
    "print (\"tweet anomaly performance = \",1.-len(np.where(random_tweets_optimized_realizations[:,-1,4] > np.amax(bnh[-1,4]))[0])/100.)\n",
    "#The fraction of random trading models that are outperformed by the tagged tweets\n",
    "print (\"Random trading performance = \",1.-len(np.where(true_random_realizations[:,-1,4] > np.amax(bnh[-1,4]))[0])/1000.)"
   ]
  },
  {
   "cell_type": "code",
   "execution_count": 323,
   "metadata": {},
   "outputs": [
    {
     "data": {
      "text/plain": [
       "68.04"
      ]
     },
     "execution_count": 323,
     "metadata": {},
     "output_type": "execute_result"
    }
   ],
   "source": [
    "np.sum(random_tweets_optimized_realizations[:,:,7],axis=1).mean()"
   ]
  },
  {
   "cell_type": "code",
   "execution_count": 334,
   "metadata": {},
   "outputs": [
    {
     "data": {
      "text/plain": [
       "(0, 15)"
      ]
     },
     "execution_count": 334,
     "metadata": {},
     "output_type": "execute_result"
    },
    {
     "data": {
      "image/png": "[encoded data removed]",
      "text/plain": [
       "<Figure size 2304x576 with 2 Axes>"
      ]
     },
     "metadata": {
      "needs_background": "light"
     },
     "output_type": "display_data"
    }
   ],
   "source": [
    "fig, ax = plt.subplots(1,2,figsize=(32,8))\n",
    "optimized_success_rate = np.sum(random_tweets_optimized_realizations[:,:,6],axis=1)/\\\n",
    "                         np.sum(random_tweets_optimized_realizations[:,:,7],axis=1)\n",
    "random_success_rate =np.sum(true_random_realizations[:,:,6],axis=1)/\\\n",
    "                         np.sum(true_random_realizations[:,:,7],axis=1)\n",
    "#sbn.distplot(y.dropna(),ax=ax[1],kde=True,rug=True,bins=200,kde_kws={'clip':(0,100)},color='steelblue',label='Wide NN')\n",
    "sns.distplot(optimized_success_rate,ax=ax[1],rug=False,\n",
    "             label='Randomized Tweet Anomalies',hist_kws={'range': (.2, 1.)},bins = 40)\n",
    "sns.distplot(random_success_rate,ax=ax[0],rug=False,\n",
    "             label='Random Trading',hist_kws={'range': (.2, 1.)},bins = 40)\n",
    "x = true_random_realizations[:,-1,4] #just need some dummy variables\n",
    "ax[0].plot(.723*np.ones([len(x)]),np.linspace(0,100,len(x)),lw = 5,ls='--',label='Tagged Anomaly Tweets',color='orangered')\n",
    "ax[1].plot(.723*np.ones([len(x)]),np.linspace(0,100,len(x)),lw = 5,ls='--',label='Tagged Anomaly Tweets',color='orangered')\n",
    "ax[0].plot(.5*np.ones([len(x)]),np.linspace(0,100,len(x)),lw = 5,ls='--',label=r'$50\\,\\%$',color='black')\n",
    "ax[1].plot(.5*np.ones([len(x)]),np.linspace(0,100,len(x)),lw = 5,ls='--',label=r'$50\\,\\%$',color='black')\n",
    "ax[0].legend(loc='upper left', shadow=True,prop={'size': 30})\n",
    "ax[1].legend(loc='upper left', shadow=True,prop={'size': 30})\n",
    "ax[0].set_xlabel(\"Trade Success Rate\",fontsize=35)\n",
    "ax[1].set_xlabel(\"Trade Success Rate\",fontsize=35)\n",
    "for tick in ax[0].xaxis.get_major_ticks():\n",
    "    tick.label.set_fontsize(35)\n",
    "for tick in ax[0].yaxis.get_major_ticks():\n",
    "    tick.label.set_fontsize(35)\n",
    "for tick in ax[1].xaxis.get_major_ticks():\n",
    "    tick.label.set_fontsize(35)\n",
    "for tick in ax[1].yaxis.get_major_ticks():\n",
    "    tick.label.set_fontsize(35)\n",
    "ax[0].set_ylim(0,15)\n",
    "ax[1].set_ylim(0,15)"
   ]
  },
  {
   "cell_type": "code",
   "execution_count": 340,
   "metadata": {},
   "outputs": [
    {
     "data": {
      "text/plain": [
       "3"
      ]
     },
     "execution_count": 340,
     "metadata": {},
     "output_type": "execute_result"
    }
   ],
   "source": [
    "len(np.where(optimized_success_rate[:] > .723)[0])"
   ]
  },
  {
   "cell_type": "code",
   "execution_count": 341,
   "metadata": {},
   "outputs": [
    {
     "name": "stdout",
     "output_type": "stream",
     "text": [
      "tweet anomaly performance =  0.97\n",
      "Random trading performance =  0.998\n"
     ]
    }
   ],
   "source": [
    "#The fraction of randomly assigned tweet anomaly models that are outperformed by the tagged tweets\n",
    "print (\"tweet anomaly performance = \",1.-len(np.where(optimized_success_rate[:] > .723)[0])/100.)\n",
    "#The fraction of random trading models that are outperformed by the tagged tweets\n",
    "print (\"Random trading performance = \",1.-len(np.where(random_success_rate[:] > .723)[0])/1000.)\n",
    "\n"
   ]
  },
  {
   "cell_type": "code",
   "execution_count": null,
   "metadata": {},
   "outputs": [],
   "source": []
  }
 ],
 "metadata": {
  "kernelspec": {
   "display_name": "Python 3",
   "language": "python",
   "name": "python3"
  },
  "language_info": {
   "codemirror_mode": {
    "name": "ipython",
    "version": 3
   },
   "file_extension": ".py",
   "mimetype": "text/x-python",
   "name": "python",
   "nbconvert_exporter": "python",
   "pygments_lexer": "ipython3",
   "version": "3.8.1"
  }
 },
 "nbformat": 4,
 "nbformat_minor": 4
}

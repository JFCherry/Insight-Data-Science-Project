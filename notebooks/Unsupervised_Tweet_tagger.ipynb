{
 "cells": [
  {
   "cell_type": "markdown",
   "metadata": {},
   "source": [
    "# This notebook is to explore different methods of using unsupervised learning algorithms for tagging anomalies on the tweet data."
   ]
  },
  {
   "cell_type": "code",
   "execution_count": 1,
   "metadata": {},
   "outputs": [
    {
     "name": "stderr",
     "output_type": "stream",
     "text": [
      "Using TensorFlow backend.\n"
     ]
    }
   ],
   "source": [
    "import numpy as np\n",
    "import pandas as pd\n",
    "import matplotlib.pyplot as plt\n",
    "import seaborn as sns\n",
    "import pyod\n",
    "from numpy.random import seed\n",
    "import tensorflow as tf\n",
    "from tensorflow.random import set_seed as set_random_seed\n",
    "from keras.layers import Input, Dropout, Dense, LSTM, TimeDistributed, RepeatVector\n",
    "from keras.models import Model\n",
    "from keras import regularizers"
   ]
  },
  {
   "cell_type": "markdown",
   "metadata": {},
   "source": [
    "# Load up the data which has already been pre-processed"
   ]
  },
  {
   "cell_type": "code",
   "execution_count": 2,
   "metadata": {},
   "outputs": [],
   "source": [
    "scaled_df = pd.read_csv('../data/processed/elonmusk_scaled_tweet_features.csv').drop('Unnamed: 0',axis='columns')"
   ]
  },
  {
   "cell_type": "code",
   "execution_count": 3,
   "metadata": {},
   "outputs": [
    {
     "name": "stdout",
     "output_type": "stream",
     "text": [
      "(9708, 20)\n",
      "<class 'numpy.ndarray'>\n"
     ]
    }
   ],
   "source": [
    "X = scaled_df.values\n",
    "print (np.shape(X))\n",
    "print (type(X))\n",
    "X.shape[1]\n",
    "ndim = X.shape[1] #the number of features"
   ]
  },
  {
   "cell_type": "markdown",
   "metadata": {},
   "source": [
    "# Configure up the various models to be tested"
   ]
  },
  {
   "cell_type": "code",
   "execution_count": 4,
   "metadata": {},
   "outputs": [
    {
     "name": "stderr",
     "output_type": "stream",
     "text": [
      "/Users/JJ/opt/anaconda3/envs/insight/lib/python3.8/site-packages/sklearn/utils/deprecation.py:144: FutureWarning: The sklearn.utils.testing module is  deprecated in version 0.22 and will be removed in version 0.24. The corresponding classes / functions should instead be imported from sklearn.utils. Anything that cannot be imported from sklearn.utils is now part of the private API.\n",
      "  warnings.warn(message, FutureWarning)\n"
     ]
    }
   ],
   "source": [
    "# Import lots of models from PyOD\n",
    "from pyod.models.abod import ABOD\n",
    "from pyod.models.sod import SOD\n",
    "from pyod.models.cof import COF\n",
    "from pyod.models.cblof import CBLOF\n",
    "from pyod.models.lmdd import LMDD\n",
    "from pyod.models.sos import SOS\n",
    "from pyod.models.loci import LOCI\n",
    "from pyod.models.feature_bagging import FeatureBagging\n",
    "from pyod.models.hbos import HBOS\n",
    "from pyod.models.iforest import IForest\n",
    "from pyod.models.knn import KNN\n",
    "from pyod.models.lof import LOF\n",
    "from pyod.models.mcd import MCD\n",
    "from pyod.models.ocsvm import OCSVM\n",
    "from pyod.models.loda import LODA\n",
    "from pyod.models.pca import PCA\n",
    "from pyod.models.auto_encoder import AutoEncoder\n",
    "from pyod.models.vae import VAE\n",
    "from pyod.models.mo_gaal import MO_GAAL"
   ]
  },
  {
   "cell_type": "code",
   "execution_count": 5,
   "metadata": {},
   "outputs": [],
   "source": [
    "# Set the outliers_fraction to be 1%\n",
    "outliers_fraction = 0.01\n",
    "random_state = np.random.RandomState(42)\n",
    "# Define eighteen outlier detection tools to be compared\n",
    "classifiers = {\n",
    "    'Variational Auto Econder (VAE)': VAE(epochs=20,\n",
    "            contamination = outliers_fraction, random_state = random_state,\n",
    "            encoder_neurons = [ndim,max(int(ndim/2),1),max(int(ndim/4),1)],\n",
    "            decoder_neurons = [max(int(ndim/4),1),max(int(ndim/2),1),ndim],\n",
    "            verbosity=0),\n",
    "    'Fully Connected Auto Econder (AutoEncoder)': AutoEncoder(epochs=20,\n",
    "        contamination=outliers_fraction,random_state=random_state,\n",
    "        hidden_neurons = [ndim, max(int(ndim/2),1), max(int(ndim/4),1), \n",
    "                           max(int(ndim/4),1),max(int(ndim/2),1),ndim],\n",
    "        verbose = 0),                                                        \n",
    "    'Angle-based Outlier Detector (ABOD)':\n",
    "        ABOD(contamination=outliers_fraction),\n",
    "    'Subspace Outlier Detector (SOD)':\n",
    "        SOD(contamination=outliers_fraction),\n",
    "    'Connectivity-Based Outlier Factor (COF)':\n",
    "        COF(contamination=outliers_fraction),\n",
    "    'Cluster-based Local Outlier Factor (CBLOF)':\n",
    "        CBLOF(contamination=outliers_fraction,\n",
    "              check_estimator=False, random_state=random_state),\n",
    "    'Deviation-based Outlier Detection (LMDD)':\n",
    "        LMDD(contamination=outliers_fraction,\n",
    "            random_state=random_state),\n",
    "    'Stochastic Outlier Selection (SOS)':\n",
    "        SOS(contamination=outliers_fraction,\n",
    "           metric='correlation'),\n",
    "    'Feature Bagging':\n",
    "        FeatureBagging(LOF(n_neighbors=35),\n",
    "                       contamination=outliers_fraction,\n",
    "                       random_state=random_state),\n",
    "    'Histogram-base Outlier Detection (HBOS)': HBOS(\n",
    "        contamination=outliers_fraction),\n",
    "    'Isolation Forest': IForest(contamination=outliers_fraction,\n",
    "                                random_state=random_state),\n",
    "    'K Nearest Neighbors (KNN)': KNN(\n",
    "        contamination=outliers_fraction),\n",
    "    'Average KNN': KNN(method='mean',\n",
    "                       contamination=outliers_fraction),\n",
    "    'Local Outlier Factor (LOF)':\n",
    "        LOF(n_neighbors=35, contamination=outliers_fraction),\n",
    "    'Minimum Covariance Determinant (MCD)': MCD(\n",
    "        contamination=outliers_fraction, random_state=random_state),\n",
    "    'One-class SVM (OCSVM)': OCSVM(contamination=outliers_fraction),\n",
    "    'Lightweight On-line Detector of Anomalies (LODA)':\n",
    "        LODA(contamination=outliers_fraction),\n",
    "    'Principal Component Analysis (PCA)': PCA(\n",
    "        contamination=outliers_fraction, random_state=random_state)\n",
    "}"
   ]
  },
  {
   "cell_type": "markdown",
   "metadata": {},
   "source": [
    "# Iterate and fit over the different models we have defined and save the output"
   ]
  },
  {
   "cell_type": "code",
   "execution_count": 6,
   "metadata": {},
   "outputs": [
    {
     "name": "stdout",
     "output_type": "stream",
     "text": [
      "1 fitting Variational Auto Econder (VAE)\n"
     ]
    },
    {
     "name": "stderr",
     "output_type": "stream",
     "text": [
      "/Users/JJ/opt/anaconda3/envs/insight/lib/python3.8/site-packages/keras/engine/training_utils.py:816: UserWarning: Output model_2 missing from loss dictionary. We assume this was done on purpose. The fit and evaluate APIs will not be expecting any data to be passed to model_2.\n",
      "  warnings.warn(\n"
     ]
    },
    {
     "name": "stdout",
     "output_type": "stream",
     "text": [
      "2 fitting Fully Connected Auto Econder (AutoEncoder)\n",
      "3 fitting Angle-based Outlier Detector (ABOD)\n",
      "4 fitting Subspace Outlier Detector (SOD)\n",
      "5 fitting Connectivity-Based Outlier Factor (COF)\n",
      "6 fitting Cluster-based Local Outlier Factor (CBLOF)\n",
      "7 fitting Deviation-based Outlier Detection (LMDD)\n",
      "8 fitting Stochastic Outlier Selection (SOS)\n",
      "9 fitting Feature Bagging\n",
      "10 fitting Histogram-base Outlier Detection (HBOS)\n",
      "11 fitting Isolation Forest\n",
      "12 fitting K Nearest Neighbors (KNN)\n",
      "13 fitting Average KNN\n",
      "14 fitting Local Outlier Factor (LOF)\n",
      "15 fitting Minimum Covariance Determinant (MCD)\n"
     ]
    },
    {
     "name": "stderr",
     "output_type": "stream",
     "text": [
      "/Users/JJ/opt/anaconda3/envs/insight/lib/python3.8/site-packages/sklearn/covariance/_robust_covariance.py:644: UserWarning: The covariance matrix associated to your dataset is not full rank\n",
      "  warnings.warn(\"The covariance matrix associated to your dataset \"\n"
     ]
    },
    {
     "name": "stdout",
     "output_type": "stream",
     "text": [
      "16 fitting One-class SVM (OCSVM)\n",
      "17 fitting Lightweight On-line Detector of Anomalies (LODA)\n",
      "18 fitting Principal Component Analysis (PCA)\n"
     ]
    }
   ],
   "source": [
    "# initialize results arrays\n",
    "y_pred = np.array([])\n",
    "scores_pred = np.array([])\n",
    "for i, (clf_name,clf) in enumerate(classifiers.items()):\n",
    "    print(i + 1, 'fitting', clf_name)\n",
    "    clf.fit(X)\n",
    "    if y_pred.shape == (0,):#if we haven't saved any data yet\n",
    "        scores_pred = (clf.decision_function(X) * -1).reshape(1,X.shape[0])\n",
    "        y_pred = (clf.predict(X)).reshape(1,X.shape[0])\n",
    "    else: # we've got data stored in scores and y\n",
    "        scores_pred = np.vstack(((clf.decision_function(X) * -1).reshape(1,X.shape[0]),scores_pred))\n",
    "        y_pred = np.vstack(((clf.predict(X)).reshape(1,X.shape[0]),y_pred))"
   ]
  },
  {
   "cell_type": "code",
   "execution_count": 7,
   "metadata": {},
   "outputs": [],
   "source": [
    "# save backups\n",
    "np.save('../y_pred_log.npy',y_pred)\n",
    "np.save('../scores_pred_log.npy',scores_pred)"
   ]
  },
  {
   "cell_type": "code",
   "execution_count": 8,
   "metadata": {
    "scrolled": true
   },
   "outputs": [
    {
     "data": {
      "image/png": "[encoded data removed]",
      "text/plain": [
       "<Figure size 1440x1440 with 18 Axes>"
      ]
     },
     "metadata": {
      "needs_background": "light"
     },
     "output_type": "display_data"
    }
   ],
   "source": [
    "col_names = [clf_name for i, (clf_name,clf) in enumerate(classifiers.items())]\n",
    "scores_df = pd.DataFrame(scores_pred.transpose(), columns = col_names,index = range(scores_pred.shape[1]))\n",
    "fig, axes = plt.subplots(nrows=6, ncols=3,figsize=(20, 20))\n",
    "for i, column in enumerate(scores_df.columns):\n",
    "    sns.distplot(scores_df[column],ax=axes[i//3,i%3])"
   ]
  },
  {
   "cell_type": "markdown",
   "metadata": {},
   "source": [
    "# Now we need to test our anomaly models for their trade rate success"
   ]
  },
  {
   "cell_type": "code",
   "execution_count": 9,
   "metadata": {},
   "outputs": [
    {
     "data": {
      "text/plain": [
       "Index(['username', 'tweet_id', 'reply_to', 'retweets', 'favorites', 'hashtags',\n",
       "       'mentions', 'text', 'permalink', 'Time', 'hashtags_token',\n",
       "       'mentions_token', 'reply_to_token', 'text_neg', 'text_neu', 'text_pos',\n",
       "       'text_compound', 'hashtags_neg', 'hashtags_neu', 'hashtags_pos',\n",
       "       'hashtags_compound', 'hour', 'delta_time', 'log10_delta_time',\n",
       "       'dcompound_dTime', 'dcompound_dTweet', 'integral_compound_5',\n",
       "       'integral_compound_10', 'delta_compound_mean', 'delta_compound_median'],\n",
       "      dtype='object')"
      ]
     },
     "execution_count": 9,
     "metadata": {},
     "output_type": "execute_result"
    }
   ],
   "source": [
    "tweet_features_df = pd.read_csv('../data/cleaned/elonmusk_unscaled_tweet_features.csv')\\\n",
    "                               .drop('Unnamed: 0',axis='columns')\n",
    "tweet_features_df.columns"
   ]
  },
  {
   "cell_type": "code",
   "execution_count": 11,
   "metadata": {},
   "outputs": [],
   "source": [
    "import trade_utils as tu\n",
    "import pytz\n",
    "import datetime\n",
    "# open up the processed tweet data\n",
    "tweet_features_df = pd.read_csv('../data/cleaned/elonmusk_unscaled_tweet_features.csv')\\\n",
    "                               .drop('Unnamed: 0',axis='columns')\n",
    "tweet_features_df['Time'] = pd.to_datetime(tweet_features_df['Time'])\n",
    "tsla_df = pd.read_csv('../data/raw/tsla_stock_price.csv')\\\n",
    "                     .drop('Unnamed: 0',axis='columns')\n",
    "tsla_df['DateTime'] = pd.to_datetime(tsla_df['DateTime'])\n",
    "# unscaled_df['anomalous'] = y_pred\n",
    "# some helper functions\n",
    "def nearest(items, pivot):\n",
    "    return min(items, key=lambda x: abs(x - pivot))\n",
    "def nearest_price(items, pivot,df):\n",
    "    timestamp = min(items, key=lambda x: abs(x - pivot))\n",
    "    return df.loc[df['DateTime']==timestamp,['Open']].values\n",
    "def strip_string(string):\n",
    "    #return string.strip(\"[[]]\")\n",
    "    return string[0][0]\n",
    "# insert the stock data into the appropriate rows on the tweet_features_df\n",
    "#tweet_features_df['stock_time']=tweet_features_df['Time'].apply(lambda row: nearest(tsla_df['DateTime'],row))\n",
    "#tweet_features_df['stock_price']=tweet_features_df['Time'].apply(lambda row: nearest_price(tsla_df['DateTime'],row,tsla_df))\n",
    "#tweet_features_df['stock_price'] = tweet_features_df['stock_price'].apply(lambda row: strip_string(row))"
   ]
  },
  {
   "cell_type": "code",
   "execution_count": 12,
   "metadata": {},
   "outputs": [],
   "source": [
    "tweet_features_df = pd.read_csv(\\\n",
    "            '../data/processed/elonmusk_anomalyandstock_tagged_tweet_features.csv')\\\n",
    "            .drop('Unnamed: 0',axis='columns')\n",
    "tweet_features_df['Time'] = pd.to_datetime(tweet_features_df['Time'])\n",
    "tweet_features_df['stock_time'] = pd.to_datetime(tweet_features_df['stock_time'])"
   ]
  },
  {
   "cell_type": "code",
   "execution_count": 12,
   "metadata": {
    "scrolled": true
   },
   "outputs": [
    {
     "name": "stdout",
     "output_type": "stream",
     "text": [
      "1 fitting Variational Auto Econder (VAE) anomalies\n"
     ]
    },
    {
     "name": "stderr",
     "output_type": "stream",
     "text": [
      "/Users/JJ/Insight/projects/Muskometer/Insight-Data-Science-Project/notebooks/trade_utils.py:107: SettingWithCopyWarning: \n",
      "A value is trying to be set on a copy of a slice from a DataFrame.\n",
      "Try using .loc[row_indexer,col_indexer] = value instead\n",
      "\n",
      "See the caveats in the documentation: https://pandas.pydata.org/pandas-docs/stable/user_guide/indexing.html#returning-a-view-versus-a-copy\n",
      "  df['temporary'] = df.apply(lambda row : (row[time_column] - start_time).total_seconds(),axis=1)\n"
     ]
    },
    {
     "name": "stdout",
     "output_type": "stream",
     "text": [
      "2 fitting Fully Connected Auto Econder (AutoEncoder) anomalies\n",
      "3 fitting Angle-based Outlier Detector (ABOD) anomalies\n",
      "4 fitting Subspace Outlier Detector (SOD) anomalies\n",
      "5 fitting Connectivity-Based Outlier Factor (COF) anomalies\n",
      "6 fitting Cluster-based Local Outlier Factor (CBLOF) anomalies\n",
      "7 fitting Deviation-based Outlier Detection (LMDD) anomalies\n",
      "8 fitting Stochastic Outlier Selection (SOS) anomalies\n",
      "9 fitting Feature Bagging anomalies\n",
      "10 fitting Histogram-base Outlier Detection (HBOS) anomalies\n",
      "11 fitting Isolation Forest anomalies\n",
      "12 fitting K Nearest Neighbors (KNN) anomalies\n",
      "13 fitting Average KNN anomalies\n",
      "14 fitting Local Outlier Factor (LOF) anomalies\n",
      "15 fitting Minimum Covariance Determinant (MCD) anomalies\n",
      "16 fitting One-class SVM (OCSVM) anomalies\n",
      "17 fitting Lightweight On-line Detector of Anomalies (LODA) anomalies\n",
      "18 fitting Principal Component Analysis (PCA) anomalies\n"
     ]
    }
   ],
   "source": [
    "timezone = pytz.timezone('UTC')\n",
    "start_date = timezone.localize(datetime.datetime(2016,1,1))\n",
    "end_date = timezone.localize(datetime.datetime(2020,2,1))\n",
    "# for each model, store the results:\n",
    "returns = np.array([])\n",
    "accuracies = np.array([])\n",
    "for i, (clf_name,clf) in enumerate(classifiers.items()):\n",
    "    print(i + 1, 'fitting', clf_name, \"anomalies\")\n",
    "    # tag the tweets with this model's predictions for anomalies\n",
    "    tweet_features_df['anomalous'] = y_pred[i,:]\n",
    "    # trim down to the anomalies only\n",
    "    anomaly_only_df = tweet_features_df[tweet_features_df['anomalous']!=0.]\n",
    "    # compute the best performance\n",
    "    params,best_return,best_accuracy = tu.find_best_performance(tsla_df,anomaly_only_df,start_date,end_date)\n",
    "    # store the results\n",
    "    returns = np.hstack((returns,best_return))\n",
    "    accuracies = np.hstack((accuracies,best_accuracy))\n",
    "    "
   ]
  },
  {
   "cell_type": "code",
   "execution_count": 13,
   "metadata": {},
   "outputs": [],
   "source": [
    "# save backups\n",
    "np.save('../returns_log.npy',returns)\n",
    "np.save('../accuracies_log.npy',accuracies)"
   ]
  },
  {
   "cell_type": "code",
   "execution_count": 14,
   "metadata": {},
   "outputs": [
    {
     "data": {
      "text/plain": [
       "<matplotlib.axes._subplots.AxesSubplot at 0x14a42a2e0>"
      ]
     },
     "execution_count": 14,
     "metadata": {},
     "output_type": "execute_result"
    },
    {
     "data": {
      "image/png": "[encoded data removed]",
      "text/plain": [
       "<Figure size 432x288 with 1 Axes>"
      ]
     },
     "metadata": {
      "needs_background": "light"
     },
     "output_type": "display_data"
    }
   ],
   "source": [
    "# let's have a look at the accuracy distributions\n",
    "sns.distplot(accuracies,bins=10)"
   ]
  },
  {
   "cell_type": "code",
   "execution_count": 15,
   "metadata": {},
   "outputs": [
    {
     "name": "stdout",
     "output_type": "stream",
     "text": [
      "[[ 0]\n",
      " [ 5]\n",
      " [ 7]\n",
      " [10]\n",
      " [16]\n",
      " [17]]\n"
     ]
    },
    {
     "data": {
      "text/plain": [
       "array([[0.72340426],\n",
       "       [0.76470588],\n",
       "       [0.78571429],\n",
       "       [0.73584906],\n",
       "       [0.72340426],\n",
       "       [0.72340426]])"
      ]
     },
     "execution_count": 15,
     "metadata": {},
     "output_type": "execute_result"
    }
   ],
   "source": [
    "print(np.argwhere(accuracies >= .72))\n",
    "accuracies[np.argwhere(accuracies >= .72)]"
   ]
  },
  {
   "cell_type": "code",
   "execution_count": 16,
   "metadata": {},
   "outputs": [
    {
     "data": {
      "text/plain": [
       "0.723404255319149"
      ]
     },
     "execution_count": 16,
     "metadata": {},
     "output_type": "execute_result"
    }
   ],
   "source": [
    "accuracies[0]"
   ]
  },
  {
   "cell_type": "markdown",
   "metadata": {},
   "source": [
    "# Now let's test over a different range of dates"
   ]
  },
  {
   "cell_type": "code",
   "execution_count": 17,
   "metadata": {},
   "outputs": [
    {
     "name": "stdout",
     "output_type": "stream",
     "text": [
      "1 fitting Variational Auto Econder (VAE) anomalies\n"
     ]
    },
    {
     "name": "stderr",
     "output_type": "stream",
     "text": [
      "/Users/JJ/Insight/projects/Muskometer/Insight-Data-Science-Project/notebooks/trade_utils.py:107: SettingWithCopyWarning: \n",
      "A value is trying to be set on a copy of a slice from a DataFrame.\n",
      "Try using .loc[row_indexer,col_indexer] = value instead\n",
      "\n",
      "See the caveats in the documentation: https://pandas.pydata.org/pandas-docs/stable/user_guide/indexing.html#returning-a-view-versus-a-copy\n",
      "  df['temporary'] = df.apply(lambda row : (row[time_column] - start_time).total_seconds(),axis=1)\n"
     ]
    },
    {
     "name": "stdout",
     "output_type": "stream",
     "text": [
      "2 fitting Fully Connected Auto Econder (AutoEncoder) anomalies\n",
      "3 fitting Angle-based Outlier Detector (ABOD) anomalies\n",
      "4 fitting Subspace Outlier Detector (SOD) anomalies\n",
      "5 fitting Connectivity-Based Outlier Factor (COF) anomalies\n",
      "6 fitting Cluster-based Local Outlier Factor (CBLOF) anomalies\n",
      "7 fitting Deviation-based Outlier Detection (LMDD) anomalies\n",
      "8 fitting Stochastic Outlier Selection (SOS) anomalies\n",
      "9 fitting Feature Bagging anomalies\n",
      "10 fitting Histogram-base Outlier Detection (HBOS) anomalies\n",
      "11 fitting Isolation Forest anomalies\n",
      "12 fitting K Nearest Neighbors (KNN) anomalies\n",
      "13 fitting Average KNN anomalies\n",
      "14 fitting Local Outlier Factor (LOF) anomalies\n",
      "15 fitting Minimum Covariance Determinant (MCD) anomalies\n",
      "16 fitting One-class SVM (OCSVM) anomalies\n",
      "17 fitting Lightweight On-line Detector of Anomalies (LODA) anomalies\n",
      "18 fitting Principal Component Analysis (PCA) anomalies\n"
     ]
    }
   ],
   "source": [
    "timezone = pytz.timezone('UTC')\n",
    "start_date = timezone.localize(datetime.datetime(2012,1,1))\n",
    "end_date = timezone.localize(datetime.datetime(2020,6,1))\n",
    "# for each model, store the results:\n",
    "returns_wide = np.array([])\n",
    "accuracies_wide = np.array([])\n",
    "for i, (clf_name,clf) in enumerate(classifiers.items()):\n",
    "    print(i + 1, 'fitting', clf_name, \"anomalies\")\n",
    "    # tag the tweets with this model's predictions for anomalies\n",
    "    tweet_features_df['anomalous'] = y_pred[i,:]\n",
    "    # trim down to the anomalies only\n",
    "    anomaly_only_df = tweet_features_df[tweet_features_df['anomalous']!=0.]\n",
    "    # compute the best performance\n",
    "    params,best_return,best_accuracy = tu.find_best_performance(tsla_df,anomaly_only_df,start_date,end_date)\n",
    "    # store the results\n",
    "    returns_wide = np.hstack((returns_wide,best_return))\n",
    "    accuracies_wide = np.hstack((accuracies_wide,best_accuracy))"
   ]
  },
  {
   "cell_type": "code",
   "execution_count": 18,
   "metadata": {},
   "outputs": [
    {
     "data": {
      "text/plain": [
       "<matplotlib.axes._subplots.AxesSubplot at 0x149c11640>"
      ]
     },
     "execution_count": 18,
     "metadata": {},
     "output_type": "execute_result"
    },
    {
     "data": {
      "image/png": "[encoded data removed]",
      "text/plain": [
       "<Figure size 432x288 with 1 Axes>"
      ]
     },
     "metadata": {
      "needs_background": "light"
     },
     "output_type": "display_data"
    }
   ],
   "source": [
    "# let's have a look at the accuracy distributions\n",
    "sns.distplot(accuracies_wide,bins=10)"
   ]
  },
  {
   "cell_type": "code",
   "execution_count": 22,
   "metadata": {},
   "outputs": [
    {
     "name": "stdout",
     "output_type": "stream",
     "text": [
      "[[ 5]\n",
      " [10]\n",
      " [12]\n",
      " [14]]\n"
     ]
    },
    {
     "data": {
      "text/plain": [
       "array([[0.71052632],\n",
       "       [0.72      ],\n",
       "       [0.7260274 ],\n",
       "       [0.70238095]])"
      ]
     },
     "execution_count": 22,
     "metadata": {},
     "output_type": "execute_result"
    }
   ],
   "source": [
    "print(np.argwhere(accuracies_wide >= .70))\n",
    "accuracies_wide[np.argwhere(accuracies_wide >= .70)]"
   ]
  },
  {
   "cell_type": "markdown",
   "metadata": {},
   "source": [
    "## Okay, so the CBLOF model seems to be doing the best so far.  Let's change the outlier fraction and see if that impacts the success rate.  If increase the outlier fraction, the accuracy should drop because non-anomalies are being included in the anomaly sample.  Likewise, if we decrease the outlier fraction should decrease or stay stable."
   ]
  },
  {
   "cell_type": "code",
   "execution_count": 21,
   "metadata": {},
   "outputs": [
    {
     "name": "stdout",
     "output_type": "stream",
     "text": [
      "1 fitting Variational Auto Econder (VAE)\n"
     ]
    },
    {
     "name": "stderr",
     "output_type": "stream",
     "text": [
      "/Users/JJ/opt/anaconda3/envs/insight/lib/python3.8/site-packages/keras/engine/training_utils.py:816: UserWarning: Output model_5 missing from loss dictionary. We assume this was done on purpose. The fit and evaluate APIs will not be expecting any data to be passed to model_5.\n",
      "  warnings.warn(\n"
     ]
    },
    {
     "name": "stdout",
     "output_type": "stream",
     "text": [
      "2 fitting Fully Connected Auto Econder (AutoEncoder)\n",
      "3 fitting Angle-based Outlier Detector (ABOD)\n",
      "4 fitting Subspace Outlier Detector (SOD)\n",
      "5 fitting Connectivity-Based Outlier Factor (COF)\n",
      "6 fitting Cluster-based Local Outlier Factor (CBLOF)\n",
      "7 fitting Deviation-based Outlier Detection (LMDD)\n",
      "8 fitting Stochastic Outlier Selection (SOS)\n",
      "9 fitting Feature Bagging\n",
      "10 fitting Histogram-base Outlier Detection (HBOS)\n",
      "11 fitting Isolation Forest\n",
      "12 fitting K Nearest Neighbors (KNN)\n",
      "13 fitting Average KNN\n",
      "14 fitting Local Outlier Factor (LOF)\n",
      "15 fitting Minimum Covariance Determinant (MCD)\n"
     ]
    },
    {
     "name": "stderr",
     "output_type": "stream",
     "text": [
      "/Users/JJ/opt/anaconda3/envs/insight/lib/python3.8/site-packages/sklearn/covariance/_robust_covariance.py:644: UserWarning: The covariance matrix associated to your dataset is not full rank\n",
      "  warnings.warn(\"The covariance matrix associated to your dataset \"\n"
     ]
    },
    {
     "name": "stdout",
     "output_type": "stream",
     "text": [
      "16 fitting One-class SVM (OCSVM)\n",
      "17 fitting Lightweight On-line Detector of Anomalies (LODA)\n",
      "18 fitting Principal Component Analysis (PCA)\n"
     ]
    }
   ],
   "source": [
    "# Set the outliers_fraction to be 3%\n",
    "outliers_fraction = 0.03\n",
    "random_state = np.random.RandomState(42)\n",
    "# Define eighteen outlier detection tools to be compared\n",
    "classifiers = {\n",
    "    'Variational Auto Econder (VAE)': VAE(epochs=20,\n",
    "            contamination = outliers_fraction, random_state = random_state,\n",
    "            encoder_neurons = [ndim,max(int(ndim/2),1),max(int(ndim/4),1)],\n",
    "            decoder_neurons = [max(int(ndim/4),1),max(int(ndim/2),1),ndim],\n",
    "            verbosity=0),\n",
    "    'Fully Connected Auto Econder (AutoEncoder)': AutoEncoder(epochs=20,\n",
    "        contamination=outliers_fraction,random_state=random_state,\n",
    "        hidden_neurons = [ndim, max(int(ndim/2),1), max(int(ndim/4),1), \n",
    "                           max(int(ndim/4),1),max(int(ndim/2),1),ndim],\n",
    "        verbose = 0),                                                        \n",
    "    'Angle-based Outlier Detector (ABOD)':\n",
    "        ABOD(contamination=outliers_fraction),\n",
    "    'Subspace Outlier Detector (SOD)':\n",
    "        SOD(contamination=outliers_fraction),\n",
    "    'Connectivity-Based Outlier Factor (COF)':\n",
    "        COF(contamination=outliers_fraction),\n",
    "    'Cluster-based Local Outlier Factor (CBLOF)':\n",
    "        CBLOF(contamination=outliers_fraction,\n",
    "              check_estimator=False, random_state=random_state),\n",
    "    'Deviation-based Outlier Detection (LMDD)':\n",
    "        LMDD(contamination=outliers_fraction,\n",
    "            random_state=random_state),\n",
    "    'Stochastic Outlier Selection (SOS)':\n",
    "        SOS(contamination=outliers_fraction,\n",
    "           metric='correlation'),\n",
    "    'Feature Bagging':\n",
    "        FeatureBagging(LOF(n_neighbors=35),\n",
    "                       contamination=outliers_fraction,\n",
    "                       random_state=random_state),\n",
    "    'Histogram-base Outlier Detection (HBOS)': HBOS(\n",
    "        contamination=outliers_fraction),\n",
    "    'Isolation Forest': IForest(contamination=outliers_fraction,\n",
    "                                random_state=random_state),\n",
    "    'K Nearest Neighbors (KNN)': KNN(\n",
    "        contamination=outliers_fraction),\n",
    "    'Average KNN': KNN(method='mean',\n",
    "                       contamination=outliers_fraction),\n",
    "    'Local Outlier Factor (LOF)':\n",
    "        LOF(n_neighbors=35, contamination=outliers_fraction),\n",
    "    'Minimum Covariance Determinant (MCD)': MCD(\n",
    "        contamination=outliers_fraction, random_state=random_state),\n",
    "    'One-class SVM (OCSVM)': OCSVM(contamination=outliers_fraction),\n",
    "    'Lightweight On-line Detector of Anomalies (LODA)':\n",
    "        LODA(contamination=outliers_fraction),\n",
    "    'Principal Component Analysis (PCA)': PCA(\n",
    "        contamination=outliers_fraction, random_state=random_state)\n",
    "}\n",
    "\n",
    "# initialize results arrays\n",
    "y_pred = np.array([])\n",
    "scores_pred = np.array([])\n",
    "for i, (clf_name,clf) in enumerate(classifiers.items()):\n",
    "    print(i + 1, 'fitting', clf_name)\n",
    "    clf.fit(X)\n",
    "    if y_pred.shape == (0,):#if we haven't saved any data yet\n",
    "        scores_pred = (clf.decision_function(X) * -1).reshape(1,X.shape[0])\n",
    "        y_pred = (clf.predict(X)).reshape(1,X.shape[0])\n",
    "    else: # we've got data stored in scores and y\n",
    "        scores_pred = np.vstack(((clf.decision_function(X) * -1).reshape(1,X.shape[0]),scores_pred))\n",
    "        y_pred = np.vstack(((clf.predict(X)).reshape(1,X.shape[0]),y_pred))"
   ]
  },
  {
   "cell_type": "code",
   "execution_count": 23,
   "metadata": {},
   "outputs": [
    {
     "name": "stdout",
     "output_type": "stream",
     "text": [
      "1 fitting Variational Auto Econder (VAE) anomalies\n"
     ]
    },
    {
     "name": "stderr",
     "output_type": "stream",
     "text": [
      "/Users/JJ/Insight/projects/Muskometer/Insight-Data-Science-Project/notebooks/trade_utils.py:107: SettingWithCopyWarning: \n",
      "A value is trying to be set on a copy of a slice from a DataFrame.\n",
      "Try using .loc[row_indexer,col_indexer] = value instead\n",
      "\n",
      "See the caveats in the documentation: https://pandas.pydata.org/pandas-docs/stable/user_guide/indexing.html#returning-a-view-versus-a-copy\n",
      "  df['temporary'] = df.apply(lambda row : (row[time_column] - start_time).total_seconds(),axis=1)\n"
     ]
    },
    {
     "name": "stdout",
     "output_type": "stream",
     "text": [
      "2 fitting Fully Connected Auto Econder (AutoEncoder) anomalies\n",
      "3 fitting Angle-based Outlier Detector (ABOD) anomalies\n",
      "4 fitting Subspace Outlier Detector (SOD) anomalies\n",
      "5 fitting Connectivity-Based Outlier Factor (COF) anomalies\n",
      "6 fitting Cluster-based Local Outlier Factor (CBLOF) anomalies\n",
      "7 fitting Deviation-based Outlier Detection (LMDD) anomalies\n",
      "8 fitting Stochastic Outlier Selection (SOS) anomalies\n",
      "9 fitting Feature Bagging anomalies\n",
      "10 fitting Histogram-base Outlier Detection (HBOS) anomalies\n",
      "11 fitting Isolation Forest anomalies\n",
      "12 fitting K Nearest Neighbors (KNN) anomalies\n",
      "13 fitting Average KNN anomalies\n",
      "14 fitting Local Outlier Factor (LOF) anomalies\n",
      "15 fitting Minimum Covariance Determinant (MCD) anomalies\n",
      "16 fitting One-class SVM (OCSVM) anomalies\n",
      "17 fitting Lightweight On-line Detector of Anomalies (LODA) anomalies\n",
      "18 fitting Principal Component Analysis (PCA) anomalies\n"
     ]
    }
   ],
   "source": [
    "timezone = pytz.timezone('UTC')\n",
    "start_date = timezone.localize(datetime.datetime(2016,1,1))\n",
    "end_date = timezone.localize(datetime.datetime(2020,2,1))\n",
    "# for each model, store the results:\n",
    "returns_3pct = np.array([])\n",
    "accuracies_3pct = np.array([])\n",
    "for i, (clf_name,clf) in enumerate(classifiers.items()):\n",
    "    print(i + 1, 'fitting', clf_name, \"anomalies\")\n",
    "    # tag the tweets with this model's predictions for anomalies\n",
    "    tweet_features_df['anomalous'] = y_pred[i,:]\n",
    "    # trim down to the anomalies only\n",
    "    anomaly_only_df = tweet_features_df[tweet_features_df['anomalous']!=0.]\n",
    "    # compute the best performance\n",
    "    params,best_return,best_accuracy = tu.find_best_performance(tsla_df,anomaly_only_df,start_date,end_date)\n",
    "    # store the results\n",
    "    returns_3pct = np.hstack((returns_3pct,best_return))\n",
    "    accuracies_3pct = np.hstack((accuracies_3pct,best_accuracy))"
   ]
  },
  {
   "cell_type": "code",
   "execution_count": 24,
   "metadata": {},
   "outputs": [
    {
     "data": {
      "text/plain": [
       "<matplotlib.axes._subplots.AxesSubplot at 0x1489345e0>"
      ]
     },
     "execution_count": 24,
     "metadata": {},
     "output_type": "execute_result"
    },
    {
     "data": {
      "image/png": "[encoded data removed]",
      "text/plain": [
       "<Figure size 432x288 with 1 Axes>"
      ]
     },
     "metadata": {
      "needs_background": "light"
     },
     "output_type": "display_data"
    }
   ],
   "source": [
    "# let's have a look at the accuracy distributions\n",
    "sns.distplot(accuracies_3pct,bins=10)"
   ]
  },
  {
   "cell_type": "code",
   "execution_count": 33,
   "metadata": {},
   "outputs": [
    {
     "name": "stdout",
     "output_type": "stream",
     "text": [
      "[[ 2]\n",
      " [ 4]\n",
      " [ 5]\n",
      " [ 7]\n",
      " [11]\n",
      " [15]]\n"
     ]
    },
    {
     "data": {
      "text/plain": [
       "array([[0.66141732],\n",
       "       [0.65625   ],\n",
       "       [0.68965517],\n",
       "       [0.67256637],\n",
       "       [0.65546218],\n",
       "       [0.68115942]])"
      ]
     },
     "execution_count": 33,
     "metadata": {},
     "output_type": "execute_result"
    }
   ],
   "source": [
    "print(np.argwhere(accuracies_3pct >= .65))\n",
    "accuracies_3pct[np.argwhere(accuracies_3pct >= .65)]"
   ]
  },
  {
   "cell_type": "markdown",
   "metadata": {},
   "source": [
    "## Alright, so CBLOF is still the best,and all methods have dropped in accuracy as expected!  Now we'll do the extended timeframe fit."
   ]
  },
  {
   "cell_type": "code",
   "execution_count": 27,
   "metadata": {},
   "outputs": [
    {
     "name": "stdout",
     "output_type": "stream",
     "text": [
      "1 fitting Variational Auto Econder (VAE) anomalies\n"
     ]
    },
    {
     "name": "stderr",
     "output_type": "stream",
     "text": [
      "/Users/JJ/Insight/projects/Muskometer/Insight-Data-Science-Project/notebooks/trade_utils.py:107: SettingWithCopyWarning: \n",
      "A value is trying to be set on a copy of a slice from a DataFrame.\n",
      "Try using .loc[row_indexer,col_indexer] = value instead\n",
      "\n",
      "See the caveats in the documentation: https://pandas.pydata.org/pandas-docs/stable/user_guide/indexing.html#returning-a-view-versus-a-copy\n",
      "  df['temporary'] = df.apply(lambda row : (row[time_column] - start_time).total_seconds(),axis=1)\n"
     ]
    },
    {
     "name": "stdout",
     "output_type": "stream",
     "text": [
      "2 fitting Fully Connected Auto Econder (AutoEncoder) anomalies\n",
      "3 fitting Angle-based Outlier Detector (ABOD) anomalies\n",
      "4 fitting Subspace Outlier Detector (SOD) anomalies\n",
      "5 fitting Connectivity-Based Outlier Factor (COF) anomalies\n",
      "6 fitting Cluster-based Local Outlier Factor (CBLOF) anomalies\n",
      "7 fitting Deviation-based Outlier Detection (LMDD) anomalies\n",
      "8 fitting Stochastic Outlier Selection (SOS) anomalies\n",
      "9 fitting Feature Bagging anomalies\n",
      "10 fitting Histogram-base Outlier Detection (HBOS) anomalies\n",
      "11 fitting Isolation Forest anomalies\n",
      "12 fitting K Nearest Neighbors (KNN) anomalies\n",
      "13 fitting Average KNN anomalies\n",
      "14 fitting Local Outlier Factor (LOF) anomalies\n",
      "15 fitting Minimum Covariance Determinant (MCD) anomalies\n",
      "16 fitting One-class SVM (OCSVM) anomalies\n",
      "17 fitting Lightweight On-line Detector of Anomalies (LODA) anomalies\n",
      "18 fitting Principal Component Analysis (PCA) anomalies\n"
     ]
    }
   ],
   "source": [
    "timezone = pytz.timezone('UTC')\n",
    "start_date = timezone.localize(datetime.datetime(2012,1,1))\n",
    "end_date = timezone.localize(datetime.datetime(2020,6,1))\n",
    "# for each model, store the results:\n",
    "returns_3pct_wide = np.array([])\n",
    "accuracies_3pct_wide = np.array([])\n",
    "for i, (clf_name,clf) in enumerate(classifiers.items()):\n",
    "    print(i + 1, 'fitting', clf_name, \"anomalies\")\n",
    "    # tag the tweets with this model's predictions for anomalies\n",
    "    tweet_features_df['anomalous'] = y_pred[i,:]\n",
    "    # trim down to the anomalies only\n",
    "    anomaly_only_df = tweet_features_df[tweet_features_df['anomalous']!=0.]\n",
    "    # compute the best performance\n",
    "    params,best_return,best_accuracy = tu.find_best_performance(tsla_df,anomaly_only_df,start_date,end_date)\n",
    "    # store the results\n",
    "    returns_3pct_wide = np.hstack((returns_3pct_wide,best_return))\n",
    "    accuracies_3pct_wide = np.hstack((accuracies_3pct_wide,best_accuracy))"
   ]
  },
  {
   "cell_type": "code",
   "execution_count": 28,
   "metadata": {},
   "outputs": [
    {
     "data": {
      "text/plain": [
       "<matplotlib.axes._subplots.AxesSubplot at 0x149326520>"
      ]
     },
     "execution_count": 28,
     "metadata": {},
     "output_type": "execute_result"
    },
    {
     "data": {
      "image/png": "[encoded data removed]",
      "text/plain": [
       "<Figure size 432x288 with 1 Axes>"
      ]
     },
     "metadata": {
      "needs_background": "light"
     },
     "output_type": "display_data"
    }
   ],
   "source": [
    "# let's have a look at the accuracy distributions\n",
    "sns.distplot(accuracies_3pct_wide,bins=10)"
   ]
  },
  {
   "cell_type": "code",
   "execution_count": 32,
   "metadata": {
    "scrolled": true
   },
   "outputs": [
    {
     "name": "stdout",
     "output_type": "stream",
     "text": [
      "[[ 1]\n",
      " [ 2]\n",
      " [ 4]\n",
      " [ 5]\n",
      " [ 6]\n",
      " [12]\n",
      " [15]]\n"
     ]
    },
    {
     "data": {
      "text/plain": [
       "array([[0.65365854],\n",
       "       [0.65346535],\n",
       "       [0.67955801],\n",
       "       [0.65625   ],\n",
       "       [0.6686747 ],\n",
       "       [0.65463918],\n",
       "       [0.67355372]])"
      ]
     },
     "execution_count": 32,
     "metadata": {},
     "output_type": "execute_result"
    }
   ],
   "source": [
    "print(np.argwhere(accuracies_3pct_wide >= .65))\n",
    "accuracies_3pct_wide[np.argwhere(accuracies_3pct_wide >= .65)]"
   ]
  },
  {
   "cell_type": "markdown",
   "metadata": {},
   "source": [
    "## As expected, the overall performance dropped slightly when including the longer time frame.  Let's try dropping the threshold to .5%"
   ]
  },
  {
   "cell_type": "code",
   "execution_count": 34,
   "metadata": {},
   "outputs": [
    {
     "name": "stdout",
     "output_type": "stream",
     "text": [
      "1 fitting Variational Auto Econder (VAE)\n"
     ]
    },
    {
     "name": "stderr",
     "output_type": "stream",
     "text": [
      "/Users/JJ/opt/anaconda3/envs/insight/lib/python3.8/site-packages/keras/engine/training_utils.py:816: UserWarning: Output model_8 missing from loss dictionary. We assume this was done on purpose. The fit and evaluate APIs will not be expecting any data to be passed to model_8.\n",
      "  warnings.warn(\n"
     ]
    },
    {
     "name": "stdout",
     "output_type": "stream",
     "text": [
      "2 fitting Fully Connected Auto Econder (AutoEncoder)\n",
      "3 fitting Angle-based Outlier Detector (ABOD)\n",
      "4 fitting Subspace Outlier Detector (SOD)\n",
      "5 fitting Connectivity-Based Outlier Factor (COF)\n",
      "6 fitting Cluster-based Local Outlier Factor (CBLOF)\n",
      "7 fitting Deviation-based Outlier Detection (LMDD)\n",
      "8 fitting Stochastic Outlier Selection (SOS)\n",
      "9 fitting Feature Bagging\n",
      "10 fitting Histogram-base Outlier Detection (HBOS)\n",
      "11 fitting Isolation Forest\n",
      "12 fitting K Nearest Neighbors (KNN)\n",
      "13 fitting Average KNN\n",
      "14 fitting Local Outlier Factor (LOF)\n",
      "15 fitting Minimum Covariance Determinant (MCD)\n"
     ]
    },
    {
     "name": "stderr",
     "output_type": "stream",
     "text": [
      "/Users/JJ/opt/anaconda3/envs/insight/lib/python3.8/site-packages/sklearn/covariance/_robust_covariance.py:644: UserWarning: The covariance matrix associated to your dataset is not full rank\n",
      "  warnings.warn(\"The covariance matrix associated to your dataset \"\n"
     ]
    },
    {
     "name": "stdout",
     "output_type": "stream",
     "text": [
      "16 fitting One-class SVM (OCSVM)\n",
      "17 fitting Lightweight On-line Detector of Anomalies (LODA)\n",
      "18 fitting Principal Component Analysis (PCA)\n"
     ]
    }
   ],
   "source": [
    "# Set the outliers_fraction to be .5%\n",
    "outliers_fraction = 0.005\n",
    "random_state = np.random.RandomState(42)\n",
    "# Define eighteen outlier detection tools to be compared\n",
    "classifiers = {\n",
    "    'Variational Auto Econder (VAE)': VAE(epochs=20,\n",
    "            contamination = outliers_fraction, random_state = random_state,\n",
    "            encoder_neurons = [ndim,max(int(ndim/2),1),max(int(ndim/4),1)],\n",
    "            decoder_neurons = [max(int(ndim/4),1),max(int(ndim/2),1),ndim],\n",
    "            verbosity=0),\n",
    "    'Fully Connected Auto Econder (AutoEncoder)': AutoEncoder(epochs=20,\n",
    "        contamination=outliers_fraction,random_state=random_state,\n",
    "        hidden_neurons = [ndim, max(int(ndim/2),1), max(int(ndim/4),1), \n",
    "                           max(int(ndim/4),1),max(int(ndim/2),1),ndim],\n",
    "        verbose = 0),                                                        \n",
    "    'Angle-based Outlier Detector (ABOD)':\n",
    "        ABOD(contamination=outliers_fraction),\n",
    "    'Subspace Outlier Detector (SOD)':\n",
    "        SOD(contamination=outliers_fraction),\n",
    "    'Connectivity-Based Outlier Factor (COF)':\n",
    "        COF(contamination=outliers_fraction),\n",
    "    'Cluster-based Local Outlier Factor (CBLOF)':\n",
    "        CBLOF(contamination=outliers_fraction,\n",
    "              check_estimator=False, random_state=random_state),\n",
    "    'Deviation-based Outlier Detection (LMDD)':\n",
    "        LMDD(contamination=outliers_fraction,\n",
    "            random_state=random_state),\n",
    "    'Stochastic Outlier Selection (SOS)':\n",
    "        SOS(contamination=outliers_fraction,\n",
    "           metric='correlation'),\n",
    "    'Feature Bagging':\n",
    "        FeatureBagging(LOF(n_neighbors=35),\n",
    "                       contamination=outliers_fraction,\n",
    "                       random_state=random_state),\n",
    "    'Histogram-base Outlier Detection (HBOS)': HBOS(\n",
    "        contamination=outliers_fraction),\n",
    "    'Isolation Forest': IForest(contamination=outliers_fraction,\n",
    "                                random_state=random_state),\n",
    "    'K Nearest Neighbors (KNN)': KNN(\n",
    "        contamination=outliers_fraction),\n",
    "    'Average KNN': KNN(method='mean',\n",
    "                       contamination=outliers_fraction),\n",
    "    'Local Outlier Factor (LOF)':\n",
    "        LOF(n_neighbors=35, contamination=outliers_fraction),\n",
    "    'Minimum Covariance Determinant (MCD)': MCD(\n",
    "        contamination=outliers_fraction, random_state=random_state),\n",
    "    'One-class SVM (OCSVM)': OCSVM(contamination=outliers_fraction),\n",
    "    'Lightweight On-line Detector of Anomalies (LODA)':\n",
    "        LODA(contamination=outliers_fraction),\n",
    "    'Principal Component Analysis (PCA)': PCA(\n",
    "        contamination=outliers_fraction, random_state=random_state)\n",
    "}\n",
    "\n",
    "# initialize results arrays\n",
    "y_pred = np.array([])\n",
    "scores_pred = np.array([])\n",
    "for i, (clf_name,clf) in enumerate(classifiers.items()):\n",
    "    print(i + 1, 'fitting', clf_name)\n",
    "    clf.fit(X)\n",
    "    if y_pred.shape == (0,):#if we haven't saved any data yet\n",
    "        scores_pred = (clf.decision_function(X) * -1).reshape(1,X.shape[0])\n",
    "        y_pred = (clf.predict(X)).reshape(1,X.shape[0])\n",
    "    else: # we've got data stored in scores and y\n",
    "        scores_pred = np.vstack(((clf.decision_function(X) * -1).reshape(1,X.shape[0]),scores_pred))\n",
    "        y_pred = np.vstack(((clf.predict(X)).reshape(1,X.shape[0]),y_pred))"
   ]
  },
  {
   "cell_type": "code",
   "execution_count": 35,
   "metadata": {},
   "outputs": [
    {
     "name": "stdout",
     "output_type": "stream",
     "text": [
      "1 fitting Variational Auto Econder (VAE) anomalies\n"
     ]
    },
    {
     "name": "stderr",
     "output_type": "stream",
     "text": [
      "/Users/JJ/Insight/projects/Muskometer/Insight-Data-Science-Project/notebooks/trade_utils.py:107: SettingWithCopyWarning: \n",
      "A value is trying to be set on a copy of a slice from a DataFrame.\n",
      "Try using .loc[row_indexer,col_indexer] = value instead\n",
      "\n",
      "See the caveats in the documentation: https://pandas.pydata.org/pandas-docs/stable/user_guide/indexing.html#returning-a-view-versus-a-copy\n",
      "  df['temporary'] = df.apply(lambda row : (row[time_column] - start_time).total_seconds(),axis=1)\n"
     ]
    },
    {
     "name": "stdout",
     "output_type": "stream",
     "text": [
      "2 fitting Fully Connected Auto Econder (AutoEncoder) anomalies\n",
      "3 fitting Angle-based Outlier Detector (ABOD) anomalies\n",
      "4 fitting Subspace Outlier Detector (SOD) anomalies\n",
      "5 fitting Connectivity-Based Outlier Factor (COF) anomalies\n",
      "6 fitting Cluster-based Local Outlier Factor (CBLOF) anomalies\n",
      "7 fitting Deviation-based Outlier Detection (LMDD) anomalies\n",
      "8 fitting Stochastic Outlier Selection (SOS) anomalies\n",
      "9 fitting Feature Bagging anomalies\n",
      "10 fitting Histogram-base Outlier Detection (HBOS) anomalies\n",
      "11 fitting Isolation Forest anomalies\n",
      "12 fitting K Nearest Neighbors (KNN) anomalies\n",
      "13 fitting Average KNN anomalies\n",
      "14 fitting Local Outlier Factor (LOF) anomalies\n",
      "15 fitting Minimum Covariance Determinant (MCD) anomalies\n",
      "16 fitting One-class SVM (OCSVM) anomalies\n",
      "17 fitting Lightweight On-line Detector of Anomalies (LODA) anomalies\n",
      "18 fitting Principal Component Analysis (PCA) anomalies\n"
     ]
    }
   ],
   "source": [
    "timezone = pytz.timezone('UTC')\n",
    "start_date = timezone.localize(datetime.datetime(2016,1,1))\n",
    "end_date = timezone.localize(datetime.datetime(2020,6,1))\n",
    "# for each model, store the results:\n",
    "returns_half_prct = np.array([])\n",
    "accuracies_half_prct = np.array([])\n",
    "for i, (clf_name,clf) in enumerate(classifiers.items()):\n",
    "    print(i + 1, 'fitting', clf_name, \"anomalies\")\n",
    "    # tag the tweets with this model's predictions for anomalies\n",
    "    tweet_features_df['anomalous'] = y_pred[i,:]\n",
    "    # trim down to the anomalies only\n",
    "    anomaly_only_df = tweet_features_df[tweet_features_df['anomalous']!=0.]\n",
    "    # compute the best performance\n",
    "    params,best_return,best_accuracy = tu.find_best_performance(tsla_df,anomaly_only_df,start_date,end_date)\n",
    "    # store the results\n",
    "    returns_half_prct = np.hstack((returns_half_prct,best_return))\n",
    "    accuracies_half_prct = np.hstack((accuracies_half_prct,best_accuracy))"
   ]
  },
  {
   "cell_type": "code",
   "execution_count": 36,
   "metadata": {},
   "outputs": [
    {
     "data": {
      "text/plain": [
       "<matplotlib.axes._subplots.AxesSubplot at 0x1493498e0>"
      ]
     },
     "execution_count": 36,
     "metadata": {},
     "output_type": "execute_result"
    },
    {
     "data": {
      "image/png": "[encoded data removed]",
      "text/plain": [
       "<Figure size 432x288 with 1 Axes>"
      ]
     },
     "metadata": {
      "needs_background": "light"
     },
     "output_type": "display_data"
    }
   ],
   "source": [
    "# let's have a look at the accuracy distributions\n",
    "sns.distplot(accuracies_half_prct,bins=10)"
   ]
  },
  {
   "cell_type": "code",
   "execution_count": 37,
   "metadata": {},
   "outputs": [
    {
     "name": "stdout",
     "output_type": "stream",
     "text": [
      "[[ 1]\n",
      " [11]]\n"
     ]
    },
    {
     "data": {
      "text/plain": [
       "array([[0.82142857],\n",
       "       [0.8125    ]])"
      ]
     },
     "execution_count": 37,
     "metadata": {},
     "output_type": "execute_result"
    }
   ],
   "source": [
    "print(np.argwhere(accuracies_half_prct >= .8))\n",
    "accuracies_half_prct[np.argwhere(accuracies_half_prct >= .8)]"
   ]
  },
  {
   "cell_type": "code",
   "execution_count": 38,
   "metadata": {},
   "outputs": [
    {
     "data": {
      "text/plain": [
       "array([0.71428571, 0.82142857, 0.73529412, 0.675     , 0.61904762,\n",
       "       0.75      , 0.65      , 0.64705882, 0.71428571, 0.60526316,\n",
       "       0.71428571, 0.8125    , 0.73684211, 0.6       , 0.73076923,\n",
       "       0.72727273, 0.71428571, 0.71428571])"
      ]
     },
     "execution_count": 38,
     "metadata": {},
     "output_type": "execute_result"
    }
   ],
   "source": [
    "accuracies_half_prct"
   ]
  },
  {
   "cell_type": "code",
   "execution_count": 40,
   "metadata": {},
   "outputs": [
    {
     "data": {
      "text/plain": [
       "array([49, 49, 49, 49, 47, 24, 46, 49, 49, 48, 49, 49, 49, 49, 49, 65, 49,\n",
       "       49])"
      ]
     },
     "execution_count": 40,
     "metadata": {},
     "output_type": "execute_result"
    }
   ],
   "source": [
    "np.sum(y_pred,axis=1)"
   ]
  },
  {
   "cell_type": "markdown",
   "metadata": {},
   "source": [
    "## Just to push things a bit further, we should see stochasticity in the results distribution if we take the threshold for anomaly even further down."
   ]
  },
  {
   "cell_type": "code",
   "execution_count": 41,
   "metadata": {},
   "outputs": [
    {
     "name": "stdout",
     "output_type": "stream",
     "text": [
      "1 fitting Variational Auto Econder (VAE)\n"
     ]
    },
    {
     "name": "stderr",
     "output_type": "stream",
     "text": [
      "/Users/JJ/opt/anaconda3/envs/insight/lib/python3.8/site-packages/keras/engine/training_utils.py:816: UserWarning: Output model_11 missing from loss dictionary. We assume this was done on purpose. The fit and evaluate APIs will not be expecting any data to be passed to model_11.\n",
      "  warnings.warn(\n"
     ]
    },
    {
     "name": "stdout",
     "output_type": "stream",
     "text": [
      "2 fitting Fully Connected Auto Econder (AutoEncoder)\n",
      "3 fitting Angle-based Outlier Detector (ABOD)\n",
      "4 fitting Subspace Outlier Detector (SOD)\n",
      "5 fitting Connectivity-Based Outlier Factor (COF)\n",
      "6 fitting Cluster-based Local Outlier Factor (CBLOF)\n",
      "7 fitting Deviation-based Outlier Detection (LMDD)\n",
      "8 fitting Stochastic Outlier Selection (SOS)\n",
      "9 fitting Feature Bagging\n",
      "10 fitting Histogram-base Outlier Detection (HBOS)\n",
      "11 fitting Isolation Forest\n",
      "12 fitting K Nearest Neighbors (KNN)\n",
      "13 fitting Average KNN\n",
      "14 fitting Local Outlier Factor (LOF)\n",
      "15 fitting Minimum Covariance Determinant (MCD)\n"
     ]
    },
    {
     "name": "stderr",
     "output_type": "stream",
     "text": [
      "/Users/JJ/opt/anaconda3/envs/insight/lib/python3.8/site-packages/sklearn/covariance/_robust_covariance.py:644: UserWarning: The covariance matrix associated to your dataset is not full rank\n",
      "  warnings.warn(\"The covariance matrix associated to your dataset \"\n"
     ]
    },
    {
     "name": "stdout",
     "output_type": "stream",
     "text": [
      "16 fitting One-class SVM (OCSVM)\n",
      "17 fitting Lightweight On-line Detector of Anomalies (LODA)\n",
      "18 fitting Principal Component Analysis (PCA)\n"
     ]
    }
   ],
   "source": [
    "# Set the outliers_fraction to be .1%\n",
    "outliers_fraction = 0.001\n",
    "random_state = np.random.RandomState(42)\n",
    "# Define eighteen outlier detection tools to be compared\n",
    "classifiers = {\n",
    "    'Variational Auto Econder (VAE)': VAE(epochs=20,\n",
    "            contamination = outliers_fraction, random_state = random_state,\n",
    "            encoder_neurons = [ndim,max(int(ndim/2),1),max(int(ndim/4),1)],\n",
    "            decoder_neurons = [max(int(ndim/4),1),max(int(ndim/2),1),ndim],\n",
    "            verbosity=0),\n",
    "    'Fully Connected Auto Econder (AutoEncoder)': AutoEncoder(epochs=20,\n",
    "        contamination=outliers_fraction,random_state=random_state,\n",
    "        hidden_neurons = [ndim, max(int(ndim/2),1), max(int(ndim/4),1), \n",
    "                           max(int(ndim/4),1),max(int(ndim/2),1),ndim],\n",
    "        verbose = 0),                                                        \n",
    "    'Angle-based Outlier Detector (ABOD)':\n",
    "        ABOD(contamination=outliers_fraction),\n",
    "    'Subspace Outlier Detector (SOD)':\n",
    "        SOD(contamination=outliers_fraction),\n",
    "    'Connectivity-Based Outlier Factor (COF)':\n",
    "        COF(contamination=outliers_fraction),\n",
    "    'Cluster-based Local Outlier Factor (CBLOF)':\n",
    "        CBLOF(contamination=outliers_fraction,\n",
    "              check_estimator=False, random_state=random_state),\n",
    "    'Deviation-based Outlier Detection (LMDD)':\n",
    "        LMDD(contamination=outliers_fraction,\n",
    "            random_state=random_state),\n",
    "    'Stochastic Outlier Selection (SOS)':\n",
    "        SOS(contamination=outliers_fraction,\n",
    "           metric='correlation'),\n",
    "    'Feature Bagging':\n",
    "        FeatureBagging(LOF(n_neighbors=35),\n",
    "                       contamination=outliers_fraction,\n",
    "                       random_state=random_state),\n",
    "    'Histogram-base Outlier Detection (HBOS)': HBOS(\n",
    "        contamination=outliers_fraction),\n",
    "    'Isolation Forest': IForest(contamination=outliers_fraction,\n",
    "                                random_state=random_state),\n",
    "    'K Nearest Neighbors (KNN)': KNN(\n",
    "        contamination=outliers_fraction),\n",
    "    'Average KNN': KNN(method='mean',\n",
    "                       contamination=outliers_fraction),\n",
    "    'Local Outlier Factor (LOF)':\n",
    "        LOF(n_neighbors=35, contamination=outliers_fraction),\n",
    "    'Minimum Covariance Determinant (MCD)': MCD(\n",
    "        contamination=outliers_fraction, random_state=random_state),\n",
    "    'One-class SVM (OCSVM)': OCSVM(contamination=outliers_fraction),\n",
    "    'Lightweight On-line Detector of Anomalies (LODA)':\n",
    "        LODA(contamination=outliers_fraction),\n",
    "    'Principal Component Analysis (PCA)': PCA(\n",
    "        contamination=outliers_fraction, random_state=random_state)\n",
    "}\n",
    "\n",
    "# initialize results arrays\n",
    "y_pred = np.array([])\n",
    "scores_pred = np.array([])\n",
    "for i, (clf_name,clf) in enumerate(classifiers.items()):\n",
    "    print(i + 1, 'fitting', clf_name)\n",
    "    clf.fit(X)\n",
    "    if y_pred.shape == (0,):#if we haven't saved any data yet\n",
    "        scores_pred = (clf.decision_function(X) * -1).reshape(1,X.shape[0])\n",
    "        y_pred = (clf.predict(X)).reshape(1,X.shape[0])\n",
    "    else: # we've got data stored in scores and y\n",
    "        scores_pred = np.vstack(((clf.decision_function(X) * -1).reshape(1,X.shape[0]),scores_pred))\n",
    "        y_pred = np.vstack(((clf.predict(X)).reshape(1,X.shape[0]),y_pred))"
   ]
  },
  {
   "cell_type": "code",
   "execution_count": 42,
   "metadata": {},
   "outputs": [
    {
     "name": "stdout",
     "output_type": "stream",
     "text": [
      "1 fitting Variational Auto Econder (VAE) anomalies\n"
     ]
    },
    {
     "name": "stderr",
     "output_type": "stream",
     "text": [
      "/Users/JJ/Insight/projects/Muskometer/Insight-Data-Science-Project/notebooks/trade_utils.py:107: SettingWithCopyWarning: \n",
      "A value is trying to be set on a copy of a slice from a DataFrame.\n",
      "Try using .loc[row_indexer,col_indexer] = value instead\n",
      "\n",
      "See the caveats in the documentation: https://pandas.pydata.org/pandas-docs/stable/user_guide/indexing.html#returning-a-view-versus-a-copy\n",
      "  df['temporary'] = df.apply(lambda row : (row[time_column] - start_time).total_seconds(),axis=1)\n"
     ]
    },
    {
     "name": "stdout",
     "output_type": "stream",
     "text": [
      "2 fitting Fully Connected Auto Econder (AutoEncoder) anomalies\n"
     ]
    },
    {
     "name": "stderr",
     "output_type": "stream",
     "text": [
      "/Users/JJ/Insight/projects/Muskometer/Insight-Data-Science-Project/notebooks/trade_utils.py:272: RuntimeWarning: invalid value encountered in double_scalars\n",
      "  sum(temp1[:,6])/sum(temp1[:,7])]\n"
     ]
    },
    {
     "name": "stdout",
     "output_type": "stream",
     "text": [
      "3 fitting Angle-based Outlier Detector (ABOD) anomalies\n",
      "4 fitting Subspace Outlier Detector (SOD) anomalies\n",
      "5 fitting Connectivity-Based Outlier Factor (COF) anomalies\n",
      "6 fitting Cluster-based Local Outlier Factor (CBLOF) anomalies\n",
      "7 fitting Deviation-based Outlier Detection (LMDD) anomalies\n",
      "8 fitting Stochastic Outlier Selection (SOS) anomalies\n",
      "9 fitting Feature Bagging anomalies\n",
      "10 fitting Histogram-base Outlier Detection (HBOS) anomalies\n",
      "11 fitting Isolation Forest anomalies\n",
      "12 fitting K Nearest Neighbors (KNN) anomalies\n",
      "13 fitting Average KNN anomalies\n",
      "14 fitting Local Outlier Factor (LOF) anomalies\n",
      "15 fitting Minimum Covariance Determinant (MCD) anomalies\n",
      "16 fitting One-class SVM (OCSVM) anomalies\n",
      "17 fitting Lightweight On-line Detector of Anomalies (LODA) anomalies\n",
      "18 fitting Principal Component Analysis (PCA) anomalies\n"
     ]
    }
   ],
   "source": [
    "timezone = pytz.timezone('UTC')\n",
    "start_date = timezone.localize(datetime.datetime(2016,1,1))\n",
    "end_date = timezone.localize(datetime.datetime(2020,6,1))\n",
    "# for each model, store the results:\n",
    "returns_tenth_prct = np.array([])\n",
    "accuracies_tenth_prct = np.array([])\n",
    "for i, (clf_name,clf) in enumerate(classifiers.items()):\n",
    "    print(i + 1, 'fitting', clf_name, \"anomalies\")\n",
    "    # tag the tweets with this model's predictions for anomalies\n",
    "    tweet_features_df['anomalous'] = y_pred[i,:]\n",
    "    # trim down to the anomalies only\n",
    "    anomaly_only_df = tweet_features_df[tweet_features_df['anomalous']!=0.]\n",
    "    # compute the best performance\n",
    "    params,best_return,best_accuracy = tu.find_best_performance(tsla_df,anomaly_only_df,start_date,end_date)\n",
    "    # store the results\n",
    "    returns_tenth_prct = np.hstack((returns_tenth_prct,best_return))\n",
    "    accuracies_tenth_prct = np.hstack((accuracies_tenth_prct,best_accuracy))"
   ]
  },
  {
   "cell_type": "code",
   "execution_count": 43,
   "metadata": {},
   "outputs": [
    {
     "data": {
      "text/plain": [
       "<matplotlib.axes._subplots.AxesSubplot at 0x14dffedf0>"
      ]
     },
     "execution_count": 43,
     "metadata": {},
     "output_type": "execute_result"
    },
    {
     "data": {
      "image/png": "[encoded data removed]",
      "text/plain": [
       "<Figure size 432x288 with 1 Axes>"
      ]
     },
     "metadata": {
      "needs_background": "light"
     },
     "output_type": "display_data"
    }
   ],
   "source": [
    "# let's have a look at the accuracy distributions\n",
    "sns.distplot(accuracies_tenth_prct,bins=10)"
   ]
  },
  {
   "cell_type": "code",
   "execution_count": 45,
   "metadata": {},
   "outputs": [
    {
     "name": "stdout",
     "output_type": "stream",
     "text": [
      "[[ 2]\n",
      " [ 5]\n",
      " [ 6]\n",
      " [ 7]\n",
      " [ 8]\n",
      " [12]\n",
      " [15]]\n"
     ]
    },
    {
     "name": "stderr",
     "output_type": "stream",
     "text": [
      "<ipython-input-45-533506bcea37>:1: RuntimeWarning: invalid value encountered in greater_equal\n",
      "  print(np.argwhere(accuracies_tenth_prct >= .8))\n",
      "<ipython-input-45-533506bcea37>:2: RuntimeWarning: invalid value encountered in greater_equal\n",
      "  accuracies_tenth_prct[np.argwhere(accuracies_tenth_prct >= .8)]\n"
     ]
    },
    {
     "data": {
      "text/plain": [
       "array([[0.83333333],\n",
       "       [1.        ],\n",
       "       [1.        ],\n",
       "       [1.        ],\n",
       "       [1.        ],\n",
       "       [1.        ],\n",
       "       [0.8       ]])"
      ]
     },
     "execution_count": 45,
     "metadata": {},
     "output_type": "execute_result"
    }
   ],
   "source": [
    "print(np.argwhere(accuracies_tenth_prct >= .8))\n",
    "accuracies_tenth_prct[np.argwhere(accuracies_tenth_prct >= .8)]"
   ]
  },
  {
   "cell_type": "markdown",
   "metadata": {},
   "source": [
    "## Yup, it looks like the performance wanders all over the place once the number of anomalies ~ 10."
   ]
  },
  {
   "cell_type": "markdown",
   "metadata": {},
   "source": [
    "# Time to do a serious scan of a few techniques.  VAE and CBLOF have been good performers up to now.  Let's map their performance as a function of the outliers_fraction."
   ]
  },
  {
   "cell_type": "code",
   "execution_count": 19,
   "metadata": {},
   "outputs": [
    {
     "name": "stdout",
     "output_type": "stream",
     "text": [
      "fitting level  1\n"
     ]
    },
    {
     "name": "stderr",
     "output_type": "stream",
     "text": [
      "/Users/JJ/opt/anaconda3/envs/insight/lib/python3.8/site-packages/keras/engine/training_utils.py:816: UserWarning: Output model_38 missing from loss dictionary. We assume this was done on purpose. The fit and evaluate APIs will not be expecting any data to be passed to model_38.\n",
      "  warnings.warn(\n",
      "/Users/JJ/Insight/projects/Muskometer/Insight-Data-Science-Project/notebooks/trade_utils.py:107: SettingWithCopyWarning: \n",
      "A value is trying to be set on a copy of a slice from a DataFrame.\n",
      "Try using .loc[row_indexer,col_indexer] = value instead\n",
      "\n",
      "See the caveats in the documentation: https://pandas.pydata.org/pandas-docs/stable/user_guide/indexing.html#returning-a-view-versus-a-copy\n",
      "  df['temporary'] = df.apply(lambda row : (row[time_column] - start_time).total_seconds(),axis=1)\n",
      "/Users/JJ/Insight/projects/Muskometer/Insight-Data-Science-Project/notebooks/trade_utils.py:107: SettingWithCopyWarning: \n",
      "A value is trying to be set on a copy of a slice from a DataFrame.\n",
      "Try using .loc[row_indexer,col_indexer] = value instead\n",
      "\n",
      "See the caveats in the documentation: https://pandas.pydata.org/pandas-docs/stable/user_guide/indexing.html#returning-a-view-versus-a-copy\n",
      "  df['temporary'] = df.apply(lambda row : (row[time_column] - start_time).total_seconds(),axis=1)\n"
     ]
    },
    {
     "name": "stdout",
     "output_type": "stream",
     "text": [
      "fitting level  2\n"
     ]
    },
    {
     "name": "stderr",
     "output_type": "stream",
     "text": [
      "/Users/JJ/opt/anaconda3/envs/insight/lib/python3.8/site-packages/keras/engine/training_utils.py:816: UserWarning: Output model_41 missing from loss dictionary. We assume this was done on purpose. The fit and evaluate APIs will not be expecting any data to be passed to model_41.\n",
      "  warnings.warn(\n",
      "/Users/JJ/Insight/projects/Muskometer/Insight-Data-Science-Project/notebooks/trade_utils.py:107: SettingWithCopyWarning: \n",
      "A value is trying to be set on a copy of a slice from a DataFrame.\n",
      "Try using .loc[row_indexer,col_indexer] = value instead\n",
      "\n",
      "See the caveats in the documentation: https://pandas.pydata.org/pandas-docs/stable/user_guide/indexing.html#returning-a-view-versus-a-copy\n",
      "  df['temporary'] = df.apply(lambda row : (row[time_column] - start_time).total_seconds(),axis=1)\n",
      "/Users/JJ/Insight/projects/Muskometer/Insight-Data-Science-Project/notebooks/trade_utils.py:107: SettingWithCopyWarning: \n",
      "A value is trying to be set on a copy of a slice from a DataFrame.\n",
      "Try using .loc[row_indexer,col_indexer] = value instead\n",
      "\n",
      "See the caveats in the documentation: https://pandas.pydata.org/pandas-docs/stable/user_guide/indexing.html#returning-a-view-versus-a-copy\n",
      "  df['temporary'] = df.apply(lambda row : (row[time_column] - start_time).total_seconds(),axis=1)\n"
     ]
    },
    {
     "name": "stdout",
     "output_type": "stream",
     "text": [
      "fitting level  3\n"
     ]
    },
    {
     "name": "stderr",
     "output_type": "stream",
     "text": [
      "/Users/JJ/opt/anaconda3/envs/insight/lib/python3.8/site-packages/keras/engine/training_utils.py:816: UserWarning: Output model_44 missing from loss dictionary. We assume this was done on purpose. The fit and evaluate APIs will not be expecting any data to be passed to model_44.\n",
      "  warnings.warn(\n",
      "/Users/JJ/Insight/projects/Muskometer/Insight-Data-Science-Project/notebooks/trade_utils.py:107: SettingWithCopyWarning: \n",
      "A value is trying to be set on a copy of a slice from a DataFrame.\n",
      "Try using .loc[row_indexer,col_indexer] = value instead\n",
      "\n",
      "See the caveats in the documentation: https://pandas.pydata.org/pandas-docs/stable/user_guide/indexing.html#returning-a-view-versus-a-copy\n",
      "  df['temporary'] = df.apply(lambda row : (row[time_column] - start_time).total_seconds(),axis=1)\n",
      "/Users/JJ/Insight/projects/Muskometer/Insight-Data-Science-Project/notebooks/trade_utils.py:107: SettingWithCopyWarning: \n",
      "A value is trying to be set on a copy of a slice from a DataFrame.\n",
      "Try using .loc[row_indexer,col_indexer] = value instead\n",
      "\n",
      "See the caveats in the documentation: https://pandas.pydata.org/pandas-docs/stable/user_guide/indexing.html#returning-a-view-versus-a-copy\n",
      "  df['temporary'] = df.apply(lambda row : (row[time_column] - start_time).total_seconds(),axis=1)\n"
     ]
    },
    {
     "name": "stdout",
     "output_type": "stream",
     "text": [
      "fitting level  4\n"
     ]
    },
    {
     "name": "stderr",
     "output_type": "stream",
     "text": [
      "/Users/JJ/opt/anaconda3/envs/insight/lib/python3.8/site-packages/keras/engine/training_utils.py:816: UserWarning: Output model_47 missing from loss dictionary. We assume this was done on purpose. The fit and evaluate APIs will not be expecting any data to be passed to model_47.\n",
      "  warnings.warn(\n",
      "/Users/JJ/Insight/projects/Muskometer/Insight-Data-Science-Project/notebooks/trade_utils.py:107: SettingWithCopyWarning: \n",
      "A value is trying to be set on a copy of a slice from a DataFrame.\n",
      "Try using .loc[row_indexer,col_indexer] = value instead\n",
      "\n",
      "See the caveats in the documentation: https://pandas.pydata.org/pandas-docs/stable/user_guide/indexing.html#returning-a-view-versus-a-copy\n",
      "  df['temporary'] = df.apply(lambda row : (row[time_column] - start_time).total_seconds(),axis=1)\n",
      "/Users/JJ/Insight/projects/Muskometer/Insight-Data-Science-Project/notebooks/trade_utils.py:107: SettingWithCopyWarning: \n",
      "A value is trying to be set on a copy of a slice from a DataFrame.\n",
      "Try using .loc[row_indexer,col_indexer] = value instead\n",
      "\n",
      "See the caveats in the documentation: https://pandas.pydata.org/pandas-docs/stable/user_guide/indexing.html#returning-a-view-versus-a-copy\n",
      "  df['temporary'] = df.apply(lambda row : (row[time_column] - start_time).total_seconds(),axis=1)\n"
     ]
    },
    {
     "name": "stdout",
     "output_type": "stream",
     "text": [
      "fitting level  5\n"
     ]
    },
    {
     "name": "stderr",
     "output_type": "stream",
     "text": [
      "/Users/JJ/opt/anaconda3/envs/insight/lib/python3.8/site-packages/keras/engine/training_utils.py:816: UserWarning: Output model_50 missing from loss dictionary. We assume this was done on purpose. The fit and evaluate APIs will not be expecting any data to be passed to model_50.\n",
      "  warnings.warn(\n",
      "/Users/JJ/Insight/projects/Muskometer/Insight-Data-Science-Project/notebooks/trade_utils.py:107: SettingWithCopyWarning: \n",
      "A value is trying to be set on a copy of a slice from a DataFrame.\n",
      "Try using .loc[row_indexer,col_indexer] = value instead\n",
      "\n",
      "See the caveats in the documentation: https://pandas.pydata.org/pandas-docs/stable/user_guide/indexing.html#returning-a-view-versus-a-copy\n",
      "  df['temporary'] = df.apply(lambda row : (row[time_column] - start_time).total_seconds(),axis=1)\n",
      "/Users/JJ/Insight/projects/Muskometer/Insight-Data-Science-Project/notebooks/trade_utils.py:107: SettingWithCopyWarning: \n",
      "A value is trying to be set on a copy of a slice from a DataFrame.\n",
      "Try using .loc[row_indexer,col_indexer] = value instead\n",
      "\n",
      "See the caveats in the documentation: https://pandas.pydata.org/pandas-docs/stable/user_guide/indexing.html#returning-a-view-versus-a-copy\n",
      "  df['temporary'] = df.apply(lambda row : (row[time_column] - start_time).total_seconds(),axis=1)\n"
     ]
    },
    {
     "name": "stdout",
     "output_type": "stream",
     "text": [
      "fitting level  6\n"
     ]
    },
    {
     "name": "stderr",
     "output_type": "stream",
     "text": [
      "/Users/JJ/opt/anaconda3/envs/insight/lib/python3.8/site-packages/keras/engine/training_utils.py:816: UserWarning: Output model_53 missing from loss dictionary. We assume this was done on purpose. The fit and evaluate APIs will not be expecting any data to be passed to model_53.\n",
      "  warnings.warn(\n",
      "/Users/JJ/Insight/projects/Muskometer/Insight-Data-Science-Project/notebooks/trade_utils.py:107: SettingWithCopyWarning: \n",
      "A value is trying to be set on a copy of a slice from a DataFrame.\n",
      "Try using .loc[row_indexer,col_indexer] = value instead\n",
      "\n",
      "See the caveats in the documentation: https://pandas.pydata.org/pandas-docs/stable/user_guide/indexing.html#returning-a-view-versus-a-copy\n",
      "  df['temporary'] = df.apply(lambda row : (row[time_column] - start_time).total_seconds(),axis=1)\n",
      "/Users/JJ/Insight/projects/Muskometer/Insight-Data-Science-Project/notebooks/trade_utils.py:107: SettingWithCopyWarning: \n",
      "A value is trying to be set on a copy of a slice from a DataFrame.\n",
      "Try using .loc[row_indexer,col_indexer] = value instead\n",
      "\n",
      "See the caveats in the documentation: https://pandas.pydata.org/pandas-docs/stable/user_guide/indexing.html#returning-a-view-versus-a-copy\n",
      "  df['temporary'] = df.apply(lambda row : (row[time_column] - start_time).total_seconds(),axis=1)\n"
     ]
    },
    {
     "name": "stdout",
     "output_type": "stream",
     "text": [
      "fitting level  7\n"
     ]
    },
    {
     "name": "stderr",
     "output_type": "stream",
     "text": [
      "/Users/JJ/opt/anaconda3/envs/insight/lib/python3.8/site-packages/keras/engine/training_utils.py:816: UserWarning: Output model_56 missing from loss dictionary. We assume this was done on purpose. The fit and evaluate APIs will not be expecting any data to be passed to model_56.\n",
      "  warnings.warn(\n",
      "/Users/JJ/Insight/projects/Muskometer/Insight-Data-Science-Project/notebooks/trade_utils.py:107: SettingWithCopyWarning: \n",
      "A value is trying to be set on a copy of a slice from a DataFrame.\n",
      "Try using .loc[row_indexer,col_indexer] = value instead\n",
      "\n",
      "See the caveats in the documentation: https://pandas.pydata.org/pandas-docs/stable/user_guide/indexing.html#returning-a-view-versus-a-copy\n",
      "  df['temporary'] = df.apply(lambda row : (row[time_column] - start_time).total_seconds(),axis=1)\n",
      "/Users/JJ/Insight/projects/Muskometer/Insight-Data-Science-Project/notebooks/trade_utils.py:107: SettingWithCopyWarning: \n",
      "A value is trying to be set on a copy of a slice from a DataFrame.\n",
      "Try using .loc[row_indexer,col_indexer] = value instead\n",
      "\n",
      "See the caveats in the documentation: https://pandas.pydata.org/pandas-docs/stable/user_guide/indexing.html#returning-a-view-versus-a-copy\n",
      "  df['temporary'] = df.apply(lambda row : (row[time_column] - start_time).total_seconds(),axis=1)\n"
     ]
    },
    {
     "name": "stdout",
     "output_type": "stream",
     "text": [
      "fitting level  8\n"
     ]
    },
    {
     "name": "stderr",
     "output_type": "stream",
     "text": [
      "/Users/JJ/opt/anaconda3/envs/insight/lib/python3.8/site-packages/keras/engine/training_utils.py:816: UserWarning: Output model_59 missing from loss dictionary. We assume this was done on purpose. The fit and evaluate APIs will not be expecting any data to be passed to model_59.\n",
      "  warnings.warn(\n",
      "/Users/JJ/Insight/projects/Muskometer/Insight-Data-Science-Project/notebooks/trade_utils.py:107: SettingWithCopyWarning: \n",
      "A value is trying to be set on a copy of a slice from a DataFrame.\n",
      "Try using .loc[row_indexer,col_indexer] = value instead\n",
      "\n",
      "See the caveats in the documentation: https://pandas.pydata.org/pandas-docs/stable/user_guide/indexing.html#returning-a-view-versus-a-copy\n",
      "  df['temporary'] = df.apply(lambda row : (row[time_column] - start_time).total_seconds(),axis=1)\n",
      "/Users/JJ/Insight/projects/Muskometer/Insight-Data-Science-Project/notebooks/trade_utils.py:107: SettingWithCopyWarning: \n",
      "A value is trying to be set on a copy of a slice from a DataFrame.\n",
      "Try using .loc[row_indexer,col_indexer] = value instead\n",
      "\n",
      "See the caveats in the documentation: https://pandas.pydata.org/pandas-docs/stable/user_guide/indexing.html#returning-a-view-versus-a-copy\n",
      "  df['temporary'] = df.apply(lambda row : (row[time_column] - start_time).total_seconds(),axis=1)\n"
     ]
    },
    {
     "name": "stdout",
     "output_type": "stream",
     "text": [
      "fitting level  9\n"
     ]
    },
    {
     "name": "stderr",
     "output_type": "stream",
     "text": [
      "/Users/JJ/opt/anaconda3/envs/insight/lib/python3.8/site-packages/keras/engine/training_utils.py:816: UserWarning: Output model_62 missing from loss dictionary. We assume this was done on purpose. The fit and evaluate APIs will not be expecting any data to be passed to model_62.\n",
      "  warnings.warn(\n",
      "/Users/JJ/Insight/projects/Muskometer/Insight-Data-Science-Project/notebooks/trade_utils.py:107: SettingWithCopyWarning: \n",
      "A value is trying to be set on a copy of a slice from a DataFrame.\n",
      "Try using .loc[row_indexer,col_indexer] = value instead\n",
      "\n",
      "See the caveats in the documentation: https://pandas.pydata.org/pandas-docs/stable/user_guide/indexing.html#returning-a-view-versus-a-copy\n",
      "  df['temporary'] = df.apply(lambda row : (row[time_column] - start_time).total_seconds(),axis=1)\n",
      "/Users/JJ/Insight/projects/Muskometer/Insight-Data-Science-Project/notebooks/trade_utils.py:107: SettingWithCopyWarning: \n",
      "A value is trying to be set on a copy of a slice from a DataFrame.\n",
      "Try using .loc[row_indexer,col_indexer] = value instead\n",
      "\n",
      "See the caveats in the documentation: https://pandas.pydata.org/pandas-docs/stable/user_guide/indexing.html#returning-a-view-versus-a-copy\n",
      "  df['temporary'] = df.apply(lambda row : (row[time_column] - start_time).total_seconds(),axis=1)\n"
     ]
    },
    {
     "name": "stdout",
     "output_type": "stream",
     "text": [
      "fitting level  10\n"
     ]
    },
    {
     "name": "stderr",
     "output_type": "stream",
     "text": [
      "/Users/JJ/opt/anaconda3/envs/insight/lib/python3.8/site-packages/keras/engine/training_utils.py:816: UserWarning: Output model_65 missing from loss dictionary. We assume this was done on purpose. The fit and evaluate APIs will not be expecting any data to be passed to model_65.\n",
      "  warnings.warn(\n",
      "/Users/JJ/Insight/projects/Muskometer/Insight-Data-Science-Project/notebooks/trade_utils.py:107: SettingWithCopyWarning: \n",
      "A value is trying to be set on a copy of a slice from a DataFrame.\n",
      "Try using .loc[row_indexer,col_indexer] = value instead\n",
      "\n",
      "See the caveats in the documentation: https://pandas.pydata.org/pandas-docs/stable/user_guide/indexing.html#returning-a-view-versus-a-copy\n",
      "  df['temporary'] = df.apply(lambda row : (row[time_column] - start_time).total_seconds(),axis=1)\n",
      "/Users/JJ/Insight/projects/Muskometer/Insight-Data-Science-Project/notebooks/trade_utils.py:107: SettingWithCopyWarning: \n",
      "A value is trying to be set on a copy of a slice from a DataFrame.\n",
      "Try using .loc[row_indexer,col_indexer] = value instead\n",
      "\n",
      "See the caveats in the documentation: https://pandas.pydata.org/pandas-docs/stable/user_guide/indexing.html#returning-a-view-versus-a-copy\n",
      "  df['temporary'] = df.apply(lambda row : (row[time_column] - start_time).total_seconds(),axis=1)\n"
     ]
    }
   ],
   "source": [
    "import trade_utils as tu\n",
    "import pytz\n",
    "import datetime\n",
    "outliers_frac_list = 10.**np.linspace(-2.5,-1.,10)\n",
    "timezone = pytz.timezone('UTC')\n",
    "start_date = timezone.localize(datetime.datetime(2016,1,1))\n",
    "end_date = timezone.localize(datetime.datetime(2020,2,1))\n",
    "VAE_accuracy = np.array([])\n",
    "VAE_total_anom = np.array([])\n",
    "CBLOF_accuracy = np.array([])\n",
    "CBLOF_total_anom = np.array([])\n",
    "i = 0\n",
    "for outlier in outliers_frac_list:\n",
    "    print (\"fitting level \",i+1)\n",
    "    i+=1\n",
    "    #fit the VAE\n",
    "    clf1 = VAE(epochs=20,\n",
    "            contamination = outlier, random_state = random_state,\n",
    "            encoder_neurons = [ndim,max(int(ndim/2),1),max(int(ndim/4),1)],\n",
    "            decoder_neurons = [max(int(ndim/4),1),max(int(ndim/2),1),ndim],\n",
    "            verbosity=0)\n",
    "    clf1.fit(X)\n",
    "    # the predictions\n",
    "    y_pred = clf1.predict(X)\n",
    "    # tag the tweets with this model's predictions for anomalies\n",
    "    tweet_features_df['anomalous'] = y_pred[:]\n",
    "    # trim down to the anomalies only\n",
    "    anomaly_only_df = tweet_features_df[tweet_features_df['anomalous']!=0.]\n",
    "    # compute the best performance\n",
    "    params,best_return,best_accuracy,best_total = tu.find_best_performance(tsla_df,anomaly_only_df,start_date,end_date)\n",
    "    VAE_accuracy = np.hstack((VAE_accuracy,best_accuracy))\n",
    "    VAE_total_anom = np.hstack((VAE_total_anom,best_total))\n",
    "    \n",
    "    #fit the CBLOF\n",
    "    clf2 = CBLOF(contamination=outlier,\n",
    "              check_estimator=False, random_state=random_state)\n",
    "    clf2.fit(X)\n",
    "    # the predictions\n",
    "    y_pred = clf2.predict(X)\n",
    "    # tag the tweets with this model's predictions for anomalies\n",
    "    tweet_features_df['anomalous'] = y_pred[:]\n",
    "    # trim down to the anomalies only\n",
    "    anomaly_only_df = tweet_features_df[tweet_features_df['anomalous']!=0.]\n",
    "    # compute the best performance\n",
    "    params,best_return,best_accuracy,best_total = tu.find_best_performance(tsla_df,anomaly_only_df,start_date,end_date)\n",
    "    CBLOF_accuracy = np.hstack((CBLOF_accuracy,best_accuracy))\n",
    "    CBLOF_total_anom = np.hstack((CBLOF_total_anom,best_total))\n",
    "    "
   ]
  },
  {
   "cell_type": "code",
   "execution_count": 21,
   "metadata": {},
   "outputs": [
    {
     "name": "stdout",
     "output_type": "stream",
     "text": [
      "[0.71428571 0.8        0.875      0.72340426 0.69736842 0.6875\n",
      " 0.6015625  0.6547619  0.68281938 0.70134228]\n",
      "[  7.  10.  24.  47.  76.  96. 128. 168. 227. 298.]\n",
      "[0.85714286 0.75       0.69565217 0.65116279 0.68292683 0.63934426\n",
      " 0.63636364 0.67479675 0.66860465 0.67391304]\n",
      "[  7.  12.  23.  43.  41.  61. 143. 123. 172. 230.]\n"
     ]
    }
   ],
   "source": [
    "print(VAE_accuracy)\n",
    "print(VAE_total_anom)\n",
    "print(CBLOF_accuracy)\n",
    "print(CBLOF_total_anom)\n"
   ]
  },
  {
   "cell_type": "markdown",
   "metadata": {},
   "source": [
    "## Now to calculate the average accuracies of randomly guessing which tweets are important so we can construct a t-test statistic for the accuracies of our chosen models."
   ]
  },
  {
   "cell_type": "code",
   "execution_count": 35,
   "metadata": {},
   "outputs": [],
   "source": [
    "def choose_random_tweets_optimize(tsla_df,anomalies_df,start_date,end_date,\n",
    "                                    nsamples):\n",
    "    #from previous results: \n",
    "    pos_lims = np.linspace(0.,1.,6)\n",
    "    neg_lims = np.linspace(0.,1.,6)\n",
    "    buy_delays = 86400.#np.linspace(1,10,10)*86400. # delay time in seconds\n",
    "    sell_delays = 86400.#np.linspace(1,10,10)*86400. # delay time in seconds\n",
    "    pos_rules = ['buy','sell']\n",
    "    neu_rules = ['buy','sell']\n",
    "    neg_rules = ['buy','sell']\n",
    "    #create initial array to old the output of each run\n",
    "    final_results = np.array([])\n",
    "    for i in range(100):#do one thousand samples\n",
    "        #make fake list of anomalies from real tweets\n",
    "        #using the real sentiment values from each\n",
    "        anomaly_only_df = anomalies_df[(anomalies_df['stock_time'] >= start_date) & \\\n",
    "                                        (anomalies_df['stock_time'] <= end_date)]\\\n",
    "                          .sample(nsamples).sort_values(by=['stock_time'])\n",
    "        #convert dataframes to numpy input\n",
    "        tsla_np,anomaly_only_np,dummy1,dummy2,start_time,end_time = \\\n",
    "                tu.convert_dataframes_to_numpy(start_date,end_date,tsla_df,anomaly_only_df,\n",
    "                                            datetime.timedelta(days=1),datetime.timedelta(days=1))\n",
    "        algo_opt = grid_search_training_algo(tsla_df,anomaly_only_df,start_date,end_date)\n",
    "        #indices of the tuning parameters that produce the best ROI performance\n",
    "        op_i = np.argwhere(np.amax(algo_opt[:,:,:,:,:,0]) == algo_opt[:,:,:,:,:,0])[0]\n",
    "        #uncomment these lines for true random buy/sell orders\n",
    "        run1,temp1 = tu.asset_strategy_calculation_numpy\\\n",
    "                                            (pos_lims[op_i[0]],neg_lims[op_i[1]],5000.,5000.,\\\n",
    "                                            buy_delays,sell_delays,anomaly_only_np,\\\n",
    "                                            tsla_np,start_time,end_time,pos_rules[op_i[2]],\\\n",
    "                                            neu_rules[op_i[3]],neg_rules[op_i[4]],rand_flag = False)\n",
    "        if final_results.shape == (0,):#if this is the first run through\n",
    "            final_results = run1.reshape(1,run1.shape[0],run1.shape[1])\n",
    "        else:#stack the results into a single numpy array\n",
    "            final_results = np.vstack((run1.reshape(1,run1.shape[0],run1.shape[1]),final_results))\n",
    "    return final_results\n",
    "\n",
    "def grid_search_training_algo(tsla_df,anomaly_only_df,start_date,end_date):\n",
    "    #parameters\n",
    "    #timezone = pytz.timezone('UTC')\n",
    "    #start_date = timezone.localize(datetime.datetime(2015,1,1))\n",
    "    #end_date = timezone.localize(datetime.datetime(2015,1,1))\n",
    "    pos_lims = np.linspace(0.,1.,6)\n",
    "    neg_lims = np.linspace(0.,1.,6)\n",
    "    buy_delays = 86400.#np.linspace(1,10,10)*86400. # delay time in seconds\n",
    "    sell_delays = 86400.#np.linspace(1,10,10)*86400. # delay time in seconds\n",
    "    pos_rules = ['buy','sell']\n",
    "    neu_rules = ['buy','sell']\n",
    "    neg_rules = ['buy','sell']\n",
    "    #convert dataframes to numpy input\n",
    "    tsla_np,anomaly_only_np,sell_delay,buy_delay,start_time,end_time = \\\n",
    "            tu.convert_dataframes_to_numpy(start_date,end_date,tsla_df,\\\n",
    "                                        anomaly_only_df,\\\n",
    "                                        datetime.timedelta(days=1),\\\n",
    "                                        datetime.timedelta(days=1))\n",
    "    #array for output\n",
    "    #use fractional performance as the test metric\n",
    "    output = np.zeros([len(pos_lims),len(neg_lims),2,2,2,2],np.double)\n",
    "    for i in range(len(pos_lims)):\n",
    "        for j in range(len(neg_lims)):\n",
    "    #for k in range(len(buy_delays)):\n",
    "        #for l in range(len(sell_delays)):\n",
    "            for m in range(2):\n",
    "                for n in range(2):\n",
    "                    for o in range(2):\n",
    "                        #print (i,j,k,l,m,n,o)\n",
    "                        #print (pl,nl,buy_d,sell_d,posr,neur,negr,start_time)\n",
    "                        temp1,temp2 = tu.asset_strategy_calculation_numpy\\\n",
    "                                    (pos_lims[i],neg_lims[j],5000.,5000.,\\\n",
    "                                    buy_delays,sell_delays,anomaly_only_np,\\\n",
    "                                    tsla_np,start_time,end_time,pos_rules[m],\\\n",
    "                                    neu_rules[n],neg_rules[o])\n",
    "                        # this is the total value in index 1 and trade \n",
    "                        # success rate in index 2\n",
    "                        output[i,j,m,n,o,:] = [temp1[-1,4],\\\n",
    "                                              sum(temp1[:,6])/sum(temp1[:,7])] \n",
    "                                \n",
    "    return output"
   ]
  },
  {
   "cell_type": "code",
   "execution_count": 36,
   "metadata": {},
   "outputs": [
    {
     "name": "stdout",
     "output_type": "stream",
     "text": [
      "generating frame  0\n",
      "VAE complete, starting CBLOF ...\n",
      "generating frame  1\n",
      "VAE complete, starting CBLOF ...\n",
      "generating frame  2\n",
      "VAE complete, starting CBLOF ...\n",
      "generating frame  3\n",
      "VAE complete, starting CBLOF ...\n",
      "generating frame  4\n",
      "VAE complete, starting CBLOF ...\n",
      "generating frame  5\n",
      "VAE complete, starting CBLOF ...\n",
      "generating frame  6\n",
      "VAE complete, starting CBLOF ...\n",
      "generating frame  7\n",
      "VAE complete, starting CBLOF ...\n",
      "generating frame  8\n",
      "VAE complete, starting CBLOF ...\n",
      "generating frame  9\n",
      "VAE complete, starting CBLOF ...\n"
     ]
    }
   ],
   "source": [
    "import trade_utils as tu\n",
    "import pytz\n",
    "import datetime\n",
    "outliers_frac_list = 10.**np.linspace(-2.5,-1.,10)\n",
    "timezone = pytz.timezone('UTC')\n",
    "start_date = timezone.localize(datetime.datetime(2016,1,1))\n",
    "end_date = timezone.localize(datetime.datetime(2020,2,1))\n",
    "VAE_mock_accuracy = np.array([])\n",
    "CBLOF_mock_accuracy = np.array([])\n",
    "\n",
    "for i in range(len(VAE_total_anom)):\n",
    "    print (\"generating frame \",i)\n",
    "    # because the number of anomalies in the chosen time frame are different between the two models under\n",
    "    # consideration, we must do a unique random realization for both\n",
    "    # VAE realization\n",
    "    result1 = choose_random_tweets_optimize(tsla_df,tweet_features_df,start_date,end_date,\n",
    "                                    int(VAE_total_anom[i]))\n",
    "    # mean(successes over total trades)\n",
    "    mock_accuracy1 = (np.sum(result1[:,:,6],axis=1)/np.sum(result1[:,:,7],axis=1)).mean() \n",
    "    VAE_mock_accuracy = np.hstack((VAE_mock_accuracy,mock_accuracy1))\n",
    "    print (\"VAE complete, starting CBLOF ...\")\n",
    "    # CBLOF realization\n",
    "    result2 = choose_random_tweets_optimize(tsla_df,tweet_features_df,start_date,end_date,\n",
    "                                    int(CBLOF_total_anom[i]))\n",
    "    # mean(successes over total trades)\n",
    "    mock_accuracy2 = (np.sum(result2[:,:,6],axis=1)/np.sum(result2[:,:,7],axis=1)).mean() \n",
    "    CBLOF_mock_accuracy = np.hstack((CBLOF_mock_accuracy,mock_accuracy2))\n",
    "    "
   ]
  },
  {
   "cell_type": "code",
   "execution_count": 37,
   "metadata": {},
   "outputs": [],
   "source": [
    "np.save('../VAE_accuracy.npy',VAE_accuracy)\n",
    "np.save('../VAE_total_anom.npy',VAE_total_anom)\n",
    "np.save('../CBLOF_accuracy.npy',CBLOF_accuracy)\n",
    "np.save('../CBLOF_total_anom.npy',CBLOF_total_anom)\n",
    "np.save('../VAE_mock_accuracy.npy',VAE_mock_accuracy)\n",
    "np.save('../CBLOF_mock_accuracy.npy',CBLOF_mock_accuracy)\n"
   ]
  },
  {
   "cell_type": "code",
   "execution_count": 38,
   "metadata": {},
   "outputs": [
    {
     "name": "stdout",
     "output_type": "stream",
     "text": [
      "[0.71428571 0.8        0.875      0.72340426 0.69736842 0.6875\n",
      " 0.6015625  0.6547619  0.68281938 0.70134228]\n",
      "[0.80285714 0.71991667 0.65910917 0.63327449 0.61449186 0.59792785\n",
      " 0.61381941 0.6109693  0.61289353 0.61232724]\n"
     ]
    }
   ],
   "source": [
    "print(VAE_accuracy)\n",
    "print(VAE_mock_accuracy)"
   ]
  },
  {
   "cell_type": "code",
   "execution_count": null,
   "metadata": {},
   "outputs": [],
   "source": []
  }
 ],
 "metadata": {
  "kernelspec": {
   "display_name": "Python 3",
   "language": "python",
   "name": "python3"
  },
  "language_info": {
   "codemirror_mode": {
    "name": "ipython",
    "version": 3
   },
   "file_extension": ".py",
   "mimetype": "text/x-python",
   "name": "python",
   "nbconvert_exporter": "python",
   "pygments_lexer": "ipython3",
   "version": "3.8.1"
  }
 },
 "nbformat": 4,
 "nbformat_minor": 4
}

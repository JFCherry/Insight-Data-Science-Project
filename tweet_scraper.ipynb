{
 "cells": [
  {
   "cell_type": "markdown",
   "metadata": {},
   "source": [
    "This is a tweet scaping script based *Heavily* on the example script found here: https://gist.github.com/bjmarsh/315a632aa1ab0e8436e631f8a1acf40b orignially created by Bennett Marsh."
   ]
  },
  {
   "cell_type": "code",
   "execution_count": 1,
   "metadata": {},
   "outputs": [],
   "source": [
    "from collections import defaultdict\n",
    "import os, sys\n",
    "import time\n",
    "import pandas as pd\n",
    "import GetOldTweets3 as got\n"
   ]
  },
  {
   "cell_type": "code",
   "execution_count": 3,
   "metadata": {},
   "outputs": [],
   "source": [
    "os.makedirs('tweet_data', exist_ok=True)\n",
    "users = [\"elonmusk\"]\n",
    "username = users[0]"
   ]
  },
  {
   "cell_type": "code",
   "execution_count": 18,
   "metadata": {},
   "outputs": [],
   "source": [
    "count = 10\n",
    "# Creation of query object                                                                                                                                                                                      \n",
    "tweetCriteria = got.manager.TweetCriteria().setUsername(username)\\\n",
    "                                               .setMaxTweets(count)\\\n",
    "                                               .setSince(\"2020-05-30\")\\\n",
    "                                               .setUntil(\"2020-05-31\")\n",
    "tweets = None\n",
    "for ntries in range(2):        \n",
    "    try:\n",
    "        tweets = got.manager.TweetManager.getTweets(tweetCriteria)\n",
    "    except SystemExit:\n",
    "        print(\"Trying again in 15 minutes.\")\n",
    "        time.sleep(15*60)\n",
    "    else:\n",
    "        break\n",
    "if tweets is None:\n",
    "    print(\"Failed after 2 tries, quitting!\")\n",
    "    exit(1)"
   ]
  },
  {
   "cell_type": "code",
   "execution_count": 19,
   "metadata": {},
   "outputs": [
    {
     "data": {
      "text/plain": [
       "4"
      ]
     },
     "execution_count": 19,
     "metadata": {},
     "output_type": "execute_result"
    }
   ],
   "source": [
    "len(tweets)"
   ]
  },
  {
   "cell_type": "code",
   "execution_count": 9,
   "metadata": {},
   "outputs": [
    {
     "data": {
      "text/plain": [
       "<GetOldTweets3.models.Tweet.Tweet at 0x115037fa0>"
      ]
     },
     "execution_count": 9,
     "metadata": {},
     "output_type": "execute_result"
    }
   ],
   "source": [
    "tweets[0]"
   ]
  },
  {
   "cell_type": "markdown",
   "metadata": {},
   "source": [
    "Got it, the getTweets() function returns a tweet object.  No docstring on the got tweet object though."
   ]
  },
  {
   "cell_type": "code",
   "execution_count": 12,
   "metadata": {},
   "outputs": [
    {
     "data": {
      "text/plain": [
       "'NASASpaceflight'"
      ]
     },
     "execution_count": 12,
     "metadata": {},
     "output_type": "execute_result"
    }
   ],
   "source": [
    "tweets[0].id\n",
    "tweets[0].to"
   ]
  },
  {
   "cell_type": "markdown",
   "metadata": {},
   "source": [
    "Bennet's original script does just fine in gathering up all of Elon's tweets.  I'd like to have a record of the semantic content of the tweet/reply conversations that Elon has with his followers and twitters API does not make this properly available.  I'm going to have to fudge it, but I think that this algorithm will do a decent job of getting at least some of the conversations Elon has."
   ]
  },
  {
   "cell_type": "code",
   "execution_count": 20,
   "metadata": {},
   "outputs": [],
   "source": [
    "def get_other_user_reply(username,t_init,t_final): \n",
    "    #searches a secondary user's tweets within a range of time and \n",
    "    #returns tweets that either reply to or @elonmusk\n",
    "    print(username)\n",
    "    count = 0\n",
    "    # Creation of query object                                                                                                                                                                                      \n",
    "    tweetCriteria = got.manager.TweetCriteria().setUsername(username)\\\n",
    "                                               .setMaxTweets(count)\\\n",
    "                                               .setSince(t_init)\\\n",
    "                                               .setUntil(t_final)\n",
    "    # Creation of list that contains all tweets                                                                                                                                                                     \n",
    "    tweets = None\n",
    "    for ntries in range(5):\n",
    "        try:\n",
    "            tweets = got.manager.TweetManager.getTweets(tweetCriteria)\n",
    "        except SystemExit:\n",
    "            print(\"Trying again in 15 minutes.\")\n",
    "            time.sleep(15*60)\n",
    "        else:\n",
    "            break\n",
    "    if tweets is None:\n",
    "        print(\"Failed after 5 tries, quitting!\")\n",
    "        exit(1)\n",
    "\n",
    "    data = defaultdict(list)\n",
    "    for t in tweets:\n",
    "        if t.to == 'elonmusk' or t.mentions == '@elonmusk':\n",
    "            data[\"username\"].append(username)\n",
    "            data[\"tweet_id\"].append(t.id)\n",
    "            data[\"reply_to\"].append(t.to)\n",
    "            data[\"date\"].append(t.date)\n",
    "            data[\"retweets\"].append(t.retweets)\n",
    "            data[\"favorites\"].append(t.favorites)\n",
    "            data[\"hashtags\"].append(list(set(t.hashtags.split())))\n",
    "            data[\"mentions\"].append(t.mentions)\n",
    "            data[\"text\"].append(t.text)\n",
    "            data[\"permalink\"].append(t.permalink)\n",
    "        else:\n",
    "            pass\n",
    "    return data"
   ]
  },
  {
   "cell_type": "code",
   "execution_count": 30,
   "metadata": {},
   "outputs": [],
   "source": [
    "elon_tweets_df = pd.read_csv('./elonmusk.csv')"
   ]
  },
  {
   "cell_type": "code",
   "execution_count": 31,
   "metadata": {},
   "outputs": [
    {
     "data": {
      "text/plain": [
       "Index(['Unnamed: 0', 'username', 'tweet_id', 'reply_to', 'date', 'retweets',\n",
       "       'favorites', 'hashtags', 'mentions', 'text', 'permalink'],\n",
       "      dtype='object')"
      ]
     },
     "execution_count": 31,
     "metadata": {},
     "output_type": "execute_result"
    }
   ],
   "source": [
    "elon_tweets_df.columns"
   ]
  },
  {
   "cell_type": "code",
   "execution_count": 32,
   "metadata": {},
   "outputs": [],
   "source": [
    "# Convert 'Time' column to datetime and strip time information.\n",
    "elon_tweets_df['Time'] = pd.to_datetime(elon_tweets_df['date'])#.dt.date"
   ]
  },
  {
   "cell_type": "code",
   "execution_count": 33,
   "metadata": {},
   "outputs": [
    {
     "data": {
      "text/plain": [
       "Unnamed: 0                  int64\n",
       "username                   object\n",
       "tweet_id                    int64\n",
       "reply_to                   object\n",
       "date                       object\n",
       "retweets                    int64\n",
       "favorites                   int64\n",
       "hashtags                   object\n",
       "mentions                   object\n",
       "text                       object\n",
       "permalink                  object\n",
       "Time          datetime64[ns, UTC]\n",
       "dtype: object"
      ]
     },
     "execution_count": 33,
     "metadata": {},
     "output_type": "execute_result"
    }
   ],
   "source": [
    "elon_tweets_df.dtypes"
   ]
  },
  {
   "cell_type": "code",
   "execution_count": 35,
   "metadata": {},
   "outputs": [],
   "source": [
    "elon_tweets_df = elon_tweets_df.drop(['Unnamed: 0','date'],axis='columns')"
   ]
  },
  {
   "cell_type": "code",
   "execution_count": 36,
   "metadata": {},
   "outputs": [
    {
     "data": {
      "text/plain": [
       "RangeIndex(start=0, stop=9807, step=1)"
      ]
     },
     "execution_count": 36,
     "metadata": {},
     "output_type": "execute_result"
    }
   ],
   "source": [
    "elon_tweets_df.index"
   ]
  },
  {
   "cell_type": "code",
   "execution_count": 48,
   "metadata": {},
   "outputs": [
    {
     "data": {
      "text/html": [
       "<div>\n",
       "<style scoped>\n",
       "    .dataframe tbody tr th:only-of-type {\n",
       "        vertical-align: middle;\n",
       "    }\n",
       "\n",
       "    .dataframe tbody tr th {\n",
       "        vertical-align: top;\n",
       "    }\n",
       "\n",
       "    .dataframe thead th {\n",
       "        text-align: right;\n",
       "    }\n",
       "</style>\n",
       "<table border=\"1\" class=\"dataframe\">\n",
       "  <thead>\n",
       "    <tr style=\"text-align: right;\">\n",
       "      <th></th>\n",
       "      <th>username</th>\n",
       "      <th>tweet_id</th>\n",
       "      <th>reply_to</th>\n",
       "      <th>retweets</th>\n",
       "      <th>favorites</th>\n",
       "      <th>hashtags</th>\n",
       "      <th>mentions</th>\n",
       "      <th>text</th>\n",
       "      <th>permalink</th>\n",
       "      <th>Time</th>\n",
       "    </tr>\n",
       "  </thead>\n",
       "  <tbody>\n",
       "    <tr>\n",
       "      <th>0</th>\n",
       "      <td>elonmusk</td>\n",
       "      <td>1267180654896254976</td>\n",
       "      <td>SpaceX</td>\n",
       "      <td>22581</td>\n",
       "      <td>250519</td>\n",
       "      <td>[]</td>\n",
       "      <td>NaN</td>\n",
       "      <td>Nine years later</td>\n",
       "      <td>https://twitter.com/elonmusk/status/1267180654...</td>\n",
       "      <td>2020-05-31 19:46:25+00:00</td>\n",
       "    </tr>\n",
       "    <tr>\n",
       "      <th>1</th>\n",
       "      <td>elonmusk</td>\n",
       "      <td>1267160409498357764</td>\n",
       "      <td>NASASpaceflight</td>\n",
       "      <td>81</td>\n",
       "      <td>2494</td>\n",
       "      <td>[]</td>\n",
       "      <td>NaN</td>\n",
       "      <td>Must be due to relativistic aging</td>\n",
       "      <td>https://twitter.com/elonmusk/status/1267160409...</td>\n",
       "      <td>2020-05-31 18:25:58+00:00</td>\n",
       "    </tr>\n",
       "    <tr>\n",
       "      <th>2</th>\n",
       "      <td>elonmusk</td>\n",
       "      <td>1267157474886455296</td>\n",
       "      <td>NASASpaceflight</td>\n",
       "      <td>708</td>\n",
       "      <td>14436</td>\n",
       "      <td>[]</td>\n",
       "      <td>NaN</td>\n",
       "      <td>Brought home by same person who placed it ther...</td>\n",
       "      <td>https://twitter.com/elonmusk/status/1267157474...</td>\n",
       "      <td>2020-05-31 18:14:19+00:00</td>\n",
       "    </tr>\n",
       "    <tr>\n",
       "      <th>3</th>\n",
       "      <td>elonmusk</td>\n",
       "      <td>1267156817295085575</td>\n",
       "      <td>Rogozin</td>\n",
       "      <td>1209</td>\n",
       "      <td>7558</td>\n",
       "      <td>[]</td>\n",
       "      <td>NaN</td>\n",
       "      <td>Спасибо, сэр, ха-ха. Мы рассчитываем на взаимо...</td>\n",
       "      <td>https://twitter.com/elonmusk/status/1267156817...</td>\n",
       "      <td>2020-05-31 18:11:42+00:00</td>\n",
       "    </tr>\n",
       "    <tr>\n",
       "      <th>4</th>\n",
       "      <td>elonmusk</td>\n",
       "      <td>1267146619562201090</td>\n",
       "      <td>SpaceX</td>\n",
       "      <td>5576</td>\n",
       "      <td>67423</td>\n",
       "      <td>[]</td>\n",
       "      <td>@Space_Station</td>\n",
       "      <td>Congratulations Bob &amp; Doug on docking &amp; hatch ...</td>\n",
       "      <td>https://twitter.com/elonmusk/status/1267146619...</td>\n",
       "      <td>2020-05-31 17:31:11+00:00</td>\n",
       "    </tr>\n",
       "    <tr>\n",
       "      <th>5</th>\n",
       "      <td>elonmusk</td>\n",
       "      <td>1267057495773675521</td>\n",
       "      <td>TeslaGong</td>\n",
       "      <td>81</td>\n",
       "      <td>3948</td>\n",
       "      <td>[]</td>\n",
       "      <td>NaN</td>\n",
       "      <td>Sure</td>\n",
       "      <td>https://twitter.com/elonmusk/status/1267057495...</td>\n",
       "      <td>2020-05-31 11:37:02+00:00</td>\n",
       "    </tr>\n",
       "    <tr>\n",
       "      <th>6</th>\n",
       "      <td>elonmusk</td>\n",
       "      <td>1267056905601638404</td>\n",
       "      <td>TeslaTested</td>\n",
       "      <td>1650</td>\n",
       "      <td>84762</td>\n",
       "      <td>[]</td>\n",
       "      <td>NaN</td>\n",
       "      <td>Probably</td>\n",
       "      <td>https://twitter.com/elonmusk/status/1267056905...</td>\n",
       "      <td>2020-05-31 11:34:41+00:00</td>\n",
       "    </tr>\n",
       "    <tr>\n",
       "      <th>7</th>\n",
       "      <td>elonmusk</td>\n",
       "      <td>1267056312497721344</td>\n",
       "      <td>SpaceX</td>\n",
       "      <td>16259</td>\n",
       "      <td>149590</td>\n",
       "      <td>[]</td>\n",
       "      <td>@Space_Station</td>\n",
       "      <td>Dragon docks with @Space_Station in ~3 hours</td>\n",
       "      <td>https://twitter.com/elonmusk/status/1267056312...</td>\n",
       "      <td>2020-05-31 11:32:20+00:00</td>\n",
       "    </tr>\n",
       "    <tr>\n",
       "      <th>8</th>\n",
       "      <td>elonmusk</td>\n",
       "      <td>1266890648587776003</td>\n",
       "      <td>NASA</td>\n",
       "      <td>4042</td>\n",
       "      <td>64610</td>\n",
       "      <td>[]</td>\n",
       "      <td>NaN</td>\n",
       "      <td>Dragonship Endeavor</td>\n",
       "      <td>https://twitter.com/elonmusk/status/1266890648...</td>\n",
       "      <td>2020-05-31 00:34:02+00:00</td>\n",
       "    </tr>\n",
       "    <tr>\n",
       "      <th>9</th>\n",
       "      <td>elonmusk</td>\n",
       "      <td>1266811094527508481</td>\n",
       "      <td>NaN</td>\n",
       "      <td>54238</td>\n",
       "      <td>862612</td>\n",
       "      <td>[]</td>\n",
       "      <td>NaN</td>\n",
       "      <td>5 mins to T-0</td>\n",
       "      <td>https://twitter.com/elonmusk/status/1266811094...</td>\n",
       "      <td>2020-05-30 19:17:55+00:00</td>\n",
       "    </tr>\n",
       "    <tr>\n",
       "      <th>10</th>\n",
       "      <td>elonmusk</td>\n",
       "      <td>1266695491879911424</td>\n",
       "      <td>engineers_feed</td>\n",
       "      <td>2514</td>\n",
       "      <td>61568</td>\n",
       "      <td>[]</td>\n",
       "      <td>NaN</td>\n",
       "      <td>Falcon/Dragon are designed to withstand multip...</td>\n",
       "      <td>https://twitter.com/elonmusk/status/1266695491...</td>\n",
       "      <td>2020-05-30 11:38:33+00:00</td>\n",
       "    </tr>\n",
       "    <tr>\n",
       "      <th>11</th>\n",
       "      <td>elonmusk</td>\n",
       "      <td>1266694593480929282</td>\n",
       "      <td>Commercial_Crew</td>\n",
       "      <td>2632</td>\n",
       "      <td>26203</td>\n",
       "      <td>[]</td>\n",
       "      <td>NaN</td>\n",
       "      <td>Proceeding with countdown today, weather cance...</td>\n",
       "      <td>https://twitter.com/elonmusk/status/1266694593...</td>\n",
       "      <td>2020-05-30 11:34:59+00:00</td>\n",
       "    </tr>\n",
       "    <tr>\n",
       "      <th>12</th>\n",
       "      <td>elonmusk</td>\n",
       "      <td>1266678248072757248</td>\n",
       "      <td>fermatslibrary</td>\n",
       "      <td>157</td>\n",
       "      <td>4950</td>\n",
       "      <td>[]</td>\n",
       "      <td>NaN</td>\n",
       "      <td>Yes</td>\n",
       "      <td>https://twitter.com/elonmusk/status/1266678248...</td>\n",
       "      <td>2020-05-30 10:30:02+00:00</td>\n",
       "    </tr>\n",
       "    <tr>\n",
       "      <th>13</th>\n",
       "      <td>elonmusk</td>\n",
       "      <td>1266436499341545472</td>\n",
       "      <td>cleantechnica</td>\n",
       "      <td>477</td>\n",
       "      <td>11566</td>\n",
       "      <td>[]</td>\n",
       "      <td>NaN</td>\n",
       "      <td>Worth noting that, as of Jan 1, Tesla buyers n...</td>\n",
       "      <td>https://twitter.com/elonmusk/status/1266436499...</td>\n",
       "      <td>2020-05-29 18:29:25+00:00</td>\n",
       "    </tr>\n",
       "    <tr>\n",
       "      <th>14</th>\n",
       "      <td>elonmusk</td>\n",
       "      <td>1266194688077422609</td>\n",
       "      <td>Erdayastronaut</td>\n",
       "      <td>159</td>\n",
       "      <td>4100</td>\n",
       "      <td>[]</td>\n",
       "      <td>NaN</td>\n",
       "      <td>We slowed down a bit to allow Supercharger V3 ...</td>\n",
       "      <td>https://twitter.com/elonmusk/status/1266194688...</td>\n",
       "      <td>2020-05-29 02:28:33+00:00</td>\n",
       "    </tr>\n",
       "  </tbody>\n",
       "</table>\n",
       "</div>"
      ],
      "text/plain": [
       "    username             tweet_id         reply_to  retweets  favorites  \\\n",
       "0   elonmusk  1267180654896254976           SpaceX     22581     250519   \n",
       "1   elonmusk  1267160409498357764  NASASpaceflight        81       2494   \n",
       "2   elonmusk  1267157474886455296  NASASpaceflight       708      14436   \n",
       "3   elonmusk  1267156817295085575          Rogozin      1209       7558   \n",
       "4   elonmusk  1267146619562201090           SpaceX      5576      67423   \n",
       "5   elonmusk  1267057495773675521        TeslaGong        81       3948   \n",
       "6   elonmusk  1267056905601638404      TeslaTested      1650      84762   \n",
       "7   elonmusk  1267056312497721344           SpaceX     16259     149590   \n",
       "8   elonmusk  1266890648587776003             NASA      4042      64610   \n",
       "9   elonmusk  1266811094527508481              NaN     54238     862612   \n",
       "10  elonmusk  1266695491879911424   engineers_feed      2514      61568   \n",
       "11  elonmusk  1266694593480929282  Commercial_Crew      2632      26203   \n",
       "12  elonmusk  1266678248072757248   fermatslibrary       157       4950   \n",
       "13  elonmusk  1266436499341545472    cleantechnica       477      11566   \n",
       "14  elonmusk  1266194688077422609   Erdayastronaut       159       4100   \n",
       "\n",
       "   hashtags        mentions  \\\n",
       "0        []             NaN   \n",
       "1        []             NaN   \n",
       "2        []             NaN   \n",
       "3        []             NaN   \n",
       "4        []  @Space_Station   \n",
       "5        []             NaN   \n",
       "6        []             NaN   \n",
       "7        []  @Space_Station   \n",
       "8        []             NaN   \n",
       "9        []             NaN   \n",
       "10       []             NaN   \n",
       "11       []             NaN   \n",
       "12       []             NaN   \n",
       "13       []             NaN   \n",
       "14       []             NaN   \n",
       "\n",
       "                                                 text  \\\n",
       "0                                    Nine years later   \n",
       "1                  Must be due to relativistic aging    \n",
       "2   Brought home by same person who placed it ther...   \n",
       "3   Спасибо, сэр, ха-ха. Мы рассчитываем на взаимо...   \n",
       "4   Congratulations Bob & Doug on docking & hatch ...   \n",
       "5                                                Sure   \n",
       "6                                            Probably   \n",
       "7        Dragon docks with @Space_Station in ~3 hours   \n",
       "8                                 Dragonship Endeavor   \n",
       "9                                       5 mins to T-0   \n",
       "10  Falcon/Dragon are designed to withstand multip...   \n",
       "11  Proceeding with countdown today, weather cance...   \n",
       "12                                                Yes   \n",
       "13  Worth noting that, as of Jan 1, Tesla buyers n...   \n",
       "14  We slowed down a bit to allow Supercharger V3 ...   \n",
       "\n",
       "                                            permalink  \\\n",
       "0   https://twitter.com/elonmusk/status/1267180654...   \n",
       "1   https://twitter.com/elonmusk/status/1267160409...   \n",
       "2   https://twitter.com/elonmusk/status/1267157474...   \n",
       "3   https://twitter.com/elonmusk/status/1267156817...   \n",
       "4   https://twitter.com/elonmusk/status/1267146619...   \n",
       "5   https://twitter.com/elonmusk/status/1267057495...   \n",
       "6   https://twitter.com/elonmusk/status/1267056905...   \n",
       "7   https://twitter.com/elonmusk/status/1267056312...   \n",
       "8   https://twitter.com/elonmusk/status/1266890648...   \n",
       "9   https://twitter.com/elonmusk/status/1266811094...   \n",
       "10  https://twitter.com/elonmusk/status/1266695491...   \n",
       "11  https://twitter.com/elonmusk/status/1266694593...   \n",
       "12  https://twitter.com/elonmusk/status/1266678248...   \n",
       "13  https://twitter.com/elonmusk/status/1266436499...   \n",
       "14  https://twitter.com/elonmusk/status/1266194688...   \n",
       "\n",
       "                        Time  \n",
       "0  2020-05-31 19:46:25+00:00  \n",
       "1  2020-05-31 18:25:58+00:00  \n",
       "2  2020-05-31 18:14:19+00:00  \n",
       "3  2020-05-31 18:11:42+00:00  \n",
       "4  2020-05-31 17:31:11+00:00  \n",
       "5  2020-05-31 11:37:02+00:00  \n",
       "6  2020-05-31 11:34:41+00:00  \n",
       "7  2020-05-31 11:32:20+00:00  \n",
       "8  2020-05-31 00:34:02+00:00  \n",
       "9  2020-05-30 19:17:55+00:00  \n",
       "10 2020-05-30 11:38:33+00:00  \n",
       "11 2020-05-30 11:34:59+00:00  \n",
       "12 2020-05-30 10:30:02+00:00  \n",
       "13 2020-05-29 18:29:25+00:00  \n",
       "14 2020-05-29 02:28:33+00:00  "
      ]
     },
     "execution_count": 48,
     "metadata": {},
     "output_type": "execute_result"
    }
   ],
   "source": [
    "elon_tweets_df.head(15)"
   ]
  },
  {
   "cell_type": "code",
   "execution_count": 51,
   "metadata": {},
   "outputs": [],
   "source": [
    "elon_replies_df = elon_tweets_df.loc[elon_tweets_df['reply_to'].notna()]\n",
    "elon_mentions_df = elon_tweets_df.loc[elon_tweets_df['mentions'].notna()]"
   ]
  },
  {
   "cell_type": "code",
   "execution_count": 57,
   "metadata": {},
   "outputs": [
    {
     "data": {
      "text/plain": [
       "Int64Index([   4,    7,   31,   63,  187,  209,  360,  381,  392,  429,\n",
       "            ...\n",
       "            9739, 9755, 9756, 9761, 9762, 9777, 9778, 9779, 9780, 9795],\n",
       "           dtype='int64', length=821)"
      ]
     },
     "execution_count": 57,
     "metadata": {},
     "output_type": "execute_result"
    }
   ],
   "source": [
    "elon_mentions_df.index"
   ]
  },
  {
   "cell_type": "code",
   "execution_count": null,
   "metadata": {},
   "outputs": [],
   "source": []
  }
 ],
 "metadata": {
  "kernelspec": {
   "display_name": "Python 3",
   "language": "python",
   "name": "python3"
  },
  "language_info": {
   "codemirror_mode": {
    "name": "ipython",
    "version": 3
   },
   "file_extension": ".py",
   "mimetype": "text/x-python",
   "name": "python",
   "nbconvert_exporter": "python",
   "pygments_lexer": "ipython3",
   "version": "3.8.1"
  }
 },
 "nbformat": 4,
 "nbformat_minor": 4
}
